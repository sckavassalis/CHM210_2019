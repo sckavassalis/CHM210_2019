{
 "cells": [
  {
   "cell_type": "markdown",
   "metadata": {},
   "source": [
    "# CHM210 Assignment 5: Water Contamination and Treatment\n",
    "\n",
    "Welcome to the fifth assignment for CHM210. We are going to use a <a href=\"https://jupyter4edu.github.io/jupyter-edu-book/\">Jupyter notebook</a> with Python to learn about lead contamination in drinking water. All of your answers will be completed within this document (changes you make are saved into your personal https://utoronto.syzygy.ca account, so don't worry about editing this file). There are a lot of free, online resources out there to help you with Jupyter and Python. I recommend Christian Hill's <a href=\"https://scipython.com/book/\">\"Learning Scientific Programming with Python\"</a>. The chemistry content of this assignment should follow your textbook (Chapter 12 in Baird and Cann, 5th edition).\n",
    "\n",
    "First things first, we need to import the Python modules we will be using for this assignment. Press the \"Run\" button (or ctrl-enter) on the box below to import the packages we need. If done successfully, the \"You have imported the above modules!\" text will display below. "
   ]
  },
  {
   "cell_type": "code",
   "execution_count": 16,
   "metadata": {},
   "outputs": [
    {
     "name": "stdout",
     "output_type": "stream",
     "text": [
      "You have imported the above modules!\n"
     ]
    }
   ],
   "source": [
    "# lines that start with a \"#\" character are comments\n",
    "# Python doesn't read comments as code, but they are helpful for us, the readers and writers, so we can remember why we have written code a particular way\n",
    "# the import statements are how we add the specific packages we want to use\n",
    "# when we write \"import YYYYYY as Y\", we are creating a shortform \"Y\" that we can use to reference the package \"YYYYYY\"  \n",
    "import math as m\n",
    "import numpy as np\n",
    "\n",
    "from IPython.display import clear_output, display, HTML\n",
    "# below is a simple print statement that will appear as text when we run this box of code\n",
    "# you can easily change what text prints here by editing the words between the \"\"\n",
    "print(\"You have imported the above modules!\")"
   ]
  },
  {
   "cell_type": "markdown",
   "metadata": {},
   "source": [
    "# Lead in Drinking-Water Systems\n",
    "\n"
   ]
  },
  {
   "cell_type": "markdown",
   "metadata": {},
   "source": [
    "# Q1. What are the two common ionic forms of lead? <i>(1 mark)</i>\n",
    "\n",
    "# Answer to Q1.\n",
    "***"
   ]
  },
  {
   "cell_type": "markdown",
   "metadata": {},
   "source": [
    "$Pb^{2+}$ and $Pb^{4+}$"
   ]
  },
  {
   "cell_type": "markdown",
   "metadata": {},
   "source": [
    "***\n",
    "# Q2a. Explain why lead can dissolve under some circumstances (ie. in a can of fruit juice) but not in others (ie. in a lead battery containing $H_2SO_4$). You need to reference explicit chemistry in your explanation (write down the relevant reactions that take lead as a solid to lead in the aqueous phase) <i> (4 marks) </i>\n",
    "# Answer to Q2a. \n",
    "***"
   ]
  },
  {
   "cell_type": "markdown",
   "metadata": {},
   "source": [
    "The difference between these two situations is the presence of oxygen. Elemental lead ($Pb^0$) doesn't react with sulfuric acid at the concentration found in batteries because it is sealed from air and remains in the $Pb(0)$ form. When lead is exposed to air, as is the case in the example discussed in your text book about lead solder used to seal food tins, it becomes soluble through the following oxidation reaction in the presence of dilute acids,\n",
    "\\begin{align}\n",
    "2Pb_{(s)} + O_2 + 4H^{+} \\rightarrow 2Pb^{2+}_{(aq)} +2H_2O \n",
    "\\end{align}\n",
    "It is the $Pb^{2+}$ that is mobile and a food contaminant. "
   ]
  },
  {
   "cell_type": "markdown",
   "metadata": {},
   "source": [
    "***\n",
    "# Q2b. For 50 years, Flint, Michigan had been sourcing their drinking water from Detroit. In 2014, they switched their source water from Detroit to the Flint River. Why did this change cause the drinking water crisis to occur? Explain, with reference to explicit chemistry, how changing the source water alone would cause the lead levels in drinking water to greatly increase? <i>(3 marks)</i>\n",
    "\n",
    "# Answer to Q2b.\n",
    "***"
   ]
  },
  {
   "cell_type": "markdown",
   "metadata": {},
   "source": [
    "This image from the <a href=\"https://www.acs.org/content/acs/en/education/resources/highschool/chemmatters/past-issues/2016-2017/december-2016/flint-water-crisis.html\">ACS</a> is a helpful visual to explain what happened to the lead and iron pipes when the water supply was switched.\n",
    "<img src=\"https://www.acs.org/content/acs/en/education/resources/highschool/chemmatters/past-issues/2016-2017/december-2016/flint-water-crisis/_jcr_content/articleContent/columnsbootstrap/column0/image_1497302240.img.jpg/1479938227430.jpg\" alt = \"\">\n",
    "There were several factors that caused the pipes to leach lead. \n",
    "\n",
    "1) The water from the Detroit river was treated with a phosphate corrosion inhibitor to prevent the pipe passivation layer (lead mineral scale) from dissolving and mobilizing the lead while the water from the Flint river was not. ie.\n",
    "<img src=\"http://individual.utoronto.ca/sck/CHM210/A5_Q3a.png\" alt = \"\">\n",
    "\n",
    "2) The water from the Flint river was more acidic, which allowed $PbCO_{3(s)}$ (mineral scale) to dissolve more readily (even though solubility is relatively low) via,\n",
    "<img src=\"http://individual.utoronto.ca/sck/CHM210/A5_Q3d.png\" alt = \"\">"
   ]
  },
  {
   "cell_type": "markdown",
   "metadata": {},
   "source": [
    "***\n",
    "# Q3. The <a href=\"https://www.thestar.com/news/investigations/2019/11/04/is-there-lead-in-your-water-canada-wide-investigation-exposes-chronic-extreme-exceedances-of-toxic-metal.html\">Toronto Star</a> reported that one tap in Edmonton was pouring drinking water with 428 ppb of lead in it (that's 86 x the federal guideline!). If an adult drinks 2 L of water a day, calculate the total mass of lead that a person drinking from this water source would consume every day. <i>(3 marks)</i>\n",
    "\n",
    "# Answer to Q3.\n",
    "***"
   ]
  },
  {
   "cell_type": "code",
   "execution_count": 4,
   "metadata": {},
   "outputs": [
    {
     "name": "stdout",
     "output_type": "stream",
     "text": [
      "0.000856 grams of lead per day, or, 0.856 mg of lead per day\n"
     ]
    }
   ],
   "source": [
    "#For water, 428 ppb means 428 g of lead per 10^9 g of water\n",
    "lead_mixing_ratio = 428/10**9 #428 g lead/10^9 g of water\n",
    "#The mass of 2L of water is ~2000g\n",
    "mass_of_water = 2000 #g\n",
    "#The mass of lead in a daily serving of water is...\n",
    "print(mass_of_water*lead_mixing_ratio,\"grams of lead per day, or,\",mass_of_water*lead_mixing_ratio*1000, \"mg of lead per day\")"
   ]
  },
  {
   "cell_type": "markdown",
   "metadata": {},
   "source": [
    "***\n",
    "# Q4. Suggest 1 way to remove lead from drinking water (water that already has $Pb^{2+}$ in it) and 1 way to prevent lead from getting into drinking water (for a municipality that already has lead pipes). Explain why each of these should work. <i>(4 marks)</i>\n",
    "\n",
    "# Answer to Q4.\n",
    "***"
   ]
  },
  {
   "cell_type": "markdown",
   "metadata": {},
   "source": [
    "To remove lead from drinking water, you could use nanofiltration or reverse osmosis (hyperfiltration). You could also add phosphate to try to precipitate out iron phosphate solids which would be then removable by microfiltration.\n",
    "\n",
    "To prevent lead from leaching out of lead pipes, the use of phosphate buffers or other pH control techiques can be effective. \n",
    "\n",
    "Any reasonable answer consistent with course material is accepted here."
   ]
  },
  {
   "cell_type": "markdown",
   "metadata": {},
   "source": [
    "***\n",
    "# Q5a. Natural waters in contact with insoluble $PbS$ can have high levels of $Pb^{2+}$ in them too. Write a net equilibrium reaction that takes into account the below solubility and acid-base reactions. <i>(1 mark)</i>\n",
    "\n",
    "<img src=\"http://individual.utoronto.ca/sck/CHM210/A5_q5.png\" alt = \"\">\n",
    "\n",
    "# Answer to Q5a.\n",
    "***"
   ]
  },
  {
   "cell_type": "markdown",
   "metadata": {},
   "source": [
    "\n",
    "<img src=\"http://individual.utoronto.ca/sck/CHM210/A5_q5ab.png\" alt = \"\">"
   ]
  },
  {
   "cell_type": "markdown",
   "metadata": {},
   "source": [
    "***\n",
    "# Q5b. What is the net equilibrium constant for the above reactions <i>(1 mark)</i>?\n",
    "# Answer to Q5b.\n",
    "***"
   ]
  },
  {
   "cell_type": "markdown",
   "metadata": {},
   "source": [
    "\\begin{align}\n",
    "K_{net} &= K_{sp}K_{a_1}K_{a_2} \\\\\n",
    "&= (8.4\\times10^{-28}) \\times( 7.7\\times10^{12}) \\times( 1.0\\times10^7) \\\\\n",
    "& = 6.5 \\times 10^{-8}\n",
    "\\end{align}\n",
    "\n",
    "Alternatively,\n",
    "\\begin{align}\n",
    "K_{net} = \\frac{[Pb^{2+}][H_2S]}{[H^+]^2}\n",
    "\\end{align}"
   ]
  },
  {
   "cell_type": "markdown",
   "metadata": {},
   "source": [
    "***\n",
    "# Q5c. Write a function that calculates the concentration of $Pb^{2+}$ as a function of pH <i>(3 marks)</i>\n",
    "# Answer to Q5c.\n",
    "***"
   ]
  },
  {
   "cell_type": "code",
   "execution_count": 17,
   "metadata": {},
   "outputs": [],
   "source": [
    "#this function will take in a given pH value and return the concentration of Pb^2+ in units of mol/L\n",
    "def Pb_conc(pH):\n",
    "    Ksp = 8.4*10**(-28)\n",
    "    Ka1 = 7.7*10**(12)\n",
    "    Ka2 = 1.0*10**(7)\n",
    "    Knet = Ksp*Ka1*Ka2\n",
    "    H = 10**(-pH)\n",
    "    #from stoichiometry, H2S = Pb2+, so we can write Knet = [Pb2+]^2/[H+]^2, or...\n",
    "    Pb = m.sqrt(Knet)*H\n",
    "    return Pb"
   ]
  },
  {
   "cell_type": "markdown",
   "metadata": {},
   "source": [
    "***\n",
    "# Q5d. Test your above function at different pHs and explain, with reference to relevant chemistry, why acidification of natural waters can lead to increased lead exposure. <i>(3 marks)</i>\n",
    "# Answer to Q5d.\n",
    "***"
   ]
  },
  {
   "cell_type": "code",
   "execution_count": 18,
   "metadata": {},
   "outputs": [
    {
     "name": "stdout",
     "output_type": "stream",
     "text": [
      "if pH = 3, [Pb2+]= 2.5432262974418935e-07 M\n",
      "if pH = 5, [Pb2+]= 2.5432262974418937e-09 M\n",
      "if pH = 7, [Pb2+]= 2.5432262974418933e-11 M\n",
      "if pH = 9, [Pb2+]= 2.5432262974418936e-13 M\n"
     ]
    }
   ],
   "source": [
    "##test your function at pH 3,5,7, and 9\n",
    "print(\"if pH = 3, [Pb2+]=\", Pb_conc(3), \"M\")\n",
    "print(\"if pH = 5, [Pb2+]=\", Pb_conc(5), \"M\")\n",
    "print(\"if pH = 7, [Pb2+]=\", Pb_conc(7), \"M\")\n",
    "print(\"if pH = 9, [Pb2+]=\", Pb_conc(9), \"M\")"
   ]
  },
  {
   "cell_type": "markdown",
   "metadata": {},
   "source": [
    "We can see that as pH decreases, the amount of solubilized lead increases substantially. This makes sense when we look at the net reaction, \n",
    "<img src=\"http://individual.utoronto.ca/sck/CHM210/A5_q5ab.png\" alt = \"\">\n",
    "The more $H^{+}$ present, the more $PbS$ can be dissolved. So the acidification of natural waters will lead to more $Pb^{2+}$ present which can lead to greater human exposure."
   ]
  },
  {
   "cell_type": "markdown",
   "metadata": {},
   "source": [
    "***\n",
    "***\n",
    "When you have finished your assignment, you need to save it as a PDF and submit that PDF on Quercus. In your Jupyter Notebook, goto File --> Download ad --> PDF via LaTeX (.pdf)\n",
    "<img src=\"http://individual.utoronto.ca/sck/CHM210/save2pdf.jpg\">\n",
    "\n",
    "If you have technical questions related to Python or Jupyter, contact Sarah Kavassalis (sarah.kavassalis@mail.utoronto.ca).\n"
   ]
  }
 ],
 "metadata": {
  "kernelspec": {
   "display_name": "Python 3",
   "language": "python",
   "name": "python3"
  },
  "language_info": {
   "codemirror_mode": {
    "name": "ipython",
    "version": 3
   },
   "file_extension": ".py",
   "mimetype": "text/x-python",
   "name": "python",
   "nbconvert_exporter": "python",
   "pygments_lexer": "ipython3",
   "version": "3.7.3"
  }
 },
 "nbformat": 4,
 "nbformat_minor": 2
}
