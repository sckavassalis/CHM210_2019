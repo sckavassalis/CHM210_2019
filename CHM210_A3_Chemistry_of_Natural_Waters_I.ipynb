{
 "cells": [
  {
   "cell_type": "markdown",
   "metadata": {},
   "source": [
    "# CHM210 Assignment 3: Chemistry of Natural Waters, I\n",
    "\n",
    "Welcome to the third assignment for CHM210. We are going to use a <a href=\"https://jupyter4edu.github.io/jupyter-edu-book/\">Jupyter notebook</a> with Python to investigate some properties of natural waters and redox chemistry. All of your answers will be completed within this document (changes you make are saved into your personal https://utoronto.syzygy.ca account, so don't worry about editing this file). There are a lot of free, online resources out there to help you with Jupyter and Python. I recommend Christian Hill's <a href=\"https://scipython.com/book/\">\"Learning Scientific Programming with Python\"</a>. The chemistry content of this assignment should follow your textbook and lecture notes (Chapter 10 in Baird and Cann, 5th edition).\n",
    "\n",
    "After completing this assignment, you should be able to convert between absolute concentrations and mixing ratios in an aqueous environment (this is different than in the gas phase!), work with Henry's law constants, understand what is meant by thermal pollution, describe how the solubility of gases changes with temperature, calculate the pE for a given half reaction, and interpret a pE-pH diagram. You will also gain more familiarity with using Python to perform simple calculations.\n",
    "\n",
    "First things first, we need to import the Python modules we will be using for this assignment. Press the \"Run\" button (or ctrl-enter) on the box below to import the packages we need. If done successfully, the \"You have imported the above modules!\" text will display below. \n",
    "\n",
    "## Importing Python modules"
   ]
  },
  {
   "cell_type": "code",
   "execution_count": null,
   "metadata": {},
   "outputs": [],
   "source": [
    "# lines that start with a \"#\" character are comments (Python doesn't treat them as code, but they are helpful for including explanations of why we have written code a particular way)\n",
    "# the import statements are how we add the specific packages we want to use\n",
    "# when we write \"import YYYYYY as Y\", we are creating a shortform \"Y\" that we can use to reference the package \"YYYYYY\"  \n",
    "import matplotlib.pyplot as plt\n",
    "import math as m\n",
    "import numpy as np\n",
    "import os\n",
    "\n",
    "%matplotlib inline\n",
    "from ipywidgets import interact, interactive\n",
    "from IPython.display import clear_output, display, HTML\n",
    "# below is a simple print statement that will appear as text when we run this box of code\n",
    "# you can easily change what text prints here by editing the words between the \"\"\n",
    "print(\"You have imported the above modules!\")"
   ]
  },
  {
   "cell_type": "markdown",
   "metadata": {},
   "source": [
    "# Unit Conversions\n",
    "If we want to talk about trace substances dissolved in water, we need to get comfortable with units. The \"parts per\" scale is commonly used here, but the meaning in the aqueous phase is different than the one we're now familiar  with in the gas phase.\n",
    "\n",
    "When we talk about a mixing ratio of a solute in a solvent, we are talking about the ratio of the <b>mass of solute</b> to the <b>mass of solution</b>. This is different than in the gas-phase, where the mixing ratio was the ratio of the moles (or molecules) of a trace gas to the total moles (or molecules) of air.\n",
    "\n",
    "Your textbook has a short discussion on pages 411-412 (5th edition) that will help you with these unit conversions.\n",
    "\n",
    "Let's do an example together:\n",
    "## For an aqueous solution, convert $0.04 \\mu g$ $L^{-1}$ to ppm\n",
    "\n",
    "First, recall that the mass of 1 L of natural water is approximately 1 kg (none of the dissolved gases or contaminants that we're discussing in this course appreciably change the density of the solution). There are several ways to approach these units conversions (depending on what units you choose to work in). This is one example."
   ]
  },
  {
   "cell_type": "code",
   "execution_count": null,
   "metadata": {},
   "outputs": [],
   "source": [
    "# convert volume to mass of solution via density\n",
    "density_solution = 1 # kg/L\n",
    "volume_solution = 1 # L\n",
    "mass_solution = density_solution*volume_solution\n",
    "print(\"mass of solution = \",mass_solution,\"kg\")"
   ]
  },
  {
   "cell_type": "markdown",
   "metadata": {},
   "source": [
    "So we know we have $0.04 \\mu g$ of some solute in approximately $1 kg$ of solution. If we want the mixing ratio, we need common units."
   ]
  },
  {
   "cell_type": "code",
   "execution_count": null,
   "metadata": {},
   "outputs": [],
   "source": [
    "# let's define our unit conversion\n",
    "kg_to_µg = 1E9 #1x10^9 µg / 1kg\n",
    "# and now we can convert our mass from kg to µg\n",
    "mass_solution_µg = kg_to_µg * mass_solution\n",
    "print(\"mass of solution = \",mass_solution_µg,\"µg\")"
   ]
  },
  {
   "cell_type": "markdown",
   "metadata": {},
   "source": [
    "Now that we have common units, we can arrive at a mixing ratio."
   ]
  },
  {
   "cell_type": "code",
   "execution_count": null,
   "metadata": {},
   "outputs": [],
   "source": [
    "mass_solute_µg = 0.04 # µg\n",
    "mixing_ratio = mass_solute_µg/mass_solution_µg\n",
    "print(\"mixing ratio = \",mixing_ratio,\"µg/µg\")"
   ]
  },
  {
   "cell_type": "markdown",
   "metadata": {},
   "source": [
    "This is a mixing ratio, but it's not on the \"parts per million\" (ppm) scale. The ppm scale means that we want to know the ratio of mass of solute to mass of solution if we had $10^6$ mass units of solution.\n",
    "\\begin{align}\n",
    "\\frac{\\text{mass of solute}}{\\text{mass of solution}} = \\frac{x}{10^6}\n",
    "\\end{align}\n",
    "We can simply see how to solve for $x$."
   ]
  },
  {
   "cell_type": "code",
   "execution_count": null,
   "metadata": {},
   "outputs": [],
   "source": [
    "mixing_ratio_ppm = mixing_ratio*1E6\n",
    "print(\"mixing ratio = \",mixing_ratio_ppm,\"ppm\")"
   ]
  },
  {
   "cell_type": "markdown",
   "metadata": {},
   "source": [
    "If we wanted to convert  this into ppb, we can do that too,"
   ]
  },
  {
   "cell_type": "code",
   "execution_count": null,
   "metadata": {},
   "outputs": [],
   "source": [
    "mixing_ratio_ppb = mixing_ratio*1E9\n",
    "print(\"mixing ratio = \",mixing_ratio_ppb,\"ppb\")"
   ]
  },
  {
   "cell_type": "markdown",
   "metadata": {},
   "source": [
    "0.04 ppb is an easier number to picture for most of us (and write down) than $4\\times10^{-11}$, so the \"parts per\" scale is useful conceptually and when communicating this kind of information to others.\n",
    "\n",
    "\n",
    "To answer the first question of the assignment, notice that the only thing different from our example is the mass of solute. Change the \"ENTER_A_VALUE_HERE\" text to the correct number to answer the question."
   ]
  },
  {
   "cell_type": "markdown",
   "metadata": {},
   "source": [
    "***\n",
    "# Q1a. For an aqueous solution, convert $0.1 \\mu g$ $L^{-1}$ to ppm <i>(1 mark)</i>\n",
    "# Answer to Q1a :\n",
    "***"
   ]
  },
  {
   "cell_type": "code",
   "execution_count": null,
   "metadata": {},
   "outputs": [],
   "source": [
    "mass_solute_Q1a_µg = ENTER_A_VALUE_HERE # µg\n",
    "mixing_ratio_Q1a = mass_solute_Q1a_µg/mass_solution_µg\n",
    "mixing_ratio_Q1a_ppm = mixing_ratio_Q1a*1E6\n",
    "print(\"mixing ratio = \",mixing_ratio_Q1a_ppm,\"ppm\")"
   ]
  },
  {
   "cell_type": "markdown",
   "metadata": {},
   "source": [
    "***\n",
    "# Q1b. For an aqueous solution, convert $0.1 \\mu g$ $L^{-1}$ to ppb <i>(1 mark)</i>\n",
    "# Answer to Q1b :\n",
    "***"
   ]
  },
  {
   "cell_type": "code",
   "execution_count": null,
   "metadata": {},
   "outputs": [],
   "source": [
    "mixing_ratio_Q1b_ppb = mixing_ratio_Q1a*ENTER_A_VALUE_HERE\n",
    "print(\"mixing ratio = \",mixing_ratio_Q1b_ppb,\"ppb\")"
   ]
  },
  {
   "cell_type": "markdown",
   "metadata": {},
   "source": [
    "## ***\n",
    "# Q1c. For an aqueous solution, convert $0.03 \\mu g$ $g^{-1}$ to ppm <i>(2 marks)</i>\n",
    "# Answer to Q1c :\n",
    "***"
   ]
  },
  {
   "cell_type": "code",
   "execution_count": null,
   "metadata": {},
   "outputs": [],
   "source": [
    "# first identify the mass of solution (in g)\n",
    "mass_solution_Q1c = ENTER_A_VALUE_HERE  # g\n",
    "# now write down the correct conversion ratio\n",
    "g_to_µg = ENTER_A_VALUE_HERE  #XXX µg / 1g\n",
    "# the mass of solution in ug can now be calculated\n",
    "mass_solution_Q1c_µg = g_to_µg * mass_solution_Q1c\n",
    "# now write down the mass of solute\n",
    "mass_solute_Q1c_µg = ENTER_A_VALUE_HERE  # µg\n",
    "# this will calculate the mixing ratio of solute to solution\n",
    "mixing_ratio_Q1c = mass_solute_Q1c_µg/mass_solution_Q1c_µg\n",
    "# now convert from that ratio to ppm\n",
    "mixing_ratio_Q1c_ppm = mixing_ratio_Q1c*ENTER_A_VALUE_HERE \n",
    "# print the answer\n",
    "print(\"mixing ratio = \",mixing_ratio_Q1c_ppm,\"ppm\")"
   ]
  },
  {
   "cell_type": "markdown",
   "metadata": {},
   "source": [
    "***\n",
    "# Q1d. For an aqueous solution, convert $7 ppb$ to the $\\mu g$ $L^{-1}$ scale <i>(2 marks)</i>\n",
    "# Answer to Q1d :\n",
    "***"
   ]
  },
  {
   "cell_type": "code",
   "execution_count": null,
   "metadata": {},
   "outputs": [],
   "source": [
    "# write down what we know (the mixing ratio in ppb)\n",
    "mixing_ratio_Q1d_ppb = ENTER_A_VALUE_HERE # ppb\n",
    "\n",
    "# now we'll work backwords. What's the mixing ratio in mass/mass?\n",
    "mixing_ratio_Q1d = mixing_ratio_Q1d_ppb/ENTER_A_VALUE_HERE\n",
    "\n",
    "# we also know the mass of solution\n",
    "mass_solution_Q1d= ENTER_A_VALUE_HERE #some units\n",
    "mass_solution_Q1d_µg = ENTER_A_VALUE_OR_EXPRESSION_HERE #want in µg \n",
    "\n",
    "# so the mass of solute can be simple obtained\n",
    "mass_solute_µg = mixing_ratio_Q1d*mass_solution_Q1d_µg\n",
    "print(\"7 ppb = \",mass_solute_µg,\"µg/L\")"
   ]
  },
  {
   "cell_type": "markdown",
   "metadata": {},
   "source": [
    "***\n",
    "# Q1e. For an aqueous solution, convert $.05 ppm$ to the $mg$  $g^{-1}$ scale <i>(3 marks)</i>\n",
    "# Answer to Q1e :\n",
    "***"
   ]
  },
  {
   "cell_type": "code",
   "execution_count": null,
   "metadata": {},
   "outputs": [],
   "source": [
    "# you're going to write this one yourself! Copy and paste from the above to get yourself started if needed."
   ]
  },
  {
   "cell_type": "markdown",
   "metadata": {},
   "source": [
    "An easy way to check that your code does what you think it does is by plugging in the numbers from the worked example above and making sure your answers agree."
   ]
  },
  {
   "cell_type": "markdown",
   "metadata": {},
   "source": [
    "# Solubility of Gases in Water\n",
    "When a volatile compound is dissolved in water, at equilibrium, the Henry's law constant represents the ratio between the concentration in solution and the partial pressure in the atmosphere. This can be very helpful if we know how much of a compound is in one media and want to know how much would be in the other. \n",
    "\n",
    "Consider the example of benzene, $C_6 H_6$, presented on pages 412-413 in your textbook (Henry's Law constants were introduced on page 116-117 if you need to review).\n",
    "\n",
    "At equilibrium,\n",
    "\\begin{align}\n",
    "\\left[C_6 H_6\\right]=K_H P_{C_6 H_6}\n",
    "\\end{align}\n",
    "\n",
    "Where $\\left[C_6 H_6\\right]$ is the concentration of benzene in water (typically in $mol/L$), $K_H$ is its Henry's Law constant, and $P_{C_6 H_6}$ is the partial pressure of benzene in the atmosphere.\n",
    "\n",
    "## If the mixing ratio of benzene in water is about 1000 ppm, what is the partial pressure of benzene in the atmosphere above the water?\n",
    "\n",
    "We know Henry's Law constants experimentally. In this case, $K_H = 0.18$ $mol$ $L^{-1}$ $atm^{-1}$. We need to convert 1000 ppm of benzene in water to a concentration in $mol/L$."
   ]
  },
  {
   "cell_type": "code",
   "execution_count": null,
   "metadata": {},
   "outputs": [],
   "source": [
    "# we need to convert from mixing ratio (mass/mass) to concentration (mass/volume)\n",
    "mixing_ratio_benzene_ppm = 1000 #ppm\n",
    "# as before, we can work backwords to find the the mixing ratio in mass/mass\n",
    "mixing_ratio_benzene = mixing_ratio_benzene_ppm/1E6\n",
    "#g/L would be useful units to end on, we we want to know the mass of solution in g\n",
    "mass_solution_g = 1000 #1 L = 1000g\n",
    "mass_benzene = mixing_ratio_benzene*mass_solution_g\n",
    "print(\"1000 ppm of benzene = \",mass_benzene,\"g/L\")"
   ]
  },
  {
   "cell_type": "markdown",
   "metadata": {},
   "source": [
    "Now to convert $g/L$ into $mol/L$"
   ]
  },
  {
   "cell_type": "code",
   "execution_count": null,
   "metadata": {},
   "outputs": [],
   "source": [
    "# we need the molar mass of benzene\n",
    "molar_mass_benzene = 78.12 # g mol^-1\n",
    "volume_solution = 1 #L\n",
    "# now the concentration in mol/L is given by\n",
    "concentration_benzene = mass_benzene/molar_mass_benzene/volume_solution \n",
    "print(\"1000 ppm of benzene = \",round(concentration_benzene,3),\"mol/L\")"
   ]
  },
  {
   "cell_type": "markdown",
   "metadata": {},
   "source": [
    "Now we can calculate the partial pressure of benzene above water at equilibrium."
   ]
  },
  {
   "cell_type": "code",
   "execution_count": null,
   "metadata": {},
   "outputs": [],
   "source": [
    "# we need to write the Henry's Law constant in a form Python can recognize\n",
    "K_H_benzene = 0.18 # mol L^-1 atm^-1\n",
    "# now we can calculate the partial pressure\n",
    "P_benzene = concentration_benzene/K_H_benzene\n",
    "print(\"partial pressure of benzene = \",round(P_benzene,2),\"atm\")"
   ]
  },
  {
   "cell_type": "markdown",
   "metadata": {},
   "source": [
    "What if we want to know the atmospheric mixing ratio of benzene in ppbv (parts per billion by volume)? Recall that partial pressure is directly related in atmospheric mixing ratios,\n",
    "\\begin{align}\n",
    "P_x = C_x \\times P\n",
    "\\end{align}\n",
    "Where $P_x$ is the partial pressure of a gas, $C_x$ is its atmospheric mixing ratio, and $P$ is the atmospheric pressure. "
   ]
  },
  {
   "cell_type": "code",
   "execution_count": null,
   "metadata": {},
   "outputs": [],
   "source": [
    "# if we assume P = 1 atm\n",
    "P_atmosphere = 1 # atm\n",
    "# then the atmospheric mixing ratio is just... the ratio of partial pressure to pressure\n",
    "mixing_ratio_benzene_atmosphere = P_benzene/P_atmosphere\n",
    "# if we want this in ppb,\n",
    "mixing_ratio_benzene_atmosphere_ppb = mixing_ratio_benzene_atmosphere*1E9\n",
    "print(\"partial pressure of benzene = \",round(P_benzene,2),\"atm which is the same as\", round(mixing_ratio_benzene_atmosphere_ppb,0), \"ppbv\")"
   ]
  },
  {
   "cell_type": "markdown",
   "metadata": {},
   "source": [
    "This is a very large number! Thankfully, the entire Earth's atmosphere is not at equilibirum with a water-body saturated in benzene, but large contamination events do occassionally occur, like the Deepwater Horizon spill in Gulf of Mexico in 2010, where extremely high pollution levels were detected in both the water and the atmosphere."
   ]
  },
  {
   "cell_type": "markdown",
   "metadata": {},
   "source": [
    "$$\\require{mhchem}$$  \n",
    "# Q2a. What is the solubility of $O_2$ in water at 25°C  (in units of $mg/L$)? <i>(2 marks)</i>\n",
    "We know,\n",
    "\\begin{align} \n",
    "\\ce{O_{2 (g)} <=> O_{2 (aq)}}\n",
    "\\end{align}\n",
    "And the Henry's law constant at 25°C is $K_H = 1.3 \\times 10^{-3}$ $mol$ $L^{-1}$ $atm^{-1}$. The solublity will be the concentration of $O_2$ dissolved in water at equilibirum with the atmosphere.\n",
    "# Answer to Q2a:\n",
    "***"
   ]
  },
  {
   "cell_type": "code",
   "execution_count": null,
   "metadata": {},
   "outputs": [],
   "source": [
    "# we need to write the Henry's Law constant in a form Python can recognize\n",
    "K_H_O2 = ENTER_A_VALUE_HERE # mol L^-1 atm^-1\n",
    "# and we already know the partial pressure of O2 in the (dry) atmosphere\n",
    "P_O2 = ENTER_A_VALUE_HERE\n",
    "# so we can calculate the concentration of O2 in solution\n",
    "concentration_O2 = ENTER_A_VALUE_OR_EXPRESSION_HERE # should be in mol/L\n",
    "# now we hav ea concentration in mol/L but we want it in mg/L\n",
    "molar_mass_oxygen_g = ENTER_A_VALUE_HERE # g mol^-1\n",
    "molar_mass_oxygen_mg = ENTER_A_VALUE_OR_EXPRESSION_HERE # mg mol^-1\n",
    "# now we can convert to g/L\n",
    "solubility_O2 = ENTER_A_VALUE_OR_EXPRESSION_HERE\n",
    "print(\"Solubility of oxygen in water = \",solubility_O2,\"mg/L\")"
   ]
  },
  {
   "cell_type": "markdown",
   "metadata": {},
   "source": [
    "# Q2b. What is the solubility of $O_2$ in water at 0°C  (in units of $mg/L$)? <i>(2 marks)</i>\n",
    "The Henry's law constant at 0°C is $K_H =  $ $mol$ $L^{-1}$ $atm^{-1}$. \n",
    "# Answer to Q2b:"
   ]
  },
  {
   "cell_type": "code",
   "execution_count": null,
   "metadata": {},
   "outputs": [],
   "source": [
    "# you're going to write this one yourself! Copy and paste from the above to get yourself started if needed."
   ]
  },
  {
   "cell_type": "markdown",
   "metadata": {},
   "source": [
    "# Q2c. What is the solubility of $CO_2$ in water at 25°C  (in units of $mg/L$)? <i>(2 marks)</i>\n",
    "The Henry's law constant at 25°C is $K_H =  $ $mol$ $L^{-1}$ $atm^{-1}$. \n",
    "# Answer to Q2c:"
   ]
  },
  {
   "cell_type": "code",
   "execution_count": null,
   "metadata": {},
   "outputs": [],
   "source": [
    "# you're going to write this one yourself! Copy and paste from the above to get yourself started if needed."
   ]
  },
  {
   "cell_type": "markdown",
   "metadata": {},
   "source": [
    "# Q2d. What is the solubility of $CO_2$ in water at 0°C  (in units of $mg/L$)? <i>(1 mark)</i>\n",
    "The Henry's law constant at 0°C is $K_H =  $ $mol$ $L^{-1}$ $atm^{-1}$. \n",
    "# Answer to Q2d:"
   ]
  },
  {
   "cell_type": "code",
   "execution_count": null,
   "metadata": {},
   "outputs": [],
   "source": [
    "# you're going to write this one yourself! Copy and paste from the above to get yourself started if needed."
   ]
  },
  {
   "cell_type": "markdown",
   "metadata": {},
   "source": [
    "# Q2e. Explain what is meant by \"thermal pollution\" and state two negative consequences of increasing global temperatures on aquatic life. <i>(3 marks)</i>\n",
    "# Answer to Q2e:"
   ]
  },
  {
   "cell_type": "markdown",
   "metadata": {},
   "source": [
    "[double click and type your answer here]"
   ]
  },
  {
   "cell_type": "markdown",
   "metadata": {},
   "source": [
    "$$\\require{mhchem}$$  \n",
    "***\n",
    "# The pE Scale\n",
    "This material is covered in your text book on pages 424-430. It's worth carefully reading this section because the pE concept can be quite tricky.\n",
    "\n",
    "pE is defined as the negative base 10 logarithm of the effective concentration (activity) of electrons in solution. This can be thought of analogously to pH, which characterizes proton availability. While pH is a measure of acidity, pE is a measure of reducing/oxidizing potential. Together these two quantities can help us predict what chemical species we should expect to find in natural waters.\n",
    "\n",
    "We'll start off by going over an example together to see where the pE equation comes from, which may help you better apply this concept. Consider the half reaction for $O_2$ dissolved in water.\n",
    "\\begin{align}\n",
    "\\ce{\\frac{1}{4}O_2 + H^+ + e^- <=> \\frac{1}{2}H_2 O}\n",
    "\\end{align}\n",
    "We can write down the equilibirum constant for this reaction as,\n",
    "\\begin{align}\n",
    "K_{eq} = \\frac{1}{P^{\\frac{1}{4}}_{O_2}\\left[H^+\\right]\\left[e^-\\right]}\n",
    "\\end{align}\n",
    "And we have remembered that the activity of pure substances, in this case water, in the condensed phase is taken to be 1. The notation $[e^-]$ is imperfect (remember, there are no free electrons in solution), but we will use it because it is familar and will allow us to see where pE comes from. We can rearrange the above to solve for $[e^-]$,\n",
    "\\begin{align}\n",
    "[e^-] = \\frac{1}{P^{\\frac{1}{4}}_{O_2}\\left[H^+\\right]K_{eq}}\n",
    "\\end{align}\n",
    "Then if we take the negative logarithm of effective electron concentration (the definition of pE), we get,\n",
    "\\begin{align}\n",
    "-\\log[e^-] & = -\\log\\left(\\frac{1}{P^{\\frac{1}{4}}_{O_2}\\left[H^+\\right]K_{eq}}\\right) \\\\\n",
    "pE & = \\log K_{eq} + \\log\\left(P^{\\frac{1}{4}}_{O_2}\\left[H^+\\right] \\right) \\\\\n",
    "pE & = \\log K_{eq} - pH + \\frac{1}{4}\\log P_{O_2}\n",
    "\\end{align}\n",
    "This is a fairly simple looking expression, but arriving at the $K_{eq}$ for this half-reaction requires some knowledge of electrochemistry and the  Nernst Equation. This <a href=\"https://chem.libretexts.org/Bookshelves/Analytical_Chemistry/Supplemental_Modules_(Analytical_Chemistry)/Electrochemistry/Nernst_Equation\">online reference is a helpful refresher</a>. If,\n",
    "\\begin{align}\n",
    "\\Delta G^\\circ & = -2.303R T\\log K_{eq} \\\\\n",
    " & = -n F E^\\circ \\\\\n",
    "\\log K_{eq} & = \\frac{n F E^\\circ}{2.303R T}\\\\\n",
    "\\end{align}\n",
    "Where $\\Delta G^\\circ$ is the change in Gibbs free energy under standard conditions, $R$ is the gas constant, $T$ is the temperature, $n$ is the number of electrons involved in the transfer, $F$ is the Faraday constant (96.5 KJ $mol^{-1}$), and $E^\\circ$ is the standard cell potential difference. \n",
    "\n",
    "For the above reaction, n = 1, so the expression for pE is,\n",
    "\\begin{align}\n",
    "pE & = \\frac{F E^\\circ}{2.303R T} - pH + \\frac{1}{4}\\log P_{O_2}\n",
    "\\end{align}\n",
    "\n",
    "If T = 25°C,\n",
    "\\begin{align}\n",
    "\\log K_{eq} = \\frac{E^\\circ}{0.0591}\n",
    "\\end{align}\n",
    "Thus, the expression for pE at 25°C is,\n",
    "\\begin{align}\n",
    "pE & = \\frac{E^\\circ}{0.0591} - pH + \\frac{1}{4}\\log P_{O_2}\n",
    "\\end{align}\n",
    "So for our half reaction, $\\ce{\\frac{1}{4}O_2 + H^+ + e^- <=> \\frac{1}{2}H_2 O}$, $E^\\circ = 1.23V$, which means, at 25°C,\n",
    "\\begin{align}\n",
    "pE & = 20.75 - pH + \\frac{1}{4}\\log P_{O_2}\n",
    "\\end{align}\n",
    "As it appears on page 425 of your textbook!\n",
    "## What is the pE value for pure water (pH = 7) at equilibrium with atmospheric $O_2$ if the temperature is 25°C?"
   ]
  },
  {
   "cell_type": "code",
   "execution_count": null,
   "metadata": {},
   "outputs": [],
   "source": [
    "# the standard cell potential difference (this is an experimental value one has to look up)\n",
    "E_O2_standard = 1.229 # V\n",
    "# gas constant (in useful units)\n",
    "R = 8.314/1000 # kJ/mol K\n",
    "# temperature (25°C in K)\n",
    "T = 25 + 273.15 # K\n",
    "# Faraday constant (in useful units\n",
    "F = 96.5 # kJ mol-1\n",
    "# assuming pH = 7\n",
    "pH = 7\n",
    "# partial pressure of O2\n",
    "PO2 = 0.21\n",
    "pE_O2 = E_O2_standard/(2.303*R*T/(F)) -pH + 1/4*m.log10(PO2)\n",
    "print(\"The pE of neutral water saturated with O2 is\", round(pE_O2,2))"
   ]
  },
  {
   "cell_type": "markdown",
   "metadata": {},
   "source": [
    "# Q3a. What is the pE value for pure water (pH = 7) at equilibrium with atmospheric $O_2$ if the temperature is 0°C? <i>(2 marks)</i>\n",
    "# Answer to Q3a.\n",
    "***"
   ]
  },
  {
   "cell_type": "code",
   "execution_count": null,
   "metadata": {},
   "outputs": [],
   "source": [
    "#You've got this! Write/copy/paste the code here to answer this question."
   ]
  },
  {
   "cell_type": "markdown",
   "metadata": {},
   "source": [
    "# Q3b. Is the pE value you calculated for 0°C higher or lower than the one for 25°C? What does this tell us about the oxidizing/reducing capabilities of warm water vs cold water? <i>(2 marks)</i>\n",
    "\n",
    "# Answer to Q3b.\n",
    "***"
   ]
  },
  {
   "cell_type": "markdown",
   "metadata": {},
   "source": [
    "[double click and type your answer here]"
   ]
  },
  {
   "cell_type": "markdown",
   "metadata": {},
   "source": [
    "# Q3c. Derive the expression for pE at 25°C for the following half reaction: $\\ce{Fe^{3+} + e^- <=> Fe^{2+}}$ <i>(2 marks)</i>\n",
    "# Answer to Q3c.\n",
    "***\n"
   ]
  },
  {
   "cell_type": "markdown",
   "metadata": {},
   "source": [
    "[double click and type your answer here]"
   ]
  },
  {
   "cell_type": "markdown",
   "metadata": {},
   "source": [
    "# Q3d.  Write the complete, balanced, redox reaction for the oxidation of $NH_4^+$ to $NO_3^-$ (ie. for this unbalanced reaction  $\\ce{NH_4^+ <=> NO^{-}_3}$)<i> (2 marks)</i>\n",
    "# Answer to Q3d.\n",
    "***"
   ]
  },
  {
   "cell_type": "markdown",
   "metadata": {},
   "source": [
    "[double click and type your answer here]"
   ]
  },
  {
   "cell_type": "markdown",
   "metadata": {},
   "source": [
    "# Q3e. Derive the expression for pE at 25°C for the oxidation of $NH_4^+$ to $NO_3^-$: $\\ce{Fe^{3+} + e^- <=> Fe^{2+}}$ <i>(3 marks)</i>\n",
    "# Answer to Q3e.\n",
    "***\n"
   ]
  },
  {
   "cell_type": "markdown",
   "metadata": {},
   "source": [
    "[double click and type your answer here]"
   ]
  },
  {
   "cell_type": "markdown",
   "metadata": {},
   "source": [
    "***\n",
    "# Using pE to predict what form a chemical species will be present in in natural waters\n",
    "In extreme anaerobic waters, the pE can be determined by the ratio of methane ($CH_4$) to carbon dioxide ($CO_2$). This is represented through the half reaction,\n",
    "\\begin{align}\n",
    "\\ce{\\frac{1}{8}CO_2 + H^+ + e^- <=> \\frac{1}{8}CH_4 + \\frac{1}{4}H_2O}\n",
    "\\end{align}\n",
    "where $E^\\circ = +0.17 V$. At 25°C, the pE of this system will be given by (as seen on page 426 of your textbook),\n",
    "\\begin{align}\n",
    "pE & = 2.87 - pH + \\frac{1}{8}\\log \\frac{P_{CO_2}}{P_{CH_4}}\n",
    "\\end{align}\n",
    "In general, we will need to know the temperature, pH, and the ratio of $P_{CO_2}$ to $P_{CH_4}$ to find the pE. Under highly anaerobic conditions, $\\frac{P_{CO_2}}{P_{CH_4}} = 1$."
   ]
  },
  {
   "cell_type": "code",
   "execution_count": null,
   "metadata": {},
   "outputs": [],
   "source": [
    "# the standard cell potential difference (this is an experimental value one has to look up)\n",
    "E_CO2_CH4_standard = 0.17 # V\n",
    "# gas constant (in useful units)\n",
    "R = 8.314/1000 # kJ/mol K\n",
    "# temperature (25°C in K)\n",
    "T = 25 + 273.15 # K\n",
    "# Faraday constant (in useful units\n",
    "F = 96.5 # kJ mol-1\n",
    "# assuming pH = 7\n",
    "pH = 7\n",
    "# ratio of partial pressures of CO2 to CH4\n",
    "PCO2_PCH4 = 1 # PCO2/PCH4\n",
    "pE_CO2_CH4 = E_CO2_CH4_standard/(2.303*R*T/(F)) - pH + 1/8*m.log10(PCO2_PCH4)\n",
    "print(\"For this system, if T =\", T, \"K, pH = \",pH, \", and we have a PCO2:PCH4 ratio of \", PCO2_PCH4, \", pE =\", round(pE_CO2_CH4,2))"
   ]
  },
  {
   "cell_type": "markdown",
   "metadata": {},
   "source": [
    "If now in this same system we have,\n",
    "\\begin{align}\n",
    "\\ce{Fe^{3+} + e^- <=> Fe^{2+}}\n",
    "\\end{align}\n",
    "Where $E^\\circ = +0.78 V$, if the pE is being controlled by the $CO_2$:$CH_4$ half reaction because the molar abundance of $CO_2$ >> $Fe^{3+}$, then we can use the pE we calculated above to determine the ratio of $Fe^{3+}$:$Fe^{2+}$ present."
   ]
  },
  {
   "cell_type": "code",
   "execution_count": null,
   "metadata": {},
   "outputs": [],
   "source": [
    "# the standard cell potential difference (this is an experimental value one has to look up)\n",
    "E_Fe3_Fe2_standard = 0.78 # V\n",
    "\n",
    "# log([Fe3+]/[Fe2+] = )\n",
    "Fe3_Fe2 = 10**(pE_CO2_CH4 - E_Fe3_Fe2_standard/(2.303*R*T/(F)))\n",
    "print(\"For this system, if T =\", T, \"K, pH = \",pH, \", then the [Fe3+]:[Fe2+] ratio is \", Fe3_Fe2)\n"
   ]
  },
  {
   "cell_type": "markdown",
   "metadata": {},
   "source": [
    "This tells us that there is much, much more $Fe^{2+}$ present than $Fe^{3+}$ under these conditions.\n",
    "\n",
    "If instead we consider the system under aerobic conditions, such that the $O_2$ half-reaction controls pE,"
   ]
  },
  {
   "cell_type": "code",
   "execution_count": null,
   "metadata": {},
   "outputs": [],
   "source": [
    "T = 25 + 273.15 # K\n",
    "pE_O2 = E_O2_standard/(2.303*R*T/(F)) -pH + 1/4*m.log10(PO2)\n",
    "# log([Fe3+]/[Fe2+] = )\n",
    "Fe3_Fe2 = 10**(pE_O2 - E_Fe3_Fe2_standard/(2.303*R*T/(F)))\n",
    "print(\"For this system, if T =\", T, \"K, pH = \",pH, \", then the [Fe3+]:[Fe2+] ratio is \", round(Fe3_Fe2,2))"
   ]
  },
  {
   "cell_type": "markdown",
   "metadata": {},
   "source": [
    "# Q4a. For 25°C, calulate the pE at which equal amounts of $Fe^{3+}$ and $Fe^{2+}$ will be present. <i>(2 marks)</i>\n",
    "# Answer to Q4a.\n",
    "***"
   ]
  },
  {
   "cell_type": "code",
   "execution_count": null,
   "metadata": {},
   "outputs": [],
   "source": [
    "# the standard cell potential difference (this is an experimental value one has to look up)\n",
    "E_Fe3_Fe2_standard = 0.78 # V\n",
    "# gas constant (in useful units)\n",
    "R = 8.314/1000 # kJ/mol K\n",
    "# temperature (25°C in K)\n",
    "T = 25 + 273.15 # K\n",
    "# Faraday constant (in useful units\n",
    "F = 96.5 # kJ mol-1\n",
    "# ratio of Fe3+ to Fe2+\n",
    "FE3_FE2 = 1 \n",
    "pE_FE3_FE2 = ENTER_A_VALUE_OR_EXPRESSION_HERE\n",
    "print(\"For this system, if T =\", T, \"K, an equal ratio of Fe3+:Fe2+ occurs when pE = \", round(pE_FE3_FE2,2))"
   ]
  },
  {
   "cell_type": "markdown",
   "metadata": {},
   "source": [
    "***\n",
    "The complete system is substantially more complicated when we consider the solids that are also involved in our equlibrium state. A simplified set of reactions is below:\n",
    "\\begin{align}\n",
    "\\cee{Fe^{3+} + e^- & <=> Fe^{2+}} \\\\\n",
    "\\cee{Fe^{2+} + 2e^- & <=> Fe_{(s)}} \\\\\n",
    "\\cee{Fe(OH)_{3(s)} + 3H^+ + e^- & <=> Fe^{2+} + 3H_{2}O} \\\\\n",
    "\\cee{Fe(OH)_{3(s)} + H^+ + e^- & <=> Fe(OH)_{2(s)} + H_{2}O} \\\\\n",
    "\\cee{Fe(OH)_{2(s)} + 2H^+ + 2e^- & <=> Fe_{(s)} + 2H_{2}O} \\\\\n",
    "\\cee{2H_{2}O & <=> O_2 + 4H^+ + 4e^-} \\\\\n",
    "\\cee{2H_{2}O + 2e^- & <=> H_2 + 2OH^-} \\\\\n",
    "\\end{align}\n",
    "\n",
    "\n",
    "We can generate the pE-pH diagram (also called a Pourbaix diagram) for the $Fe$-$O$-$H_2O$ system if the equilibrium constants for the above reactions are known. The widget below will create a diagram like the one on page 427 in your textbook. <b>temp_C</b> controls the temperature in Celsius (the temperature dependencies for equilibrium constants are approximated here), <b>P_O2</b> controls the partial pressure of $O_2$, <b>P_H2</b> controls the partial pressure of $H_2$, and <b>logConc_Fe</b> is the base10-logarithm for the molar concentration of iron in the system (ie. logConc_Fe = -6 means a concentration of $10^{-6} M$."
   ]
  },
  {
   "cell_type": "code",
   "execution_count": null,
   "metadata": {},
   "outputs": [],
   "source": [
    "from chm210_3 import pEpHplot\n",
    "w = interactive(pEpHplot, temp_C=(-20, 40), P_O2=(0.01,1), P_H2=(0.01,1), logConc_Fe=(-10,-1))\n",
    "display(w)"
   ]
  },
  {
   "cell_type": "markdown",
   "metadata": {},
   "source": [
    "# Q4b. Describe what (chemically) is occuring in the regions labelled \"upper limit of stability of water\" and \"lower limit of stability of water\". <i>(2 marks)</i>\n",
    "# Answer to Q4b.\n",
    "***"
   ]
  },
  {
   "cell_type": "markdown",
   "metadata": {},
   "source": [
    "[double click and type your answer here]"
   ]
  },
  {
   "cell_type": "markdown",
   "metadata": {},
   "source": [
    "# Q4c. In an aerobic lake (pE controlled by the $\\ce{\\frac{1}{4}O_2 + H^+ + e^- <=> \\frac{1}{2}H_2 O}$ half reaction), at 25°C, neutral pH, and an Fe concentration of $10^{-6} M$, what form(s) of iron are we likely to find? <i>(1 mark)</i>\n",
    "# Answer to Q4c.\n",
    "***"
   ]
  },
  {
   "cell_type": "markdown",
   "metadata": {},
   "source": [
    "[double click and type your answer here]"
   ]
  },
  {
   "cell_type": "markdown",
   "metadata": {},
   "source": [
    "# Q4d. In an anaerobic lake (pE controlled by the $\\ce{\\frac{1}{8}CO_2 + H^+ + e^- <=> \\frac{1}{8}CH_4 + \\frac{1}{4}H_2O}$ half reaction), at 25°C, neutral pH, and an Fe concentration of $10^{-6} M$, what form(s) of iron are we likely to find? <i>(1 mark)</i>\n",
    "# Answer to Q4d.\n",
    "***"
   ]
  },
  {
   "cell_type": "markdown",
   "metadata": {},
   "source": [
    "[double click and type your answer here]"
   ]
  },
  {
   "cell_type": "markdown",
   "metadata": {},
   "source": [
    "***\n",
    "When you have finished your assignment, you need to save it as a PDF and submit that PDF on Quercus. In your Jupyter Notebook, goto File --> Download ad --> PDF via LaTeX (.pdf)\n",
    "<img src=\"http://individual.utoronto.ca/sck/CHM210/save2pdf.jpg\">\n",
    "\n",
    "If you have technical questions related to Python or Jupyter, contact Sarah Kavassalis (sarah.kavassalis@mail.utoronto.ca).\n"
   ]
  }
 ],
 "metadata": {
  "kernelspec": {
   "display_name": "Python 3",
   "language": "python",
   "name": "python3"
  },
  "language_info": {
   "codemirror_mode": {
    "name": "ipython",
    "version": 3
   },
   "file_extension": ".py",
   "mimetype": "text/x-python",
   "name": "python",
   "nbconvert_exporter": "python",
   "pygments_lexer": "ipython3",
   "version": "3.7.3"
  }
 },
 "nbformat": 4,
 "nbformat_minor": 2
}
