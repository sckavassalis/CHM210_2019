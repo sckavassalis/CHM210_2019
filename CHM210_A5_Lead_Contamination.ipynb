{
 "cells": [
  {
   "cell_type": "markdown",
   "metadata": {},
   "source": [
    "# CHM210 Assignment 5: Water Contamination and Treatment\n",
    "\n",
    "Welcome to the fifth assignment for CHM210. We are going to use a <a href=\"https://jupyter4edu.github.io/jupyter-edu-book/\">Jupyter notebook</a> with Python to learn about lead contamination in drinking water. All of your answers will be completed within this document (changes you make are saved into your personal https://utoronto.syzygy.ca account, so don't worry about editing this file). There are a lot of free, online resources out there to help you with Jupyter and Python. I recommend Christian Hill's <a href=\"https://scipython.com/book/\">\"Learning Scientific Programming with Python\"</a>. The chemistry content of this assignment should follow your textbook (Chapter 12 in Baird and Cann, 5th edition).\n",
    "\n",
    "First things first, we need to import the Python modules we will be using for this assignment. Press the \"Run\" button (or ctrl-enter) on the box below to import the packages we need. If done successfully, the \"You have imported the above modules!\" text will display below. "
   ]
  },
  {
   "cell_type": "code",
   "execution_count": null,
   "metadata": {},
   "outputs": [],
   "source": [
    "# lines that start with a \"#\" character are comments\n",
    "# Python doesn't read comments as code, but they are helpful for us, the readers and writers, so we can remember why we have written code a particular way\n",
    "# the import statements are how we add the specific packages we want to use\n",
    "# when we write \"import YYYYYY as Y\", we are creating a shortform \"Y\" that we can use to reference the package \"YYYYYY\"  \n",
    "import math as m\n",
    "import numpy as np\n",
    "\n",
    "from IPython.display import clear_output, display, HTML\n",
    "# below is a simple print statement that will appear as text when we run this box of code\n",
    "# you can easily change what text prints here by editing the words between the \"\"\n",
    "print(\"You have imported the above modules!\")"
   ]
  },
  {
   "cell_type": "markdown",
   "metadata": {},
   "source": [
    "# Lead in Drinking-Water Systems\n",
    "\n"
   ]
  },
  {
   "cell_type": "markdown",
   "metadata": {},
   "source": [
    "# Q1. What are the two common ionic forms of lead? <i>(1 mark)</i>\n",
    "\n",
    "# Answer to Q1.\n",
    "***"
   ]
  },
  {
   "cell_type": "markdown",
   "metadata": {},
   "source": [
    "type your answer here"
   ]
  },
  {
   "cell_type": "markdown",
   "metadata": {},
   "source": [
    "***\n",
    "# Q2a. Explain why lead can dissolve under some circumstances (ie. in a can of fruit juice) but not in others (ie. in a lead battery containing $H_2SO_4$). You need to reference explicit chemistry in your explanation (write down the relevant reactions that take lead as a solid to lead in the aqueous phase) <i> (4 marks) </i>\n",
    "# Answer to Q2a. \n",
    "***"
   ]
  },
  {
   "cell_type": "markdown",
   "metadata": {},
   "source": [
    "type your answer here"
   ]
  },
  {
   "cell_type": "markdown",
   "metadata": {},
   "source": [
    "***\n",
    "# Q2b. For 50 years, Flint, Michigan had been sourcing their drinking water from Detroit. In 2014, they switched their source water from Detroit to the Flint River. Why did this change cause the drinking water crisis to occur? Explain, with reference to explicit chemistry, how changing the source water alone would cause the lead levels in drinking water to greatly increase? <i>(3 marks)</i>\n",
    "\n",
    "# Answer to Q2b.\n",
    "***"
   ]
  },
  {
   "cell_type": "markdown",
   "metadata": {},
   "source": [
    "type your answer here"
   ]
  },
  {
   "cell_type": "markdown",
   "metadata": {},
   "source": [
    "***\n",
    "# Q3. The <a href=\"https://www.thestar.com/news/investigations/2019/11/04/is-there-lead-in-your-water-canada-wide-investigation-exposes-chronic-extreme-exceedances-of-toxic-metal.html\">Toronto Star</a> reported that one tap in Edmonton was pouring drinking water with 428 ppb of lead in it (that's 86 x the federal guideline!). If an adult drinks 2 L of water a day, calculate the total mass of lead that a person drinking from this water source would consume every day. <i>(3 marks)</i>\n",
    "\n",
    "# Answer to Q3.\n",
    "***"
   ]
  },
  {
   "cell_type": "code",
   "execution_count": null,
   "metadata": {},
   "outputs": [],
   "source": [
    "## Do the calculation here. Don't forget to report your answer with units. "
   ]
  },
  {
   "cell_type": "markdown",
   "metadata": {},
   "source": [
    "***\n",
    "# Q4. Suggest 1 way to remove lead from drinking water (water that already has $Pb^{2+}$ in it) and 1 way to prevent lead from getting into drinking water (for a municipality that already has lead pipes). Explain why each of these should work. <i>(4 marks)</i>\n",
    "\n",
    "# Answer to Q4.\n",
    "***"
   ]
  },
  {
   "cell_type": "markdown",
   "metadata": {},
   "source": [
    "type your answer here"
   ]
  },
  {
   "cell_type": "markdown",
   "metadata": {},
   "source": [
    "***\n",
    "# Q5a. Natural waters in contact with insoluble $PbS$ can have high levels of $Pb^{2+}$ in them too. Write a net equilibrium reaction that takes into account the below solubility and acid-base reactions. <i>(1 mark)</i>\n",
    "\n",
    "<img src=\"http://individual.utoronto.ca/sck/CHM210/A5_q5a.png\" alt = \"\">\n",
    "\n",
    "# Answer to Q5a.\n",
    "***"
   ]
  },
  {
   "cell_type": "markdown",
   "metadata": {},
   "source": [
    "type answer here"
   ]
  },
  {
   "cell_type": "markdown",
   "metadata": {},
   "source": [
    "***\n",
    "# Q5b. What is the net equilibrium constant for the above reactions <i>(1 mark)</i>?\n",
    "# Answer to Q5b.\n",
    "***"
   ]
  },
  {
   "cell_type": "markdown",
   "metadata": {},
   "source": [
    "type your answer here"
   ]
  },
  {
   "cell_type": "markdown",
   "metadata": {},
   "source": [
    "***\n",
    "# Q5c. Write a function that calculates the concentration of $Pb^{2+}$ as a function of pH <i>(3 marks)</i>\n",
    "# Answer to Q5c.\n",
    "***"
   ]
  },
  {
   "cell_type": "code",
   "execution_count": null,
   "metadata": {},
   "outputs": [],
   "source": [
    "#this function will take in a given pH value and return the concentration of Pb^2+ in units of mol/L\n",
    "def Pb_conc(pH):\n",
    "    Knet = #NET_EQUILIBRIUM_CONSTANT\n",
    "    H = #EFFECTIVE_PROTON_CONCENTRATION_FROM_pH\n",
    "    Pb = #SOME_FUNCTION_THAT_CALCULATES_DISSOLVED_Pb2+\n",
    "    return Pb"
   ]
  },
  {
   "cell_type": "markdown",
   "metadata": {},
   "source": [
    "***\n",
    "# Q5d. Test your above function at different pHs and explain, with reference to relevant chemistry, why acidification of natural waters can lead to increased lead exposure. <i>(3 marks)</i>\n",
    "# Answer to Q5d.\n",
    "***"
   ]
  },
  {
   "cell_type": "code",
   "execution_count": null,
   "metadata": {},
   "outputs": [],
   "source": [
    "##test your function at pH 3,5,7, and 9\n",
    "print(\"if pH = 3, [Pb2+]=\", Pb_conc(3), \"M\")\n",
    "print(\"if pH = 5, [Pb2+]=\", Pb_conc(5), \"M\")\n",
    "print(\"if pH = 7, [Pb2+]=\", Pb_conc(7), \"M\")\n",
    "print(\"if pH = 9, [Pb2+]=\", Pb_conc(9), \"M\")"
   ]
  },
  {
   "cell_type": "markdown",
   "metadata": {},
   "source": [
    "write your answer here"
   ]
  },
  {
   "cell_type": "markdown",
   "metadata": {},
   "source": [
    "***\n",
    "***\n",
    "When you have finished your assignment, you need to save it as a PDF and submit that PDF on Quercus. In your Jupyter Notebook, goto File --> Download ad --> PDF via LaTeX (.pdf)\n",
    "<img src=\"http://individual.utoronto.ca/sck/CHM210/save2pdf.jpg\">\n",
    "\n",
    "If you have technical questions related to Python or Jupyter, contact Sarah Kavassalis (sarah.kavassalis@mail.utoronto.ca).\n"
   ]
  }
 ],
 "metadata": {
  "kernelspec": {
   "display_name": "Python 3",
   "language": "python",
   "name": "python3"
  },
  "language_info": {
   "codemirror_mode": {
    "name": "ipython",
    "version": 3
   },
   "file_extension": ".py",
   "mimetype": "text/x-python",
   "name": "python",
   "nbconvert_exporter": "python",
   "pygments_lexer": "ipython3",
   "version": "3.7.3"
  }
 },
 "nbformat": 4,
 "nbformat_minor": 2
}
