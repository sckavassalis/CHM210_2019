In [1]:
import matplotlib.pyplot as plt
import numpy as np
%matplotlib inline
In [2]:
plt.scatter(np.random.randn(1000),
            np.random.randn(1000),
            c=np.random.randn(1000), s=100)
Out[2]:
<matplotlib.collections.PathCollection at 0x7fc7cd75e630>
