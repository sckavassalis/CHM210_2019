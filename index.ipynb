In [1]:
import matplotlib.pyplot as plt
import numpy as np
%matplotlib inline
In [2]:
plt.scatter(np.random.randn(1000),
            np.random.randn(1000),
            c=np.random.randn(1000), s=100)
Out[2]:
