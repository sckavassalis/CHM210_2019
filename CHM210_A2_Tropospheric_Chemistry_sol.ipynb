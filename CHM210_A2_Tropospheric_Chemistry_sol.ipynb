{
 "cells": [
  {
   "cell_type": "markdown",
   "metadata": {},
   "source": [
    "# CHM210 Assignment 2: Tropospheric Chemistry\n",
    "\n",
    "Welcome to the second assignment for CHM210. We are going to use a <a href=\"https://jupyter4edu.github.io/jupyter-edu-book/\">Jupyter notebook</a> with Python to investigate some properties of tropospheric chemistry and photochemical smog. All of your answers will be completed within this document (changes you make are saved into your personal https://utoronto.syzygy.ca account, so don't worry about editing this file). There are a lot of free, online resources out there to help you with Jupyter and Python. I recommend Christian Hill's <a href=\"https://scipython.com/book/\">\"Learning Scientific Programming with Python\"</a>. The chemistry content of this assignment should follow your textbook and lecture notes, but for those wanting additional materials, Daniel Jacob's <a href=\"http://acmg.seas.harvard.edu/people/faculty/djj/book/\">\"Introduction to Atmospheric Chemistry\"</a> is freely available online and has a couple relevant chapters for this assignment (Ch11. <a href=\"http://acmg.seas.harvard.edu/people/faculty/djj/book/bookchap11.html#pgfId=998914\">\"Oxidizing Power of the Troposphere</a> and Ch12. <a href=\"http://acmg.seas.harvard.edu/people/faculty/djj/book/bookchap12.html#pgfId=147850\">\"Ozone Air Pollution\"</a>).\n",
    "\n",
    "After completing this assignment, you should be able to explain and understand the major processes responsible for producing photochemical smog (ozone pollution) and describe the challenges involved in ozone control. \n",
    "\n",
    "First things first, we need to import the Python modules we will be using for this assignment. Press the \"Run\" button (or ctrl-enter) on the box below to import the modules we need. If done successfully, the \"You have imported the above modules!\" text will display below. \n",
    "\n",
    "## Importing Python modules"
   ]
  },
  {
   "cell_type": "code",
   "execution_count": 1,
   "metadata": {},
   "outputs": [
    {
     "name": "stdout",
     "output_type": "stream",
     "text": [
      "You have imported the above modules!\n"
     ]
    }
   ],
   "source": [
    "%matplotlib inline\n",
    "from ipywidgets import interact, interactive\n",
    "from IPython.display import clear_output, display, HTML\n",
    "\n",
    "import numpy as np\n",
    "import math as m\n",
    "from scipy import integrate\n",
    "\n",
    "from matplotlib import pyplot as plt\n",
    "from mpl_toolkits.mplot3d import Axes3D\n",
    "from matplotlib.colors import cnames\n",
    "from matplotlib import animation\n",
    "print(\"You have imported the above modules!\")"
   ]
  },
  {
   "cell_type": "markdown",
   "metadata": {},
   "source": [
    "# Q1. What molecule initiates the oxidation of most pollutants in the atmosphere? (1 mark)\n",
    "\n",
    "# Answer to Q1:\n",
    "***"
   ]
  },
  {
   "cell_type": "markdown",
   "metadata": {},
   "source": [
    "$OH$ - the hydroxyl radical!"
   ]
  },
  {
   "cell_type": "markdown",
   "metadata": {},
   "source": [
    "***\n",
    "# Looking at the gas-phase oxidation scheme for methane: \n",
    "\\begin{align}\n",
    "CH_4 + OH & \\rightarrow CH_3 + H_2O & (R1)\\\\\n",
    "CH_3 + O_2 + M & \\rightarrow CH_3O_2 + M & (R2)\\\\\n",
    "CH_3O_2 + NO & \\rightarrow CH_3O + NO_2 & (R3)\\\\\n",
    "CH_3O + O_2 & \\rightarrow H_2CO + HO_2 & (R4)\\\\\n",
    "H_2CO + OH & \\rightarrow CHO + H_2O & (R5)\\\\\n",
    "H_2CO + h\\nu & \\rightarrow  CHO + H & (R6)\\\\\n",
    "CHO + O_2 & \\rightarrow  CO + HO_2 & (R7)\\\\\n",
    "H + O_2 + M & \\rightarrow HO_2 + M & (R8)\\\\\n",
    "HO_2 + NO & \\rightarrow OH + NO_2 & (R9)\\\\\n",
    "NO_2 + h\\nu & \\rightarrow  NO +O & (R10)\\\\\n",
    "NO_2 + OH + M & \\rightarrow HNO_3 + M & (R11)\\\\\n",
    "O + O_2 + M & \\rightarrow O_3 + M & (R12)\\\\\n",
    "NO + O_3 & \\rightarrow NO_2 + O_2& (R13) \\\\\n",
    "O_3 + h\\nu & \\rightarrow O_2 + O(^1D)& (R14) \\\\\n",
    "O(^1D) + M & \\rightarrow O + M& (R15) \\\\\n",
    "O(^1D) + H_2O &\\rightarrow 2OH & (R16)\n",
    "\\end{align}\n"
   ]
  },
  {
   "cell_type": "markdown",
   "metadata": {},
   "source": [
    "# Q2a. Provide an example of a radical initiation reaction (1 mark)\n",
    "\n",
    "# Answer to Q2a :\n",
    "***"
   ]
  },
  {
   "cell_type": "markdown",
   "metadata": {},
   "source": [
    "Initiation is the step that initially creates the radical species (a radical is a chemical species with an unpaired valence shell electron). The general form of a radical initiation process may look like,\n",
    "\\begin{align} \n",
    "A-B \\xrightarrow{\\text{heat or light}} A^\\cdot + B^\\cdot\n",
    "\\end{align}\n",
    "\n",
    "Examples above of radical initiation reactions are:\n",
    "\\begin{align}\n",
    "H_2CO + h\\nu & \\rightarrow  CHO + H & (R6)\\\\\n",
    "NO_2 + h\\nu & \\rightarrow  NO +O & (R10)\\\\\n",
    "\\end{align}\n",
    "\n",
    "Atomic oxygen in the groundstate is a biradical, meaning that it has two unpaired electrons ($[He] 2s^22p_x^22p_y^12p_z^1$). The first excited state of atomic oxygen ($O(^1D)$) has fully paired electrons ($[He] 2s^22p_x^22p_y^2$) so is technically not a radical (but is still very, very ractive). Full marks are still awarded for assuming R14 is a radical initiation step reaction. \n",
    "\\begin{align}\n",
    "O_3 + h\\nu & \\rightarrow O_2 + O(^1D)& (R14) \\\\\n",
    "\\end{align}\n",
    "The <a href = \"http://acmg.seas.harvard.edu/people/faculty/djj/book/bookchap9.html#pgfId=108322\">Jacob book</a> has discussion on these concepts for those who want more."
   ]
  },
  {
   "cell_type": "markdown",
   "metadata": {},
   "source": [
    "***\n",
    "# Q2b. Provide an example of a radical propagation reaction (1 mark)\n",
    "# Answer to Q2b:\n",
    "***"
   ]
  },
  {
   "cell_type": "markdown",
   "metadata": {},
   "source": [
    "Propogation is the generation of free radicals by free radicals (what makes this a chain reaction). The general form may look like,\n",
    "\\begin{align} \n",
    "A^\\cdot + B-C \\rightarrow A-B + C^\\cdot\n",
    "\\end{align}\n",
    "\n",
    "Examples above of radical propogation reactions are:\n",
    "\\begin{align}\n",
    "CH_4 + OH & \\rightarrow CH_3 + H_2O & (R1)\\\\\n",
    "CH_3 + O_2 + M & \\rightarrow CH_3O_2 + M & (R2)\\\\\n",
    "CH_3O_2 + NO & \\rightarrow CH_3O + NO_2 & (R3)\\\\\n",
    "CH_3O + O_2 & \\rightarrow H_2CO + HO_2 & (R4)\\\\\n",
    "H_2CO + OH & \\rightarrow CHO + H_2O & (R5)\\\\\n",
    "CHO + O_2 & \\rightarrow  CO + HO_2 & (R7)\\\\\n",
    "H + O_2 + M & \\rightarrow HO_2 + M & (R8)\\\\\n",
    "HO_2 + NO & \\rightarrow OH + NO_2 & (R9)\\\\\n",
    "NO + O_3 & \\rightarrow NO_2 + O_2& (R13) \\\\\n",
    "\\end{align}\n",
    "Full marks are awarded for considering R16 a radical propogation reaction.\n",
    "\\begin{align}\n",
    "O(^1D) + H_2O &\\rightarrow 2OH & (R16)\n",
    "\\end{align}"
   ]
  },
  {
   "cell_type": "markdown",
   "metadata": {},
   "source": [
    "***\n",
    "# Q2c. Provide an example of a radical termination reaction (1 mark)\n",
    "# Answer to Q2c:\n",
    "***"
   ]
  },
  {
   "cell_type": "markdown",
   "metadata": {},
   "source": [
    "Termination is the step where two radical species react to form a stable, non-radical molecule. The general form may look like,\n",
    "\\begin{align} \n",
    "A^\\cdot + B^\\cdot \\rightarrow A-B\n",
    "\\end{align}\n",
    "\n",
    "An example above of a radical termination reaction is:\n",
    "\\begin{align}\n",
    "NO_2 + OH + M & \\rightarrow HNO_3 + M & (R11)\\\\\n",
    "\\end{align}"
   ]
  },
  {
   "cell_type": "markdown",
   "metadata": {},
   "source": [
    "***\n",
    "# Q2d. What are the primary sources of $HO_x$ in the troposphere? (2 marks)\n",
    "# Answer to Q2d:\n",
    "***"
   ]
  },
  {
   "cell_type": "markdown",
   "metadata": {},
   "source": [
    "The primary sources of $HO_x$ in the troposphere are the photolysis of ozone and subsequent reaction of excited state oxygen with water to make OH,\n",
    "\n",
    "\\begin{align}\n",
    "O_3 + h\\nu & \\rightarrow O_2 + O(^1D)& (R14) \\\\\n",
    "O(^1D) + H_2O &\\rightarrow 2OH & (R16)\n",
    "\\end{align}\n",
    "\n",
    "and the photolysis of formladehyde leading to $HO_2$.\n",
    "\\begin{align}\n",
    "H_2CO + h\\nu & \\rightarrow  CHO + H & (R6)\\\\\n",
    "CHO + O_2 & \\rightarrow  CO + HO_2 & (R7)\\\\\n",
    "H + O_2 + M & \\rightarrow HO_2 + M & (R8)\\\\\n",
    "\\end{align}"
   ]
  },
  {
   "cell_type": "markdown",
   "metadata": {},
   "source": [
    "***\n",
    "# Q2e. What are the two different initial steps by which atmospheric formaldehyde, $H_2CO$, is decomposed in the troposphere? (2 marks)\n",
    "# Answer to Q2e.\n",
    "***"
   ]
  },
  {
   "cell_type": "markdown",
   "metadata": {},
   "source": [
    "Formaldehyde can be oxidized by OH or photolyzed,\n",
    "\\begin{align}\n",
    "H_2CO + OH & \\rightarrow CHO + H_2O & (R5)\\\\\n",
    "H_2CO + h\\nu & \\rightarrow  CHO + H & (R6)\\\\\n",
    "\\end{align}"
   ]
  },
  {
   "cell_type": "markdown",
   "metadata": {},
   "source": [
    "***\n",
    "\n",
    "Now let's talk about photochemical smog.\n",
    "\n",
    "# Q3a. For one molecule of methane, how many molecules of ozone would be produced?  Explain your reasoning. (2 marks)\n",
    "# Answer to Q3a:\n",
    "***"
   ]
  },
  {
   "cell_type": "markdown",
   "metadata": {},
   "source": [
    "Your notes from lecture 6 will be helpful here. \n",
    "\n",
    "Under high $NO_x$ conditions, we will produce a molecule of ozone every time an $HO_2$ or peroxy radical reacts with $NO$ to form $NO_2$.\n",
    "\n",
    "\\begin{align}\n",
    "CH_4 + OH & \\rightarrow CH_3 + H_2O & (R1)\\\\\n",
    "CH_3 + O_2 + M & \\rightarrow CH_3O_2 + M & (R2)\\\\\n",
    "CH_3O_2 + NO & \\rightarrow CH_3O + NO_2 & (R3)\\\\\n",
    "NO_2 + h\\nu & \\rightarrow  NO +O & (R10)\\\\\n",
    "O + O_2 + M & \\rightarrow O_3 + M & (R12)\\\\\n",
    "\\end{align}\n",
    "\n",
    "So, we have made 1 molecule of ozone so far. The $CH_3O$ radical produced above will readily react with $O_2$ so our chain continues:\n",
    "\n",
    "\\begin{align}\n",
    "CH_3O + O_2 & \\rightarrow H_2CO + HO_2 & (R4)\\\\\n",
    "HO_2 + NO &\\rightarrow OH + NO_2 & (R9)\\\\ \n",
    "NO_2 + h\\nu & \\rightarrow  NO +O & (R10)\\\\\n",
    "O + O_2 + M & \\rightarrow O_3 + M & (R12)\\\\\n",
    "\\end{align}\n",
    "\n",
    "Now we have 2 molecules of ozone. $H_2CO$ will decompose (or be oxidized by $OH$) in the atmosphere producing more radicals,\n",
    "\n",
    "\\begin{align}\n",
    "H_2CO + h\\nu & \\rightarrow  CHO + H & (R6)\\\\\n",
    "H + O_2 + M & \\rightarrow HO_2 + M & (R8)\\\\\n",
    "HO_2 + NO &\\rightarrow OH + NO_2 & (R9)\\\\ \n",
    "NO_2 + h\\nu & \\rightarrow  NO +O & (R10)\\\\\n",
    "O + O_2 + M & \\rightarrow O_3 + M & (R12)\\\\\n",
    "\\end{align}\n",
    "\n",
    "Now we have 3 molecules of ozone and a $CHO$ radical that will react with $O_2$,\n",
    "\n",
    "\\begin{align}\n",
    "CHO + O_2 & \\rightarrow  CO + HO_2 & (R7)\\\\\n",
    "HO_2 + NO &\\rightarrow OH + NO_2 & (R9)\\\\ \n",
    "NO_2 + h\\nu & \\rightarrow  NO +O & (R10)\\\\\n",
    "O + O_2 + M & \\rightarrow O_3 + M & (R12)\\\\\n",
    "\\end{align}\n",
    "This gives us a 4th molecule of ozone.\n",
    "\n",
    "The reactions above oxidize $CH_4$ to $CO$. If we fully oxidize to $CO_2$ (like you saw in lecture), we'll have two additional reactions:\n",
    "\\begin{align}\n",
    "CO + OH & \\rightarrow HOCO \\\\\n",
    "HOCO + O_2 & \\rightarrow HO_2 + CO_2 \\\\\n",
    "HO_2 + NO &\\rightarrow OH + NO_2 & (R9)\\\\ \n",
    "NO_2 + h\\nu & \\rightarrow  NO +O & (R10)\\\\\n",
    "O + O_2 + M & \\rightarrow O_3 + M & (R12)\\\\\n",
    "\\end{align}\n",
    "\n",
    "Giving us a 5th molecule of ozone.\n",
    "\n",
    "Now, if you assumed low NOx conditions, then we ignore the following reactions:\n",
    "\n",
    "\\begin{align}\n",
    "HO_2 + NO & \\rightarrow OH + NO_2 & (R9)\\\\\n",
    "NO_2 + h\\nu & \\rightarrow  NO +O & (R10)\\\\\n",
    "NO_2 + OH + M & \\rightarrow HNO_3 + M & (R11)\\\\\n",
    "NO + O_3 & \\rightarrow NO_2 + O_2& (R13) \\\\\n",
    "\\end{align}\n",
    "\n",
    "And 0 molecules of ozone will be produced.\n",
    "\n",
    "If you assumed high NOx conditions and answered 4 molecules of ozone because you assumed only the above reactions, that is okay. If you assumed high NOx conditions and fully oxidized methane then answered 5 molecules of ozone, that is okay too. If you assumed low NOx and said 0 molecules of ozone, that is also okay."
   ]
  },
  {
   "cell_type": "markdown",
   "metadata": {},
   "source": [
    "***\n",
    "# Q3b. What is meant by the terms \"VOC-limited\" and \"NOx-limited\" when applied to geographic regions? (2 marks)\n",
    "# Answer to Q3b:\n",
    "***"
   ]
  },
  {
   "cell_type": "markdown",
   "metadata": {},
   "source": [
    "\"VOC-limited\" and \"NOx-limited\" are terms used to describe different regions of ozone production. Ozone production is tied to the relative amount of HOx and NOx radicals, whose concentrations are tied to emissions of $VOC$s and $NO$.  We can think of these regimes in terms of competition for $OH$ radicals. In VOC-limited (or NOx-saturated) regions, $NO_2$ is outcompeting $VOC$s as a reaction partner for $OH$. In NOx-limited regions, VOCs are outcompeting $NO_2$ for $OH$.\n",
    "\n",
    "We can also think of it in terms of competition for $HO_2$. NOx-limited chemistry occurs when the rate of $HO_2 + HO_2 \\rightarrow H_2O_2 + O_2$ is much greater than the rate of $HO_2 + NO \\rightarrow NO_2 + OH$. In this case, the ozone production rate will be most effectively reduced by reducing NOx emissions. VOC-limited chemistry occurs when the rate of $HO_2 + HO_2 \\rightarrow H_2O_2 + O_2$ is much less than the rate of $HO_2 + NO \\rightarrow NO_2 + OH$. In this case, the ozone production rate will be most effectively reduced by reducing VOC emissions."
   ]
  },
  {
   "cell_type": "markdown",
   "metadata": {},
   "source": [
    "***\n",
    "Run the below code to bring up an interactive ozone-isopleth graph. The contours are plotted showing the ozone production rate (in ppb/hr), the y-axis is VOC reactivity, which is a measure that takes into account both the concentration of volatile organic compound as well as their reaction rates (for the initiation step: $OH + VOC + O_2 \\rightarrow H_2O + RO_2$), the x-axis is the $NO_2$ mixing ratio on a log scale (so a value of -1 means we have $10^{-1} = 0.1$ ppb of $NO_2$ and similarly a value of +1 means we have $10^{1} = 10$ ppb of $NO_2$). \n",
    "\n",
    "The variables that can be changed are ambient temperature (<b>temp_K</b>) in units of Kelvin, relative humidty (<b>RH_percent</b>) as a percentage, ozone (<b>ozone_ppb</b>) in ppbv, formaldehyde (<b>H2CO_ppb</b>) in ppbv, and hour of day (<b>hour_of_day</b>) in 24 hour time."
   ]
  },
  {
   "cell_type": "code",
   "execution_count": 2,
   "metadata": {},
   "outputs": [
    {
     "data": {
      "application/vnd.jupyter.widget-view+json": {
       "model_id": "5746c82e331b485f9b05b5b577b4de02",
       "version_major": 2,
       "version_minor": 0
      },
      "text/plain": [
       "interactive(children=(IntSlider(value=273, description='temp_K', max=323, min=243), IntSlider(value=70, descri…"
      ]
     },
     "metadata": {},
     "output_type": "display_data"
    }
   ],
   "source": [
    "from chm210_2 import ozone_prod_contours\n",
    "w = interactive(ozone_prod_contours, temp_K=(243, 323), RH_percent=(5,100), ozone_ppb=(10,150), H2CO_ppb=(.1,10), hour_of_day=(0,23))\n",
    "display(w)"
   ]
  },
  {
   "cell_type": "markdown",
   "metadata": {},
   "source": [
    "# Q3c. With default settings (temp_K = 273, RH_percent = 70, ozone_ppb = 60, H2CO_ppb = 4, hour_of_day = 12), does the ozone production rate increase, decrease, or remain constant as we move from 50 ppb of $NO_2$ to 5 ppb $NO_2$ while keeping the VOC reactivity fixed (1 mark)\n",
    "\n",
    "# Answer to Q3c:\n",
    "***"
   ]
  },
  {
   "cell_type": "markdown",
   "metadata": {},
   "source": [
    "The ozone production rate increases slightly as we move from 50 ppb of $NO_2$ to 5 ppb of $NO$. "
   ]
  },
  {
   "cell_type": "markdown",
   "metadata": {},
   "source": [
    "***\n",
    "# Q3d. With default settings (temp_K = 273, RH_percent = 70, ozone_ppb = 60, H2CO_ppb = 4, hour_of_day = 12), does the ozone production rate increase, decrease, or remain constant as we move from 1 ppb of $NO_2$ to 0.1 ppb $NO_2$ while keeping the VOC reactivity fixed (1 mark)\n",
    "\n",
    "# Answer to Q3d:\n",
    "***"
   ]
  },
  {
   "cell_type": "markdown",
   "metadata": {},
   "source": [
    "The ozone production rate decreases as we move from 1 ppb of $NO_2$ to 0.1 ppb of $NO$. "
   ]
  },
  {
   "cell_type": "markdown",
   "metadata": {},
   "source": [
    "***\n",
    "Now try changing some of the variables to see what happens to ozone production. Pay close attention to the upper bound on the ozone production colour scale as that will change as you change settings. "
   ]
  },
  {
   "cell_type": "markdown",
   "metadata": {},
   "source": [
    "# Q3e. Decribe what happens to ozone production when temperature is changed from -20C to 30C. By referencing what you know about the relevant chemistry, explain why ambient temperature would affect ozone production (3 marks)\n",
    "# Answer to Q3e:\n",
    "***"
   ]
  },
  {
   "cell_type": "markdown",
   "metadata": {},
   "source": [
    "Increasing the temperature increases the ozone production rate. Reaction rates are dependent on temperature (which is a measure of kinetic energy for the population of molecules), so increasing temperature can increase the rate of reactions thereby increasing ozone production.\n",
    "\n",
    "(A caveat here is that radical-radical reactions have a more complex relationship with temperature, and increasing temperature can actually result in a decrease in reaction rate because reative-intermediates can be less stable.)"
   ]
  },
  {
   "cell_type": "markdown",
   "metadata": {},
   "source": [
    "***\n",
    "# Q3f. Decribe what happens to ozone production when relative humidity is changed from 10% to 90%. By referencing what you know about the relevant chemistry, explain why relative humidity would affect ozone production.  (3 marks)\n",
    "# Answer to Q3f:\n",
    "***"
   ]
  },
  {
   "cell_type": "markdown",
   "metadata": {},
   "source": [
    "Increasing relative humidity increases ozone production. Water is a required ingredient for the production of $OH$ radicals and thus initiating the production of ozone. With more $H_2O$ in the gas-phase, excited state oxygen atoms have a better change of reacting to produce $OH$, so the reactions leading to VOC oxidation become more favourable. \n",
    "\n",
    "\\begin{align}\n",
    "O_3 + h\\nu & \\rightarrow O_2 + O(^1D)& (R14) \\\\\n",
    "O(^1D) + M & \\rightarrow O + M& (R15) \\\\\n",
    "O(^1D) + H_2O &\\rightarrow 2OH & (R16)\n",
    "\\end{align}\n"
   ]
  },
  {
   "cell_type": "markdown",
   "metadata": {},
   "source": [
    "***\n",
    "# Q3g. Decribe what happens to ozone production when the ozone mixing ratio is changed from 30ppb to 100ppb. By referencing what you know about the relevant chemistry, explain why the ambient ozone concentration would affect ozone production.  (3 marks)\n",
    "# Answer to Q3g:\n",
    "***"
   ]
  },
  {
   "cell_type": "markdown",
   "metadata": {},
   "source": [
    "Ozone production increases with increasing ambient ozone concentration. That is because the photolysis of ozone and subsequent reaction of $(O^1D)$ with water is the primary source of $OH$ in the troposphere.\n",
    "\n",
    "\\begin{align}\n",
    "O_3 + h\\nu & \\rightarrow O_2 + O(^1D)& (R14) \\\\\n",
    "O(^1D) + M & \\rightarrow O + M& (R15) \\\\\n",
    "O(^1D) + H_2O &\\rightarrow 2OH & (R16)\n",
    "\\end{align}"
   ]
  },
  {
   "cell_type": "markdown",
   "metadata": {},
   "source": [
    "***\n",
    "# Q3h. Decribe what happens to ozone production when the formaldehyde mixing ratio is changed from 0.5ppb to 10ppb By referencing what you know about the relevant chemistry, explain why the ambient formaldehyde concentration would affect ozone production.  (3 marks)\n",
    "# Answer to Q3h:\n",
    "***"
   ]
  },
  {
   "cell_type": "markdown",
   "metadata": {},
   "source": [
    "Increasing the formaldehyde concentration leads to increased ozone production rates. This makes sense because the photolysis of $H_2CO$ is one of the primary sources of HOx in the troposphere and thus needed for ozone production.\n",
    "\n",
    "\\begin{align}\n",
    "H_2CO + h\\nu & \\rightarrow  CHO + H & (R6)\\\\\n",
    "\\end{align}"
   ]
  },
  {
   "cell_type": "markdown",
   "metadata": {},
   "source": [
    "***\n",
    "# Q3i. Decribe what happens to ozone production when the hour of day is changed from 06:00 to 12:00. By referencing what you know about the relevant chemistry, explain why hour of the day would affect ozone production.  (3 marks)\n",
    "# Answer to Q3i:\n",
    "***"
   ]
  },
  {
   "cell_type": "markdown",
   "metadata": {},
   "source": [
    "The ozone production rate increases with increasing light levels. This makes sense because the radical initiation reactions require photons in the UV/vis range to occur."
   ]
  },
  {
   "cell_type": "markdown",
   "metadata": {},
   "source": [
    "***\n",
    "# Q3j. Give two examples of strategies by which urban ozone reductions are attempted and explain the challenges in achieving those reductions (which reference to the chemistry)  (4 marks)\n",
    "# Answer to Q3j:\n",
    "***"
   ]
  },
  {
   "cell_type": "markdown",
   "metadata": {},
   "source": [
    "Your textbook discusses several strategies in chapter 3. Air quality standards aimed at reducing ozone precursor emissions (NOx, CO, and VOCs) have encouraged the use and increased efficiency of catalytic convertors in vehicles. Changes in additives to gasoline have resulted in decreased tailpipe CO emissions (see pages 94-97 in your text book). NOx control strategies for powerplants include reduced flaming temperatures, staged fuel combustion, stack catalytic converters, and wet scrubbing og exhaust gases (pages 98-99). VOC emissions from organic solvents have also been targeted (pages 101-103). \n",
    "\n",
    "While reductions in precursor emissions and precursor concentrations are seen throughout urban areas in the developed world, ozone concentrations are often stagnant (and in some places increasing). This is because of the non-linearity in the chemistry as seen above. Simultaneous reductions of NOx and VOC/CO emissions can lead to no change in the ozone production rate if those reductions track a single curve on the ozone production isopleth. "
   ]
  },
  {
   "cell_type": "markdown",
   "metadata": {},
   "source": [
    "***\n",
    "When you have finished your assignment, you need to save it as a PDF and submit that PDF on Quercus. In your Jupyter Notebook, goto File --> Download ad --> PDF via LaTeX (.pdf)\n",
    "<img src=\"http://individual.utoronto.ca/sck/CHM210/save2pdf.jpg\">\n",
    "\n",
    "If you have technical questions related to Python or Jupyter, contact Sarah Kavassalis (sarah.kavassalis@mail.utoronto.ca).\n"
   ]
  }
 ],
 "metadata": {
  "kernelspec": {
   "display_name": "Python 3",
   "language": "python",
   "name": "python3"
  },
  "language_info": {
   "codemirror_mode": {
    "name": "ipython",
    "version": 3
   },
   "file_extension": ".py",
   "mimetype": "text/x-python",
   "name": "python",
   "nbconvert_exporter": "python",
   "pygments_lexer": "ipython3",
   "version": "3.7.3"
  }
 },
 "nbformat": 4,
 "nbformat_minor": 2
}
