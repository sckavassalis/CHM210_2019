{
 "cells": [
  {
   "cell_type": "markdown",
   "metadata": {},
   "source": [
    "# CHM210 Assignment 1: Stratospheric Chemistry\n",
    "\n",
    "Welcome to the first assignment for CHM210. We are going to use a <a href=\"https://jupyter4edu.github.io/jupyter-edu-book/\">Jupyter notebook</a> with Python to investigate some properties of stratospheric chemistry and the ozone layer. There are a lot of free, online resources out there to help you with Jupyter and Python. I recommend Christian Hill's <a href=\"https://scipython.com/book/\">\"Learning Scientific Programming with Python\"</a>. The chemistry content of this assignment should follow your textbook and lecture notes, but for those wanting additional materials, Daniel Jacob's <a href=\"http://acmg.seas.harvard.edu/people/faculty/djj/book/\">\"Introduction to Atmospheric Chemistry\"</a> is freely available online and has several relevant chapters for this assignment (Ch1. <a href=\"http://acmg.seas.harvard.edu/people/faculty/djj/book/bookchap1.html#pgfId=518053\">\"Measures of Atmospheric Composition</a>, Ch2. <a href=\"http://acmg.seas.harvard.edu/people/faculty/djj/book/bookchap2.html#pgfId=496461\">\"Atmospheric Pressure\"</a>,  and Ch10. <a href=\"http://acmg.seas.harvard.edu/people/faculty/djj/book/bookchap10.html#pgfId=46289\">\"Stratospheric Ozone\"</a>).\n",
    "\n",
    "We are going to look at some real satellite data related to the structure and composition of the stratosphere in order to better understand the chemistry that takes place. The below image is data from the Atmospheric Infrared Sounder, or AIRS, instrument from NASA's Earth Observing System (EOS) polar-orbiting platform. This data is freely available through NASA's EarthData portal, <a href=\"https://giovanni.gsfc.nasa.gov/giovanni/\">GIOVANNI</a>. \n",
    "<img src=\"http://individual.utoronto.ca/sck/CHM210/GIOVANNI-output8IOXbvLT.png\">\n",
    "The above data is a daily averaged vertical profile of ozone over Toronto from September 23rd, 2016. We can see where the ozone \"layer\" is on this graph. But <i>why</i> does it form there?\n",
    "\n",
    "First things first, we need to import the Python modules we will be using for this assignment. Press the \"Run\" button (or ctrl-enter) on the box below to import the packages we need. If done successfully, the \"You have imported the above packages!\" text will display below. \n",
    "\n",
    "## Importing Python modules and getting to know Python"
   ]
  },
  {
   "cell_type": "code",
   "execution_count": null,
   "metadata": {},
   "outputs": [],
   "source": [
    "# lines that start with a \"#\" character are comments (Python doesn't treat them as code, but they are helpful for including explanations of why we have written code a particular way)\n",
    "# the import statements are how we add the specific packages we want to use\n",
    "# when we write \"import YYYYYY as Y\", we are creating a shortform \"Y\" that we can use to reference the package \"YYYYYY\"  \n",
    "import matplotlib.pyplot as plt\n",
    "import math as m\n",
    "import numpy as np\n",
    "import os\n",
    "# below is a simple print statement that will appear as text when we run this box of code\n",
    "# you can easily change what text prints here by editing the words between the \"\"\n",
    "print(\"You have imported the above modules!\")"
   ]
  },
  {
   "cell_type": "markdown",
   "metadata": {},
   "source": [
    "Let's practice some simple math before we get started to make sure you're comfortable using this Notebook. Run the code below (and feel free to change things) to see what simple arithmetic looks like in Python."
   ]
  },
  {
   "cell_type": "code",
   "execution_count": null,
   "metadata": {},
   "outputs": [],
   "source": [
    "5+10"
   ]
  },
  {
   "cell_type": "markdown",
   "metadata": {},
   "source": [
    "There are several useful, pre-built, functions you can play with, like max(), min()"
   ]
  },
  {
   "cell_type": "code",
   "execution_count": null,
   "metadata": {},
   "outputs": [],
   "source": [
    "# max() returns the maximum value of all arguments you give it\n",
    "max(1,3,6,10,5)"
   ]
  },
  {
   "cell_type": "markdown",
   "metadata": {},
   "source": [
    "We can also easily write our own functions, as below:"
   ]
  },
  {
   "cell_type": "code",
   "execution_count": null,
   "metadata": {},
   "outputs": [],
   "source": [
    "# We are defining our own function called \"mean\" that will take in an \"array\" of numbers and return the mean\n",
    "def mean(array): \n",
    "    # the sum function returns the sum of all values in our array\n",
    "    # the len function returns the number of elements in our array \n",
    "    return sum(array) / len(array) "
   ]
  },
  {
   "cell_type": "markdown",
   "metadata": {},
   "source": [
    "Now let's use our new function"
   ]
  },
  {
   "cell_type": "code",
   "execution_count": null,
   "metadata": {},
   "outputs": [],
   "source": [
    "# this is just a test array (the name isn't meaningful nor the numbers we're starting with) \n",
    "testarray = [4,7,10,11,100]\n",
    "# now we call our function with the testarray as the input\n",
    "mean(testarray)"
   ]
  },
  {
   "cell_type": "markdown",
   "metadata": {},
   "source": [
    "Now let's look what that math package we imported allows us to do. "
   ]
  },
  {
   "cell_type": "code",
   "execution_count": null,
   "metadata": {},
   "outputs": [],
   "source": [
    "# the default logarithm is the natural log (ie. base e)\n",
    "m.log(10)"
   ]
  },
  {
   "cell_type": "code",
   "execution_count": null,
   "metadata": {},
   "outputs": [],
   "source": [
    "# this is how you call log base 10 (math.log(a,base))\n",
    "m.log(10,10)\n",
    "# alternatively, you can use math.log10(a)"
   ]
  },
  {
   "cell_type": "markdown",
   "metadata": {},
   "source": [
    "The math module contains most of the basic mathematical functions we might want, ie. sqrt(x), exp(x), sin(x), pi, e, etc. You can look them up <a href=\"https://docs.python.org/3/library/math.html\">here</a> and test them out below:"
   ]
  },
  {
   "cell_type": "code",
   "execution_count": null,
   "metadata": {},
   "outputs": [],
   "source": [
    "m.sqrt(100)\n",
    "#m.pi\n",
    "#m.exp(1)"
   ]
  },
  {
   "cell_type": "markdown",
   "metadata": {},
   "source": [
    "## Let's load some real data\n",
    "\n",
    "Let's start by looking at the observed temperature profile.\n",
    "\n",
    "First, we need to download the data into our notebook. We will do so with the loadtxt function as below. Run the code below this text box. When you run the code, the text stating \"You have loaded the pressure and temperature data!\" will print (and hopefully no error messages along with it)."
   ]
  },
  {
   "cell_type": "code",
   "execution_count": null,
   "metadata": {},
   "outputs": [],
   "source": [
    "# download .txt file containing atmospheric pressure in units of hPa\n",
    "Pressure = np.loadtxt(fname = \"http://individual.utoronto.ca/sck/CHM210/Pressure.txt\")\n",
    "# download .txt file containing atmospheric temperature in units of Kelvin\n",
    "Temperature = np.loadtxt(fname = \"http://individual.utoronto.ca/sck/CHM210/Temperature.txt\")\n",
    "print(\"You have loaded the pressure and temperature data!\")"
   ]
  },
  {
   "cell_type": "markdown",
   "metadata": {},
   "source": [
    "## Learning to plot simple data\n",
    "Now, let's plot the data to see what it looks like. The code below will create a simple plot of the data we have just imported. If the below code works properly, you should see a plot with pressure on the y-axis and temperature on the x-axis."
   ]
  },
  {
   "cell_type": "code",
   "execution_count": null,
   "metadata": {},
   "outputs": [],
   "source": [
    "# this makes the plot (and sets the size as 6\"x8\")\n",
    "fig = plt.figure(figsize=(6, 8))\n",
    "tp = fig.add_subplot(111)\n",
    "\n",
    "# this tells Python what data to plot (Temperature vs Pressure) and what markers to use (go-- means green dashes between solid circles)\n",
    "tp.plot(Temperature, Pressure, 'go--')\n",
    "# we label the axis (with units!)\n",
    "tp.set_ylabel('Pressure (hPa)')\n",
    "tp.set_xlabel('Temperature (K)')\n",
    "# we will set the y-axis to be on a log-scale since we are plotting pressure\n",
    "tp.set_yscale('log')\n",
    "# we will set the axis limits just to make things look a little nicer\n",
    "tp.set_ylim((1000, 1))\n",
    "tp.set_xlim((210, 320))"
   ]
  },
  {
   "cell_type": "markdown",
   "metadata": {},
   "source": [
    "Now for the first question. We will walk through the first one together."
   ]
  },
  {
   "cell_type": "markdown",
   "metadata": {
    "slideshow": {
     "slide_type": "slide"
    }
   },
   "source": [
    "# Q1a. Identify the height at which the tropopause occurs (in units of km) <i>(2 marks)</i>\n",
    "\n",
    "To do this, we will need to convert pressure (hPa) to altitude (km). We can do that by knowing that,\n",
    "\n",
    "\\begin{align}\n",
    "z = -log\\bigg(\\frac{P(z)}{P(0)}\\bigg)\\times \\frac{(R\\times T)}{(M_{air}\\times g)}\n",
    "\\end{align}\n",
    "\n",
    "Where $P(z)$ is the pressure at altitude z, $P(0)$ is the pressure at the surface, $R$ is the gas constant, $T$ is the temperature, $M_{air}$ is the molecular weight of air, and $g$ is the acceleration due to gravity. A straightforward derivation of this can be found in <a href=\"http://acmg.seas.harvard.edu/people/faculty/djj/book/bookchap2.html#pgfId=438989\"> Jacob</a>.\n",
    "We can write this equation in Python as below:"
   ]
  },
  {
   "cell_type": "code",
   "execution_count": null,
   "metadata": {},
   "outputs": [],
   "source": [
    "# First, let us assign values to the variables we need to use. \n",
    "# When working with R, the gas constant, pay close attention to its units.\n",
    "R = 8.31 # m3⋅Pa⋅K−1⋅mol−1\n",
    "Ma = 29 #g mol-1.\n",
    "g = 9.8 #m s-2\n",
    "\n",
    "# We are going to calculate the altitude corresponding to each pressure value.\n",
    "# What the below code says is that for each level z, starting with the first pressure value (0) and ending with the last (len(Pressure)), we will calculate the corresponding altitude\n",
    "# for z in range(0,len(Pressure)):\n",
    "Altitude = [-m.log(Pressure[z]/Pressure[0])*(R*Temperature[z])/(Ma*g) for z in range(0,len(Pressure))]\n",
    "\n",
    "# This will print out the contents of our array so we can make sure they make sense (values should range between 0km and ~53km)\n",
    "print(Altitude)"
   ]
  },
  {
   "cell_type": "markdown",
   "metadata": {},
   "source": [
    "If the above code worked, you should have printed the altitudes calculated ranging from 0km to 53km. Let's replot our temperature vs pressure graph to show temperature vs altitude. \n",
    "\n",
    "Fill-in the correct information in the below code (ie. replace \"FILL_IN_CORRECT_NAME\" with \"Altitude\"):"
   ]
  },
  {
   "cell_type": "code",
   "execution_count": null,
   "metadata": {},
   "outputs": [],
   "source": [
    "fig = plt.figure(figsize=(6, 8))\n",
    "tp = fig.add_subplot(111)\n",
    "\n",
    "tp.plot(Temperature, FILL_IN_CORRECT_NAME, 'go--')\n",
    "tp.set_ylabel('Altitude (km)')\n",
    "tp.set_xlabel('Temperature (K)')"
   ]
  },
  {
   "cell_type": "markdown",
   "metadata": {},
   "source": [
    "Now you should be able to identify the height at which the tropopause occurs by reading it off the graph (plus or minus 5km is fine). "
   ]
  },
  {
   "cell_type": "markdown",
   "metadata": {},
   "source": [
    "# Answer to Q1a :\n",
    "\n",
    "[type your answer here]"
   ]
  },
  {
   "cell_type": "markdown",
   "metadata": {},
   "source": [
    "# Q1b: Is this height constant (ie. would we expect to find the tropopause at the same altitude over different parts of the world or at times of year)? Why or why not?  <i>(2 marks)</i>"
   ]
  },
  {
   "cell_type": "markdown",
   "metadata": {},
   "source": [
    "# Answer to Q1b:\n",
    "\n",
    "[type your answer here]"
   ]
  },
  {
   "cell_type": "markdown",
   "metadata": {},
   "source": [
    "# Q2a. Plot Altitude (km) vs Number Density (molecules/$cm^3$) <i>(2 marks)</i>  \n",
    "\n",
    "All axis must be labelled with correct units."
   ]
  },
  {
   "cell_type": "markdown",
   "metadata": {},
   "source": [
    "To do this, you will need to remember the ideal gas law,\n",
    "\\begin{align}\n",
    "PV=nRT\n",
    "\\end{align}\n",
    "Where $P$, $R$, $T$ are as defined above, and $n$ is the number of moles of air contained in $V$ volume of atmosphere. You will likely need Avogadro's number to convert between molecules and moles."
   ]
  },
  {
   "cell_type": "code",
   "execution_count": null,
   "metadata": {},
   "outputs": [],
   "source": [
    "Av = 6.023e23 # molecules mol-1 is Avogadro's number"
   ]
  },
  {
   "cell_type": "markdown",
   "metadata": {},
   "source": [
    "Write an expression to solve for the number density ($N_a$). Check your notes or look at <a href=\"http://acmg.seas.harvard.edu/people/faculty/djj/book/bookchap1.html#pgfId=521385\"> Jacob</a> for a refresher if you are stuck. Look at how we wrote the expression for Altitude above to figure out how to write this piece of code. Remember to pay close attention to units! "
   ]
  },
  {
   "cell_type": "code",
   "execution_count": null,
   "metadata": {},
   "outputs": [],
   "source": [
    "Na = [FILL_IN_FORMULA  for z in range(0,len(Altitude))]"
   ]
  },
  {
   "cell_type": "markdown",
   "metadata": {},
   "source": [
    "Once you've calculated number density, create your plot."
   ]
  },
  {
   "cell_type": "markdown",
   "metadata": {},
   "source": [
    "# Answer to Q2a:"
   ]
  },
  {
   "cell_type": "code",
   "execution_count": null,
   "metadata": {},
   "outputs": [],
   "source": [
    "fig3 = plt.figure(figsize=(6, 8))\n",
    "na = fig3.add_subplot(111)\n",
    "\n",
    "na.plot(Na, Altitude, 'go--')\n",
    "na.set_ylabel('Altitude (km)')\n",
    "na.set_xlabel('FILL_IN_NAME_AND_UNITS')"
   ]
  },
  {
   "cell_type": "markdown",
   "metadata": {},
   "source": [
    "# Q2b. Plot Altitude vs $O_2$ (molecules/$cm^3$) <i>(2 marks)</i>\n",
    "All axis must be labelled with correct units."
   ]
  },
  {
   "cell_type": "markdown",
   "metadata": {},
   "source": [
    "# Answer to Q2b:"
   ]
  },
  {
   "cell_type": "code",
   "execution_count": null,
   "metadata": {},
   "outputs": [],
   "source": [
    "# Rememeber what percentage of the atmosphere is O2\n",
    "O2 = [FILL_IN_FORMULA for z in range(0,len(Altitude))]\n",
    "\n",
    "fig4 = plt.figure(figsize=(6, 8))\n",
    "O2a = fig4.add_subplot(111)\n",
    "O2a.plot(O2, Altitude, 'go--')\n",
    "O2a.set_ylabel('Altitude (km)')\n",
    "O2a.set_xlabel('FILL_IN_NAME_AND_UNITS')"
   ]
  },
  {
   "cell_type": "markdown",
   "metadata": {},
   "source": [
    "# The Chapman Mechanism \n",
    "\n",
    "Recall from lecture the four reactions originally proposed to explain the presence of the stratospheric ozone layer,\n",
    "\n",
    "\\begin{align}\n",
    "O_{2} + h\\nu & \\rightarrow O + O^{*} & (\\lambda<240nm) &&(R1) \\\\\n",
    "O + O_{2} + M & \\rightarrow O_{3} + M &  &&(R2) \\\\\n",
    "O_{3} + h\\nu&  \\rightarrow O_{2} + O^{*} & (\\lambda<320nm) &&(R3) \\\\\n",
    "O_{3} + O& \\rightarrow 2O_{2} &  &&(R4)\n",
    "\\end{align}"
   ]
  },
  {
   "cell_type": "markdown",
   "metadata": {},
   "source": [
    "# Q3a. Write down the rates of each of the above four reactions  <i>(2 marks)</i>\n",
    "The rate constants are $k_1$ for $R1$, $k_2$ for $R2$, $k_3$ for $R3$, and $k_4$ for $R4$. $k_{1}$ and $k_{3}$ have units of $s^{-1}$ (photon density is already incorporated), $k_{2}$ in units of $cm^{6}molecules^{-2}s^{-1}$, and $k_{4}$ in units of $cm^{3}molecules^{-1}s^{-1}$. The rates of reactions will be written as functions of the rate constants and concentrations ($[O_{2}]$, $[M]$, $[O_{3}]$, and $[O]$)."
   ]
  },
  {
   "cell_type": "markdown",
   "metadata": {},
   "source": [
    "# Answer to Q3a:"
   ]
  },
  {
   "cell_type": "markdown",
   "metadata": {},
   "source": [
    "\\begin{align}\n",
    "rate_{1} &= WRITE EXPRESSION FOR REACTION RATE \\\\\n",
    "rate_{2} &= WRITE EXPRESSION FOR REACTION RATE \\\\\n",
    "rate_{3} &= WRITE EXPRESSION FOR REACTION RATE \\\\\n",
    "rate_{4} &= WRITE EXPRESSION FOR REACTION RATE \n",
    "\\end{align}\n",
    "\n"
   ]
  },
  {
   "cell_type": "markdown",
   "metadata": {},
   "source": [
    "# Q3b. Plot the rate constants vs altitude <i>(4 marks)</i>\n",
    "To do this, we will need to import data for k1 and k3. The data we will be using is output from the <a href=\"http://cprm.acom.ucar.edu/Models/TUV/Interactive_TUV/\">TUV calculator</a>, a free, online tool for modelling photolysis frequencies and actinic flux."
   ]
  },
  {
   "cell_type": "code",
   "execution_count": null,
   "metadata": {},
   "outputs": [],
   "source": [
    "# download a .txt file containing photolysis rate constants for O2 -> O + O from 0 - 50km~\n",
    "k1 = np.loadtxt(fname = \"http://individual.utoronto.ca/sck/CHM210/k1d.txt\")\n",
    "# download a .txt file containing photolysis rate constants for O3 -> O2 + O(1D) from 0 - 50km~\n",
    "k3 = np.loadtxt(fname = \"http://individual.utoronto.ca/sck/CHM210/k3d.txt\")\n",
    "print(\"k1 and k3 have been loaded!\")"
   ]
  },
  {
   "cell_type": "markdown",
   "metadata": {},
   "source": [
    "The expression for $k_2$ is given by,\n",
    "\n",
    "$k_{2} = 6\\times10^{-34}(T/300)^{-2.3}$ \n",
    "\n",
    "You will need to write this in a form Python can interpret."
   ]
  },
  {
   "cell_type": "code",
   "execution_count": null,
   "metadata": {},
   "outputs": [],
   "source": [
    "k2 = [FILL_IN_FORMULA for z in range(0,len(Pressure))]"
   ]
  },
  {
   "cell_type": "markdown",
   "metadata": {},
   "source": [
    "Similarly, $k_{4}$ is given by,\n",
    "\n",
    "$k_{4} = 8\\times10^{-12}exp(-2060/T)$ "
   ]
  },
  {
   "cell_type": "code",
   "execution_count": null,
   "metadata": {},
   "outputs": [],
   "source": [
    "k4 = [FILL_IN_FORMULA for z in range(0,len(Pressure))]"
   ]
  },
  {
   "cell_type": "markdown",
   "metadata": {},
   "source": [
    "Now we should have everything needed to plot the four rate constants. If you have kept the names as above, the below code should plot the four rate constants vs altitude."
   ]
  },
  {
   "cell_type": "markdown",
   "metadata": {},
   "source": [
    "# Answer to Q3b:"
   ]
  },
  {
   "cell_type": "code",
   "execution_count": null,
   "metadata": {},
   "outputs": [],
   "source": [
    "# we are going to make two plots so k1 and k3 are on one plot and k2 and k4 are on another\n",
    "f, (ax1, ax2) = plt.subplots(1, 2, sharey=True)\n",
    "# k1 will be in red\n",
    "color = 'tab:red'\n",
    "ax1.set_xlabel('$k_1$ ($s^-1$)', color=color)\n",
    "# the x-axis will be in a log-scale so we can see how many orders of magnitude our rate constants span\n",
    "ax1.set_xscale('log')\n",
    "ax1.set_ylabel('Altitude (km)')\n",
    "ax1.plot(k1, Altitude, color=color)\n",
    "ax1.tick_params(axis='x', labelcolor=color)\n",
    "ax1.set_xlim((1e-16, None))\n",
    "\n",
    "ax3 = ax1.twiny()\n",
    "# k3 will be in red\n",
    "color = 'tab:blue'\n",
    "ax3.set_xlabel('$k_3$ ($s^-1$)', color=color)\n",
    "ax3.set_xscale('log')\n",
    "ax3.plot(k3, Altitude, color=color)\n",
    "ax3.tick_params(axis='x', labelcolor=color)\n",
    "\n",
    "# k2 will be in green\n",
    "color = 'tab:green'\n",
    "ax2.set_xlabel('$k_2$ ($cm^{6}molecules^{-2}s^{-1}$)', color=color)\n",
    "ax2.plot(k2, Altitude, color=color)\n",
    "ax2.tick_params(axis='x', labelcolor=color)\n",
    "ax2.set_xlim((0, None))\n",
    "\n",
    "ax4 = ax2.twiny()\n",
    "# k4 will be in cyan\n",
    "color = 'tab:cyan'\n",
    "ax4.set_xlabel('$k_4$ ($cm^{3}molecules^{-1}s^{-1}$)', color=color) \n",
    "ax4.plot(k4, Altitude, color=color)\n",
    "ax4.tick_params(axis='x', labelcolor=color)\n",
    "ax4.set_xlim((0, None))"
   ]
  },
  {
   "cell_type": "markdown",
   "metadata": {},
   "source": [
    "# Q3c. What is the steady-state assumption and when might it apply to chemical species in the atmosphere <i>(2 marks)</i>"
   ]
  },
  {
   "cell_type": "markdown",
   "metadata": {},
   "source": [
    "# Answer to Q3c:\n",
    "\n",
    "[type your answer here]"
   ]
  },
  {
   "cell_type": "markdown",
   "metadata": {},
   "source": [
    "# Q3d. Write an expression for the steady-state concentration of $O_3$ as a function of the rate constants and $[O_2]$ only. <i>(4 marks)</i>"
   ]
  },
  {
   "cell_type": "markdown",
   "metadata": {},
   "source": [
    "# Answer to Q3d:\n",
    "\n",
    "[type your answer here]"
   ]
  },
  {
   "cell_type": "markdown",
   "metadata": {},
   "source": [
    "# Q3e. Plot the the steady-state concentration of $O_3$ vs altitude <i>(2 marks)</i>"
   ]
  },
  {
   "cell_type": "markdown",
   "metadata": {},
   "source": [
    "# Answer to Q3e:"
   ]
  },
  {
   "cell_type": "code",
   "execution_count": null,
   "metadata": {},
   "outputs": [],
   "source": [
    "# You will need to convert your expression for the steady-state concentration of ozone into a form Python can recognize\n",
    "O3 = [FILL_IN_FORMULA for z in range(0,len(Pressure))]\n",
    "\n",
    "fig5 = plt.figure(figsize=(6, 8))\n",
    "O3a = fig5.add_subplot(111)\n",
    "\n",
    "O3a.plot(O3, Altitude, 'go--')\n",
    "O3a.set_ylabel('Altitude (km)')\n",
    "O3a.set_xlabel('[$O_3$] (molecules/$cm^3$)')"
   ]
  },
  {
   "cell_type": "markdown",
   "metadata": {},
   "source": [
    "# Q3f. By referencing the above plots you have made, explain why the ozone layer forms where it does. <i>(3 marks)</i>"
   ]
  },
  {
   "cell_type": "markdown",
   "metadata": {},
   "source": [
    "# Answer to Q3f.\n",
    "\n",
    "[type your answer here]"
   ]
  },
  {
   "cell_type": "markdown",
   "metadata": {},
   "source": [
    "# Q4a. Plot our steady-state $[O_3]$ vs altitude on the same graph as the satellite observations above in units of ppbv. <i>(3 marks)</i>\n",
    "We need to convert our data from molecules/cm^3 to ppbv. To do this, we will need to use the ideal gas law. We will also have to download the ozone observations in a form we can easily use:"
   ]
  },
  {
   "cell_type": "code",
   "execution_count": null,
   "metadata": {},
   "outputs": [],
   "source": [
    "# download .txt containing [O3] observations from 0 - 50km~\n",
    "O3obs = np.loadtxt(fname = \"http://individual.utoronto.ca/sck/CHM210/O3.txt\")"
   ]
  },
  {
   "cell_type": "markdown",
   "metadata": {},
   "source": [
    "Now convert from molecules/cm^3 to ppb (remembering the ideal gas law)"
   ]
  },
  {
   "cell_type": "code",
   "execution_count": null,
   "metadata": {},
   "outputs": [],
   "source": [
    "# R = 82.057338 # cm3 atm K=1 mol=1\n",
    "O3ppbv = [FILL_IN_FORMULA for z in range(0,len(Pressure))]"
   ]
  },
  {
   "cell_type": "markdown",
   "metadata": {},
   "source": [
    "# Answer to Q4a:"
   ]
  },
  {
   "cell_type": "code",
   "execution_count": null,
   "metadata": {},
   "outputs": [],
   "source": [
    "fig5 = plt.figure(figsize=(6, 8))\n",
    "O3p = fig5.add_subplot(111)\n",
    "\n",
    "# this will plot both curves on the same graph\n",
    "# our calculate O3 will be in green and the observations in red\n",
    "O3p.plot(O3ppbv, Pressure, 'go--', label='Modelled Ozone')\n",
    "O3p.plot(O3obs, Pressure, 'r+-', label='Observed Ozone')\n",
    "O3p.legend(loc='upper right')\n",
    "O3p.set_ylabel('Pressure (hPa)')\n",
    "O3p.set_xlabel('[$O_3$] (ppbv)')\n",
    "O3p.set_yscale('log')\n",
    "O3p.set_ylim((1000, 1))"
   ]
  },
  {
   "cell_type": "markdown",
   "metadata": {},
   "source": [
    "# Q4b. Determine the overhead ozone column depth in Dobson units for both our calculated $O_3$ and the observed $O_3$ (DU) <i>(4 marks)</i>"
   ]
  },
    {
   "cell_type": "markdown",
   "metadata": {},
   "source": [
    "To calculate the ozone column depth, we need to integrate the total ozone vs altitude. This might be easier to think about if we flip out axis, ie. "
   ]
  },
  {
   "cell_type": "code",
   "execution_count": 116,
   "metadata": {},
   "outputs": [
    {
     "data": {
      "text/plain": [
       "Text(0, 0.5, '[$O_3$] (molecules/$cm^3$)')"
      ]
     },
     "execution_count": 116,
     "metadata": {},
     "output_type": "execute_result"
    },
    {
     "data": {
      "image/png": "[encoded data removed]",
      "text/plain": [
       "<Figure size 432x576 with 1 Axes>"
      ]
     },
     "metadata": {
      "needs_background": "light"
     },
     "output_type": "display_data"
    }
   ],
   "source": [
    "fig6 = plt.figure(figsize=(6, 8))\n",
    "O3p = fig6.add_subplot(111)\n",
    "O3p.plot(Altitude, O3, 'r+-', label='Observed Ozone')\n",
    "O3p.set_xlabel('Altitude (km)')\n",
    "O3p.set_ylabel('[$O_3$] (molecules/$cm^3$)')"
   ]
  },
  {
   "cell_type": "markdown",
   "metadata": {},
   "source": [
    "We want to find the area under the curve above. We can do that with the <a href=\"https://docs.scipy.org/doc/numpy/reference/generated/numpy.trapz.html\">numpy.trapz</a> function, which uses the trapezoidal rule for numerical integration. We'll need to make sure units are appropriate (ie. altitude should be in $cm$ if concentration is in molecules/$cm^3$)."
   ]
  },
  {
   "cell_type": "code",
   "execution_count": 117,
   "metadata": {},
   "outputs": [
    {
     "data": {
      "text/plain": [
       "5.257236157557989e+19"
      ]
     },
     "execution_count": 117,
     "metadata": {},
     "output_type": "execute_result"
    }
   ],
   "source": [
    "Altitudecm = [Altitude[z]*1e5 for z in range(0,len(Pressure))]\n",
    "np.trapz(O3, x=Altitudecm)"
   ]
  },
  {
   "cell_type": "markdown",
   "metadata": {},
   "source": [
    "# Answer to Q4b.\n",
    "\n",
    "[type your answer here]"
   ]
  },
  {
   "cell_type": "markdown",
   "metadata": {},
   "source": [
    "# Q4c. Why might modelled ozone be so much greater than the observed ozone concentrations? <i>(4 marks)</i>"
   ]
  },
  {
   "cell_type": "markdown",
   "metadata": {},
   "source": [
    "# Answer to Q4c.\n",
    "\n",
    "[type your answer here]"
   ]
  },
  {
   "cell_type": "markdown",
   "metadata": {},
   "source": [
    " "
   ]
  },
  {
   "cell_type": "markdown",
   "metadata": {},
   "source": [
    "When you have finished your assignment, you need to save it as a PDF and submit that PDF on Quercus. In your Jupyter Notebook, goto File --> Download ad --> PDF via LaTeX (.pdf)\n",
    "<img src=\"http://individual.utoronto.ca/sck/CHM210/save2pdf.jpg\">\n",
    "\n",
    "If you have technical questions related to Python or Jupyter, contact Sarah Kavassalis (sarah.kavassalis@mail.utoronto.ca).\n"
   ]
  }
 ],
 "metadata": {
  "kernelspec": {
   "display_name": "Python 3",
   "language": "python",
   "name": "python3"
  },
  "language_info": {
   "codemirror_mode": {
    "name": "ipython",
    "version": 3
   },
   "file_extension": ".py",
   "mimetype": "text/x-python",
   "name": "python",
   "nbconvert_exporter": "python",
   "pygments_lexer": "ipython3",
   "version": "3.7.3"
  }
 },
 "nbformat": 4,
 "nbformat_minor": 2
}
