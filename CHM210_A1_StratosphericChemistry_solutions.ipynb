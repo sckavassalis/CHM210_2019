{
 "cells": [
  {
   "cell_type": "markdown",
   "metadata": {},
   "source": [
    "# CHM210 Assignment 1: Stratospheric Chemistry\n",
    "\n",
    "Welcome to the first assignment for CHM210. We are going to use a <a href=\"https://jupyter4edu.github.io/jupyter-edu-book/\">Jupyter notebook</a> with Python to investigate some properties of stratospheric chemistry and the ozone layer. All of your answers will be completed within this document (changes you make are saved into your personal https://utoronto.syzygy.ca account, so don't worry about editing this file). There are a lot of free, online resources out there to help you with Jupyter and Python. I recommend Christian Hill's <a href=\"https://scipython.com/book/\">\"Learning Scientific Programming with Python\"</a>. The chemistry content of this assignment should follow your textbook and lecture notes, but for those wanting additional materials, Daniel Jacob's <a href=\"http://acmg.seas.harvard.edu/people/faculty/djj/book/\">\"Introduction to Atmospheric Chemistry\"</a> is freely available online and has several relevant chapters for this assignment (Ch1. <a href=\"http://acmg.seas.harvard.edu/people/faculty/djj/book/bookchap1.html#pgfId=518053\">\"Measures of Atmospheric Composition</a>, Ch2. <a href=\"http://acmg.seas.harvard.edu/people/faculty/djj/book/bookchap2.html#pgfId=496461\">\"Atmospheric Pressure\"</a>,  and Ch10. <a href=\"http://acmg.seas.harvard.edu/people/faculty/djj/book/bookchap10.html#pgfId=46289\">\"Stratospheric Ozone\"</a>).\n",
    "\n",
    "We are going to look at some real satellite data related to the structure and composition of the stratosphere in order to better understand the chemistry that takes place. The below image is data from the Atmospheric Infrared Sounder, or AIRS, instrument from NASA's Earth Observing System (EOS) polar-orbiting platform. This data is freely available through NASA's EarthData portal, <a href=\"https://giovanni.gsfc.nasa.gov/giovanni/\">GIOVANNI</a>. \n",
    "<img src=\"http://individual.utoronto.ca/sck/CHM210/GIOVANNI-output8IOXbvLT.png\">\n",
    "The above data is a daily averaged vertical profile of ozone over Toronto from September 23rd, 2016. We can see where the ozone \"layer\" is on this graph. But <i>why</i> does it form there?\n",
    "\n",
    "First things first, we need to import the Python modules we will be using for this assignment. Press the \"Run\" button (or ctrl-enter) on the box below to import the packages we need. If done successfully, the \"You have imported the above packages!\" text will display below. \n",
    "\n",
    "## Importing Python modules and getting to know Python"
   ]
  },
  {
   "cell_type": "code",
   "execution_count": 1,
   "metadata": {},
   "outputs": [
    {
     "name": "stdout",
     "output_type": "stream",
     "text": [
      "You have imported the above modules!\n"
     ]
    }
   ],
   "source": [
    "# lines that start with a \"#\" character are comments (Python doesn't treat them as code, but they are helpful for including explanations of why we have written code a particular way)\n",
    "# the import statements are how we add the specific packages we want to use\n",
    "# when we write \"import YYYYYY as Y\", we are creating a shortform \"Y\" that we can use to reference the package \"YYYYYY\"  \n",
    "import matplotlib.pyplot as plt\n",
    "import math as m\n",
    "import numpy as np\n",
    "import os\n",
    "# below is a simple print statement that will appear as text when we run this box of code\n",
    "# you can easily change what text prints here by editing the words between the \"\"\n",
    "print(\"You have imported the above modules!\")"
   ]
  },
  {
   "cell_type": "markdown",
   "metadata": {},
   "source": [
    "Let's practice some simple math before we get started to make sure you're comfortable using this Notebook. Run the code below (and feel free to change things) to see what simple arithmetic looks like in Python."
   ]
  },
  {
   "cell_type": "code",
   "execution_count": 2,
   "metadata": {},
   "outputs": [
    {
     "data": {
      "text/plain": [
       "15"
      ]
     },
     "execution_count": 2,
     "metadata": {},
     "output_type": "execute_result"
    }
   ],
   "source": [
    "5+10"
   ]
  },
  {
   "cell_type": "markdown",
   "metadata": {},
   "source": [
    "This is how you would write $10^5$"
   ]
  },
  {
   "cell_type": "code",
   "execution_count": 3,
   "metadata": {},
   "outputs": [
    {
     "data": {
      "text/plain": [
       "100000"
      ]
     },
     "execution_count": 3,
     "metadata": {},
     "output_type": "execute_result"
    }
   ],
   "source": [
    "10**5"
   ]
  },
  {
   "cell_type": "markdown",
   "metadata": {},
   "source": [
    "There are several useful, pre-built, functions you can play with, like max(), min()"
   ]
  },
  {
   "cell_type": "code",
   "execution_count": 4,
   "metadata": {},
   "outputs": [
    {
     "data": {
      "text/plain": [
       "10"
      ]
     },
     "execution_count": 4,
     "metadata": {},
     "output_type": "execute_result"
    }
   ],
   "source": [
    "# max() returns the maximum value of all arguments you give it\n",
    "max(1,3,6,10,5)"
   ]
  },
  {
   "cell_type": "markdown",
   "metadata": {},
   "source": [
    "We can also easily write our own functions, as below:"
   ]
  },
  {
   "cell_type": "code",
   "execution_count": 5,
   "metadata": {},
   "outputs": [],
   "source": [
    "# We are defining our own function called \"mean\" that will take in an \"array\" of numbers and return the mean\n",
    "def mean(array): \n",
    "    # the sum function returns the sum of all values in our array\n",
    "    # the len function returns the number of elements in our array \n",
    "    return sum(array) / len(array) "
   ]
  },
  {
   "cell_type": "markdown",
   "metadata": {},
   "source": [
    "Now let's use our new function"
   ]
  },
  {
   "cell_type": "code",
   "execution_count": 6,
   "metadata": {},
   "outputs": [
    {
     "data": {
      "text/plain": [
       "26.4"
      ]
     },
     "execution_count": 6,
     "metadata": {},
     "output_type": "execute_result"
    }
   ],
   "source": [
    "# this is just a test array (the name isn't meaningful nor the numbers we're starting with) \n",
    "testarray = [4,7,10,11,100]\n",
    "# now we call our function with the testarray as the input\n",
    "mean(testarray)"
   ]
  },
  {
   "cell_type": "markdown",
   "metadata": {},
   "source": [
    "Now let's look what that math package we imported allows us to do. "
   ]
  },
  {
   "cell_type": "code",
   "execution_count": 7,
   "metadata": {},
   "outputs": [
    {
     "data": {
      "text/plain": [
       "2.302585092994046"
      ]
     },
     "execution_count": 7,
     "metadata": {},
     "output_type": "execute_result"
    }
   ],
   "source": [
    "# the default logarithm is the natural log (ie. base e)\n",
    "m.log(10)"
   ]
  },
  {
   "cell_type": "code",
   "execution_count": 8,
   "metadata": {},
   "outputs": [
    {
     "data": {
      "text/plain": [
       "1.0"
      ]
     },
     "execution_count": 8,
     "metadata": {},
     "output_type": "execute_result"
    }
   ],
   "source": [
    "# this is how you call log base 10 (math.log(a,base))\n",
    "m.log(10,10)\n",
    "# alternatively, you can use math.log10(a)"
   ]
  },
  {
   "cell_type": "markdown",
   "metadata": {},
   "source": [
    "The math module contains most of the basic mathematical functions we might want, ie. sqrt(x), exp(x), sin(x), pi, e, etc. You can look them up <a href=\"https://docs.python.org/3/library/math.html\">here</a> and test them out below:"
   ]
  },
  {
   "cell_type": "code",
   "execution_count": 9,
   "metadata": {},
   "outputs": [
    {
     "data": {
      "text/plain": [
       "10.0"
      ]
     },
     "execution_count": 9,
     "metadata": {},
     "output_type": "execute_result"
    }
   ],
   "source": [
    "m.sqrt(100)\n",
    "#m.pi\n",
    "#m.exp(1)"
   ]
  },
  {
   "cell_type": "markdown",
   "metadata": {},
   "source": [
    "## Let's load some real data\n",
    "\n",
    "Let's start by looking at the observed temperature profile.\n",
    "\n",
    "First, we need to download the data into our notebook. We will do so with the loadtxt function as below. Run the code below this text box. When you run the code, the text stating \"You have loaded the pressure and temperature data!\" will print (and hopefully no error messages along with it)."
   ]
  },
  {
   "cell_type": "code",
   "execution_count": 10,
   "metadata": {},
   "outputs": [
    {
     "name": "stdout",
     "output_type": "stream",
     "text": [
      "You have loaded the pressure and temperature data!\n"
     ]
    }
   ],
   "source": [
    "# download .txt file containing atmospheric pressure in units of hPa\n",
    "Pressure = np.loadtxt(fname = \"http://individual.utoronto.ca/sck/CHM210/Pressure.txt\")\n",
    "# download .txt file containing atmospheric temperature in units of Kelvin\n",
    "Temperature = np.loadtxt(fname = \"http://individual.utoronto.ca/sck/CHM210/Temperature.txt\")\n",
    "print(\"You have loaded the pressure and temperature data!\")"
   ]
  },
  {
   "cell_type": "markdown",
   "metadata": {},
   "source": [
    "## Learning to plot simple data\n",
    "Now, let's plot the data to see what it looks like. The code below will create a simple plot of the data we have just imported. If the below code works properly, you should see a plot with pressure on the y-axis and temperature on the x-axis."
   ]
  },
  {
   "cell_type": "code",
   "execution_count": 11,
   "metadata": {},
   "outputs": [
    {
     "data": {
      "text/plain": [
       "(210, 320)"
      ]
     },
     "execution_count": 11,
     "metadata": {},
     "output_type": "execute_result"
    },
    {
     "data": {
      "image/png": "[encoded data removed]",
      "text/plain": [
       "<Figure size 432x576 with 1 Axes>"
      ]
     },
     "metadata": {
      "needs_background": "light"
     },
     "output_type": "display_data"
    }
   ],
   "source": [
    "# this makes the plot (and sets the size as 6\"x8\")\n",
    "fig = plt.figure(figsize=(6, 8))\n",
    "tp = fig.add_subplot(111)\n",
    "\n",
    "# this tells Python what data to plot (Temperature vs Pressure) and what markers to use (go-- means green dashes between solid circles)\n",
    "tp.plot(Temperature, Pressure, 'go--')\n",
    "# we label the axis (with units!)\n",
    "tp.set_ylabel('Pressure (hPa)')\n",
    "tp.set_xlabel('Temperature (K)')\n",
    "# we will set the y-axis to be on a log-scale since we are plotting pressure\n",
    "tp.set_yscale('log')\n",
    "# we will set the axis limits just to make things look a little nicer\n",
    "tp.set_ylim((1000, 1))\n",
    "tp.set_xlim((210, 320))"
   ]
  },
  {
   "cell_type": "markdown",
   "metadata": {},
   "source": [
    "Now for the first question. We will walk through the first one together."
   ]
  },
  {
   "cell_type": "markdown",
   "metadata": {
    "slideshow": {
     "slide_type": "slide"
    }
   },
   "source": [
    "# Q1a. Identify the height at which the tropopause occurs (you must include units with your answer!) <i>(2 marks)</i>\n",
    "\n",
    "To do this, we will need to convert pressure (hPa) to altitude (km). We can do that by knowing that,\n",
    "\n",
    "\\begin{align}\n",
    "z = -log\\bigg(\\frac{P(z)}{P(0)}\\bigg)\\times \\frac{(R\\times T)}{(M_{air}\\times g)}\n",
    "\\end{align}\n",
    "\n",
    "Where $P(z)$ is the pressure at altitude z, $P(0)$ is the pressure at the surface, $R$ is the gas constant, $T$ is the temperature, $M_{air}$ is the molecular weight of air, and $g$ is the acceleration due to gravity. A straightforward derivation of this can be found in <a href=\"http://acmg.seas.harvard.edu/people/faculty/djj/book/bookchap2.html#pgfId=438989\"> Jacob</a>.\n",
    "We can write this equation in Python as below:"
   ]
  },
  {
   "cell_type": "code",
   "execution_count": 12,
   "metadata": {},
   "outputs": [
    {
     "name": "stdout",
     "output_type": "stream",
     "text": [
      "[-0.0, 0.6463918956236044, 1.3151452214061055, 2.8796906991746334, 4.011800255564502, 5.269155486326363, 6.693743805188915, 8.202566021890949, 9.130065147624338, 10.205141142150634, 11.811757392142377, 14.222340082851833, 16.3668965290799, 18.811912030935336, 22.19466832623713, 25.281169035889185, 27.193723822474034, 30.84685886963993, 33.60417303182404, 36.82317752744588, 41.8523161562467, 45.20630417570779, 48.78358518373318, 53.12719258775497]\n"
     ]
    }
   ],
   "source": [
    "# First, let us assign values to the variables we need to use. \n",
    "# When working with R, the gas constant, pay close attention to its units.\n",
    "R = 8.31 # m3⋅Pa⋅K−1⋅mol−1\n",
    "Ma = 29 #g mol-1.\n",
    "g = 9.8 #m s-2\n",
    "\n",
    "# We are going to calculate the altitude corresponding to each pressure value.\n",
    "# What the below code says is that for each level z, starting with the first pressure value (0) and ending with the last (len(Pressure)), we will calculate the corresponding altitude\n",
    "# for z in range(0,len(Pressure)):\n",
    "Altitude = [-m.log(Pressure[z]/Pressure[0])*(R*Temperature[z])/(Ma*g) for z in range(0,len(Pressure))]\n",
    "\n",
    "# This will print out the contents of our array so we can make sure they make sense (values should range between 0km and ~53km)\n",
    "print(Altitude)"
   ]
  },
  {
   "cell_type": "markdown",
   "metadata": {},
   "source": [
    "If the above code worked, you should have printed the altitudes calculated ranging from 0km to 53km. Let's replot our temperature vs pressure graph to show temperature vs altitude. \n",
    "\n",
    "Fill-in the correct information in the below code (ie. replace \"FILL_IN_CORRECT_NAME\" with \"Altitude\"):"
   ]
  },
  {
   "cell_type": "code",
   "execution_count": 13,
   "metadata": {},
   "outputs": [
    {
     "data": {
      "text/plain": [
       "Text(0.5, 0, 'Temperature (K)')"
      ]
     },
     "execution_count": 13,
     "metadata": {},
     "output_type": "execute_result"
    },
    {
     "data": {
      "image/png": "[encoded data removed]",
      "text/plain": [
       "<Figure size 432x576 with 1 Axes>"
      ]
     },
     "metadata": {
      "needs_background": "light"
     },
     "output_type": "display_data"
    }
   ],
   "source": [
    "fig = plt.figure(figsize=(6, 8))\n",
    "tp = fig.add_subplot(111)\n",
    "\n",
    "tp.plot(Temperature, Altitude, 'go--')\n",
    "tp.set_ylabel('Altitude (km)')\n",
    "tp.set_xlabel('Temperature (K)')"
   ]
  },
  {
   "cell_type": "markdown",
   "metadata": {},
   "source": [
    "Now you should be able to identify the height at which the tropopause occurs by reading it off the graph (plus or minus 5km is fine). "
   ]
  },
  {
   "cell_type": "markdown",
   "metadata": {},
   "source": [
    "# Answer to Q1a :\n",
    "***"
   ]
  },
  {
   "cell_type": "markdown",
   "metadata": {},
   "source": [
    "If we define the tropopause as the region where the vertical temperature gradient changes signs, then we can see that it occured roughly between <b>10-15km</b> over Toronto on September 23rd, 2016."
   ]
  },
  {
   "cell_type": "markdown",
   "metadata": {},
   "source": [
    "***\n",
    "# Q1b: Is this height constant (ie. would we expect to find the tropopause at the same altitude over different parts of the world or at times of year)? Why or why not?  <i>(2 marks)</i>"
   ]
  },
  {
   "cell_type": "markdown",
   "metadata": {},
   "source": [
    "# Answer to Q1b:\n",
    "***"
   ]
  },
  {
   "cell_type": "markdown",
   "metadata": {},
   "source": [
    "<b>No</b>, the height of the tropopause varies with latitude and season. To see what this variability actually looks like, check out this figure modified from Zhang et al. (<a href=\"https://ieeexplore.ieee.org/document/6522167\">IEEE Transactions on Geoscience and Remote Sensing</a>, 2014) showing the monthly weighted averages of the global tropopause height over a few different latitude regions.\n",
    "\n",
    "<img src=\"http://individual.utoronto.ca/sck/CHM210/tropopauseheightb.png\" alt=\"Image from ZHANG et al. showing monthly weighted averages of the global tropopause height from 2007 to 2011 - variability of 5-10km can be seen in tropopause height depending on latitude and time of year\">\n",
    "\n",
    "We can see significant variability, and this is because the <b>temperature gradient (or lapse rate) is determined by several meteorological factors</b> that are location and time of day and day of year specific. Even large storm systems can shift the height of the tropopause. Major latitudinal differences are driven by general circulation patterns (strong convection of warm, moisture rich air at the equator cause the tropopause to be significantly higher at the equator than the poles, where little upward convection occurs)."
   ]
  },
  {
   "cell_type": "markdown",
   "metadata": {},
   "source": [
    "***\n",
    "# Q2a. Plot Altitude (km) vs Number Density (molecules/$cm^3$) <i>(2 marks)</i>  \n",
    "\n",
    "All axis must be labelled with correct units."
   ]
  },
  {
   "cell_type": "markdown",
   "metadata": {},
   "source": [
    "To do this, you will need to remember the ideal gas law,\n",
    "\\begin{align}\n",
    "PV=nRT\n",
    "\\end{align}\n",
    "Where $P$, $R$, $T$ are as defined above, and $n$ is the number of moles of air contained in $V$ volume of atmosphere. You will likely need Avogadro's number to convert between molecules and moles."
   ]
  },
  {
   "cell_type": "code",
   "execution_count": 14,
   "metadata": {},
   "outputs": [],
   "source": [
    "Av = 6.023e23 # molecules mol-1 is Avogadro's number"
   ]
  },
  {
   "cell_type": "markdown",
   "metadata": {},
   "source": [
    "Write an expression to solve for the number density ($N_a$). Check your notes or look at <a href=\"http://acmg.seas.harvard.edu/people/faculty/djj/book/bookchap1.html#pgfId=521385\"> Jacob</a> for a refresher if you are stuck. Look at how we wrote the expression for Altitude above to figure out how to write this piece of code. Remember to pay close attention to units! "
   ]
  },
  {
   "cell_type": "code",
   "execution_count": 15,
   "metadata": {},
   "outputs": [],
   "source": [
    "Na = [(Av*100*Pressure[z])/(R*Temperature[z])/(100**3)  for z in range(0,len(Altitude))]"
   ]
  },
  {
   "cell_type": "markdown",
   "metadata": {},
   "source": [
    "Once you've calculated number density, create your plot."
   ]
  },
  {
   "cell_type": "markdown",
   "metadata": {},
   "source": [
    "# Answer to Q2a:\n",
    "***"
   ]
  },
  {
   "cell_type": "code",
   "execution_count": 16,
   "metadata": {},
   "outputs": [
    {
     "data": {
      "text/plain": [
       "Text(0.5, 0, 'Number Density (molecules/$cm^3$)')"
      ]
     },
     "execution_count": 16,
     "metadata": {},
     "output_type": "execute_result"
    },
    {
     "data": {
      "image/png": "[encoded data removed]",
      "text/plain": [
       "<Figure size 432x576 with 1 Axes>"
      ]
     },
     "metadata": {
      "needs_background": "light"
     },
     "output_type": "display_data"
    }
   ],
   "source": [
    "fig3 = plt.figure(figsize=(6, 8))\n",
    "na = fig3.add_subplot(111)\n",
    "\n",
    "na.plot(Na, Altitude, 'go--')\n",
    "na.set_ylabel('Altitude (km)')\n",
    "na.set_xlabel('Number Density (molecules/$cm^3$)')"
   ]
  },
  {
   "cell_type": "markdown",
   "metadata": {},
   "source": [
    "***\n",
    "# Q2b. Plot Altitude vs $O_2$ (molecules/$cm^3$) <i>(2 marks)</i>\n",
    "All axis must be labelled with correct units."
   ]
  },
  {
   "cell_type": "markdown",
   "metadata": {},
   "source": [
    "# Answer to Q2b:\n",
    "***"
   ]
  },
  {
   "cell_type": "code",
   "execution_count": 17,
   "metadata": {},
   "outputs": [
    {
     "data": {
      "text/plain": [
       "Text(0.5, 0, '[$O_2$] (molecules/$cm^3$)S')"
      ]
     },
     "execution_count": 17,
     "metadata": {},
     "output_type": "execute_result"
    },
    {
     "data": {
      "image/png": "[encoded data removed]",
      "text/plain": [
       "<Figure size 432x576 with 1 Axes>"
      ]
     },
     "metadata": {
      "needs_background": "light"
     },
     "output_type": "display_data"
    }
   ],
   "source": [
    "# Rememeber what percentage of the atmosphere is O2\n",
    "O2 = [0.21*Na[z] for z in range(0,len(Altitude))]\n",
    "\n",
    "fig4 = plt.figure(figsize=(6, 8))\n",
    "O2a = fig4.add_subplot(111)\n",
    "O2a.plot(O2, Altitude, 'go--')\n",
    "O2a.set_ylabel('Altitude (km)')\n",
    "O2a.set_xlabel('[$O_2$] (molecules/$cm^3$)S')"
   ]
  },
  {
   "cell_type": "markdown",
   "metadata": {},
   "source": [
    "***\n",
    "# The Chapman Mechanism \n",
    "\n",
    "Recall from lecture the four reactions originally proposed to explain the presence of the stratospheric ozone layer,\n",
    "\n",
    "\\begin{align}\n",
    "O_{2} + h\\nu & \\rightarrow O + O^{*} & (\\lambda<240nm) &&(R1) \\\\\n",
    "O + O_{2} + M & \\rightarrow O_{3} + M &  &&(R2) \\\\\n",
    "O_{3} + h\\nu&  \\rightarrow O_{2} + O^{*} & (\\lambda<320nm) &&(R3) \\\\\n",
    "O_{3} + O& \\rightarrow 2O_{2} &  &&(R4)\n",
    "\\end{align}"
   ]
  },
  {
   "cell_type": "markdown",
   "metadata": {},
   "source": [
    "# Q3a. Write down the rates of each of the above four reactions  <i>(2 marks)</i>\n",
    "The rate constants are $k_1$ for $R1$, $k_2$ for $R2$, $k_3$ for $R3$, and $k_4$ for $R4$. $k_{1}$ and $k_{3}$ have units of $s^{-1}$ (photon density is already incorporated), $k_{2}$ in units of $cm^{6}molecules^{-2}s^{-1}$, and $k_{4}$ in units of $cm^{3}molecules^{-1}s^{-1}$. The rates of reactions will be written as functions of the rate constants and concentrations ($[O_{2}]$, $[M]$, $[O_{3}]$, and $[O]$)."
   ]
  },
  {
   "cell_type": "markdown",
   "metadata": {},
   "source": [
    "# Answer to Q3a:\n",
    "***"
   ]
  },
  {
   "cell_type": "markdown",
   "metadata": {},
   "source": [
    "\\begin{align}\n",
    "rate_1 & = k_1[O_2] \\\\\n",
    "rate_2 & = k_2[O][O_2][M] \\\\\n",
    "rate_3 & = k_3[O_3] \\\\\n",
    "rate_4 & = k_4[O_3][O] \\\\\n",
    "\\end{align}\n"
   ]
  },
  {
   "cell_type": "markdown",
   "metadata": {},
   "source": [
    "***\n",
    "# Q3b. Plot the rate constants vs altitude <i>(4 marks)</i>\n",
    "To do this, we will need to import data for k1 and k3. The data we will be using is output from the <a href=\"http://cprm.acom.ucar.edu/Models/TUV/Interactive_TUV/\">TUV calculator</a>, a free, online tool for modelling photolysis frequencies and actinic flux."
   ]
  },
  {
   "cell_type": "code",
   "execution_count": 18,
   "metadata": {},
   "outputs": [
    {
     "name": "stdout",
     "output_type": "stream",
     "text": [
      "k1 and k3 have been loaded!\n"
     ]
    }
   ],
   "source": [
    "# download a .txt file containing photolysis rate constants for O2 -> O + O from 0 - 50km~\n",
    "k1 = np.loadtxt(fname = \"http://individual.utoronto.ca/sck/CHM210/k1d.txt\")\n",
    "# download a .txt file containing photolysis rate constants for O3 -> O2 + O(1D) from 0 - 50km~\n",
    "k3 = np.loadtxt(fname = \"http://individual.utoronto.ca/sck/CHM210/k3d.txt\")\n",
    "print(\"k1 and k3 have been loaded!\")"
   ]
  },
  {
   "cell_type": "markdown",
   "metadata": {},
   "source": [
    "The expression for $k_2$ is given by,\n",
    "\n",
    "$k_{2} = 6\\times10^{-34}(T/300)^{-2.3}$ \n",
    "\n",
    "You will need to write this in a form Python can interpret."
   ]
  },
  {
   "cell_type": "code",
   "execution_count": 19,
   "metadata": {},
   "outputs": [],
   "source": [
    "k2 = [6e-34*(Temperature[z]/300)**-2.3 for z in range(0,len(Pressure))]"
   ]
  },
  {
   "cell_type": "markdown",
   "metadata": {},
   "source": [
    "Similarly, $k_{4}$ is given by,\n",
    "\n",
    "$k_{4} = 8\\times10^{-12}exp(-2060/T)$ "
   ]
  },
  {
   "cell_type": "code",
   "execution_count": 20,
   "metadata": {},
   "outputs": [],
   "source": [
    "k4 = [8e-12*m.exp(-2060/Temperature[z]) for z in range(0,len(Pressure))]"
   ]
  },
  {
   "cell_type": "markdown",
   "metadata": {},
   "source": [
    "Now we should have everything needed to plot the four rate constants. If you have kept the names as above, the below code should plot the four rate constants vs altitude."
   ]
  },
  {
   "cell_type": "markdown",
   "metadata": {},
   "source": [
    "# Answer to Q3b:\n",
    "***"
   ]
  },
  {
   "cell_type": "code",
   "execution_count": 21,
   "metadata": {},
   "outputs": [
    {
     "data": {
      "text/plain": [
       "(0, 7.444429003391403e-15)"
      ]
     },
     "execution_count": 21,
     "metadata": {},
     "output_type": "execute_result"
    },
    {
     "data": {
      "image/png": "[encoded data removed]",
      "text/plain": [
       "<Figure size 432x288 with 4 Axes>"
      ]
     },
     "metadata": {},
     "output_type": "display_data"
    }
   ],
   "source": [
    "# we are going to make two plots so k1 and k3 are on one plot and k2 and k4 are on another\n",
    "f, (ax1, ax2) = plt.subplots(1, 2, sharey=True)\n",
    "# k1 will be in red\n",
    "color = 'tab:red'\n",
    "ax1.set_xlabel('$k_1$ ($s^-1$)', color=color)\n",
    "# the x-axis will be in a log-scale so we can see how many orders of magnitude our rate constants span\n",
    "ax1.set_xscale('log')\n",
    "ax1.set_ylabel('Altitude (km)')\n",
    "ax1.plot(k1, Altitude, color=color)\n",
    "ax1.tick_params(axis='x', labelcolor=color)\n",
    "ax1.set_xlim((1e-16, None))\n",
    "\n",
    "ax3 = ax1.twiny()\n",
    "# k3 will be in blue\n",
    "color = 'tab:blue'\n",
    "ax3.set_xlabel('$k_3$ ($s^-1$)', color=color)\n",
    "ax3.set_xscale('log')\n",
    "ax3.plot(k3, Altitude, color=color)\n",
    "ax3.tick_params(axis='x', labelcolor=color)\n",
    "\n",
    "# k2 will be in green\n",
    "color = 'tab:green'\n",
    "ax2.set_xlabel('$k_2$ ($cm^{6}molecules^{-2}s^{-1}$)', color=color)\n",
    "ax2.plot(k2, Altitude, color=color)\n",
    "ax2.tick_params(axis='x', labelcolor=color)\n",
    "ax2.set_xlim((0, None))\n",
    "\n",
    "ax4 = ax2.twiny()\n",
    "# k4 will be in cyan\n",
    "color = 'tab:cyan'\n",
    "ax4.set_xlabel('$k_4$ ($cm^{3}molecules^{-1}s^{-1}$)', color=color) \n",
    "ax4.plot(k4, Altitude, color=color)\n",
    "ax4.tick_params(axis='x', labelcolor=color)\n",
    "ax4.set_xlim((0, None))"
   ]
  },
  {
   "cell_type": "markdown",
   "metadata": {},
   "source": [
    "***\n",
    "# Q3c. What is the steady-state assumption and when might it apply to chemical species in the atmosphere <i>(2 marks)</i>"
   ]
  },
  {
   "cell_type": "markdown",
   "metadata": {},
   "source": [
    "# Answer to Q3c:\n",
    "\n",
    "***"
   ]
  },
  {
   "cell_type": "markdown",
   "metadata": {},
   "source": [
    "\n",
    "The steady-state assumption for a chemical species is that <b>sources and sinks are equal</b> (this results in the <b>net rate of change in concentration being 0</b>, ie. $\\frac{d[C]}{dt} = 0$). Even in cases when this is not exactly true, we can assume that a species is in quasi-steady-state when the =production rate and chemical lifetime, $\\tau$, have remained roughly constant for a period of time much greater than $\\tau$ (ie. <b>production and loss rates don't change very much over a species' chemical lifetime</b>). In a quasi-steady-state, $\\frac{d[C]}{dt}$ is very small compared to production and loss rates. \n",
    "\n",
    "This is <b>not synonymous with chemical equilibrium</b>. Species in a chemical equilibrium are in steady-state, but steady-state does not mean an equilibrium has or will be reached. A chemical equilibrium forms in a closed, isolated system (constant entropy) when forward and reverse reaction rates are constant and equal and concentrations do not change over time (no “tendency” for the reaction to proceed forward or backwards). Consider the simple example: \n",
    "\n",
    "$A \\rightarrow B$, with rate constant $k_f$, and \n",
    "\n",
    "$B \\rightarrow A$, with rate constant $k_r$. \n",
    "\n",
    "At chemical equilibrium, $k_f[A] = k_r[B]$ and $[A]$ and $[B]$ are not changing (so $A$ and $B$ are in steady-state, but the system is entirely static - nothing is changing at all). \n",
    "\n",
    "In a chemical steady-state, $sources \\rightarrow C \\rightarrow sinks$, $sources = sinks$, but there is still a net reaction. While the $[C]$ is not changing, the system is still dynamic and entropy is still increasing.\n",
    "\n",
    "Page 30-31 in the 5th edition of your textbook has an introduction to steady-state analysis.\n"
   ]
  },
  {
   "cell_type": "markdown",
   "metadata": {},
   "source": [
    "***\n",
    "# Q3d. Write an expression for the steady-state concentration of $O_3$ as a function of the rate constants and $[O_2]$ only. <i>(4 marks)</i>"
   ]
  },
  {
   "cell_type": "markdown",
   "metadata": {},
   "source": [
    "# Answer to Q3d:\n",
    "\n",
    "***"
   ]
  },
  {
   "cell_type": "markdown",
   "metadata": {},
   "source": [
    "If we want the steady-state concentration of ozone, we are going to want an expression in terms of quantities that we can otherwise simply measure or model. We have a way of predicting rate constants that is fairy simple and a way of determining the concentration of $O_2$ in the atmosphere, but $O$ is a very challenging species to measure (and model) so we are going to want an expression for ozone that doesn't require us to already know $O$ (it's much easier to measure ozone than it is to measure atomic oxygen).\n",
    "***\n",
    "As a reminder,\n",
    "\\begin{align}\n",
    "rate_1 & = k_1[O_2] \\\\\n",
    "rate_2 & = k_2[O][O_2][M] \\\\\n",
    "rate_3 & = k_3[O_3] \\\\\n",
    "rate_4 & = k_4[O_3][O] \\\\\n",
    "\\end{align}\n",
    "\n",
    "We're going to follow the convention used in your text book for notation here. We will start by writing down the rate of change of $[O]$,\n",
    "\\begin{align}\n",
    "\\frac{d[O]}{dt} & = 2rate_1 - rate_2 + rate_3 - rate_4\n",
    "\\end{align}\n",
    "Atomic oxygen has a chemical lifetime of seconds (or less) and its production and loss rates depend on meteorological  variables and ozone concentration, which don't change that fast, so it is a good candidate for the steady-state assumption. Assuming a chemical steady-state for $[O]$ gives us,\n",
    "\\begin{align}\n",
    "\\frac{d[O]}{dt} & = 2rate_1 - rate_2 + rate_3 - rate_4 \\\\\n",
    " & = 0\n",
    "\\end{align}\n",
    "We also know that $rate_2$ and $rate_3$ are much faster than $rate_1$ and $rate_4$ (this is known experimentally and was discussed in lecture as well as your text book), so the steady-state of atomic oxygen is going to be predominately controlled by $rate_2$ and $rate_3$. This lets us approximate $\\frac{d[O]}{dt}$ to simplify things,\n",
    "\\begin{align}\n",
    "\\frac{d[O]}{dt} & ≈ -rate_2 + rate_3 \\\\\n",
    " & =  -k_2[O][O_2][M] + k_3[O_3] \\\\\n",
    " & = 0\n",
    "\\end{align}\n",
    "\n",
    "Now if we think about odd-oxygen, $O_x=O_3 + O$, if we apply the steady-state assumption to the entire family,\n",
    "\\begin{align}\n",
    "\\frac{d[O_x]}{dt} & = 2rate_1 - 2rate_4 \\\\ \n",
    "& = 2k_1[O_2] - 2k_4[O_3][O] \\\\ \n",
    " & = 0\n",
    " \\end{align}\n",
    "We can rearrange this to give us a simple expression for $[O]$\n",
    "\\begin{align}\n",
    "[O] & = \\frac{k_1[O_2]}{k_4[O_3]} \\\\\n",
    " \\end{align}\n",
    " Now we can go back to $\\frac{d[O]}{dt}$ and sub-in our expression for $[O]$,\n",
    "\\begin{align}\n",
    "\\frac{d[O]}{dt} & ≈ -k_2[O][O_2][M] + k_3[O_3] \\\\ \n",
    " 0 & =  -k_2\\frac{k_1[O_2]}{k_4[O_3]}[O_2][M] + k_3[O_3] \\\\\n",
    "  0 & =  \\frac{-k_1k_2[O_2]^2[M]}{k_4[O_3]} + k_3[O_3] \\\\\n",
    " [O_3]^2 & = \\frac{k_1k_2}{k_3k_4}[O_2]^2[M]\n",
    " \\end{align}\n",
    "If we want to remove $[M]$ from our expression, we can remember that $[O_2] = 0.21[M]$,\n",
    " \\begin{align}\n",
    " [O_3] & = \\sqrt{\\frac{k_1k_2}{0.21k_3k_4}[O_2]^3}\n",
    " \\end{align}"
   ]
  },
  {
   "cell_type": "markdown",
   "metadata": {},
   "source": [
    "***\n",
    "# Q3e. Plot the the steady-state concentration of $O_3$ vs altitude <i>(2 marks)</i>"
   ]
  },
  {
   "cell_type": "markdown",
   "metadata": {},
   "source": [
    "# Answer to Q3e:\n",
    "***"
   ]
  },
  {
   "cell_type": "code",
   "execution_count": 22,
   "metadata": {},
   "outputs": [
    {
     "data": {
      "text/plain": [
       "Text(0.5, 0, '[$O_3$] (molecules/$cm^3$)')"
      ]
     },
     "execution_count": 22,
     "metadata": {},
     "output_type": "execute_result"
    },
    {
     "data": {
      "image/png": "[encoded data removed]",
      "text/plain": [
       "<Figure size 432x576 with 1 Axes>"
      ]
     },
     "metadata": {
      "needs_background": "light"
     },
     "output_type": "display_data"
    }
   ],
   "source": [
    "# You will need to convert your expression for the steady-state concentration of ozone into a form Python can recognize\n",
    "O3 = [m.sqrt((k1[z]*k2[z]*(O2[z]**2)*(O2[z]/.21))/(k3[z]*k4[z])) for z in range(0,len(Pressure))]\n",
    "\n",
    "fig5 = plt.figure(figsize=(6, 8))\n",
    "O3a = fig5.add_subplot(111)\n",
    "\n",
    "O3a.plot(O3, Altitude, 'go--')\n",
    "O3a.set_ylabel('Altitude (km)')\n",
    "O3a.set_xlabel('[$O_3$] (molecules/$cm^3$)')"
   ]
  },
  {
   "cell_type": "markdown",
   "metadata": {},
   "source": [
    "***\n",
    "# Q3f. By referencing the above plots you have made, explain why the ozone layer forms where it does. <i>(3 marks)</i>"
   ]
  },
  {
   "cell_type": "markdown",
   "metadata": {},
   "source": [
    "# Answer to Q3f.\n",
    "***"
   ]
  },
  {
   "cell_type": "markdown",
   "metadata": {},
   "source": [
    "\n",
    "The ozone layer, as predicted by the Chapman mechanism, forms between 20-30km because it's where <b>production of ozone/$O_x$ is maximized</b>. Recall,\n",
    "\\begin{align}\n",
    "O_{2} + h\\nu & \\rightarrow O + O^{*} & (\\lambda<240nm) &&(R1) \\\\\n",
    "O + O_{2} + M & \\rightarrow O_{3} + M &  &&(R2) \\\\\n",
    "\\end{align}\n",
    "\n",
    "Look at $rate_1$. We know that $O_x$ production is dependent on $k_1[O_2]$. We know that <b>$[O_2]$ decreases exponentially with altitude</b> (barometric law) while <b>$k_1$ increases shaply with altitude</b> ($k_1$ decreases as you go down in the atmosphere because $O_2$ and $O_3$ above absorb UV-C photons).  We can see this in the replotted figures below:\n"
   ]
  },
  {
   "cell_type": "code",
   "execution_count": 23,
   "metadata": {},
   "outputs": [
    {
     "data": {
      "text/plain": [
       "(0, 35738178759026.305)"
      ]
     },
     "execution_count": 23,
     "metadata": {},
     "output_type": "execute_result"
    },
    {
     "data": {
      "image/png": "[encoded data removed]",
      "text/plain": [
       "<Figure size 432x288 with 3 Axes>"
      ]
     },
     "metadata": {
      "needs_background": "light"
     },
     "output_type": "display_data"
    }
   ],
   "source": [
    "f, (ax1, ax2) = plt.subplots(1, 2, sharey=True)\n",
    "# k1 will be in red\n",
    "color = 'tab:red'\n",
    "ax1.set_xlabel('$k_1$ ($s^-1$)', color=color)\n",
    "# the x-axis will be in a log-scale so we can see how many orders of magnitude our rate constants span\n",
    "ax1.set_xscale('log')\n",
    "ax1.set_ylabel('Altitude (km)')\n",
    "ax1.plot(k1, Altitude, color=color)\n",
    "ax1.tick_params(axis='x', labelcolor=color)\n",
    "ax1.set_xlim((1e-16, None))\n",
    "\n",
    "ax3 = ax1.twiny()\n",
    "# O2 will be in blue\n",
    "color = 'tab:blue'\n",
    "ax3.set_xlabel('$O_2$ ($molecules cm^{-3}$)', color=color)\n",
    "ax3.set_xscale('log')\n",
    "ax3.plot(O2, Altitude, color=color)\n",
    "ax3.tick_params(axis='x', labelcolor=color)\n",
    "\n",
    "\n",
    "# O3 will be in green\n",
    "color = 'tab:green'\n",
    "ax2.set_xlabel('$O_3$ ($molecules cm^{-3}$)', color=color) \n",
    "ax2.plot(O3, Altitude, color=color)\n",
    "ax2.tick_params(axis='x', labelcolor=color)\n",
    "ax2.set_xlim((0, None))\n"
   ]
  },
  {
   "cell_type": "markdown",
   "metadata": {},
   "source": [
    "Similarly, $[M]$ decreases exponentially with altitude (see figure from Q2a)  while $k_2$ peaks in the lower stratosphere (see figure from Q3b), so the shape of the ozone curve with altitude is fine-tuned a little bit more. "
   ]
  },
  {
   "cell_type": "markdown",
   "metadata": {},
   "source": [
    "***\n",
    "# Q4a. Plot our steady-state $[O_3]$ vs altitude on the same graph as the satellite observations above in units of ppbv. <i>(3 marks)</i>\n",
    "We need to convert our data from $molecules/cm^3$ to ppbv. We will also have to download the ozone observations in a form we can easily use:"
   ]
  },
  {
   "cell_type": "code",
   "execution_count": 24,
   "metadata": {},
   "outputs": [],
   "source": [
    "# download .txt containing [O3] observations from 0 - 50km~\n",
    "O3obs = np.loadtxt(fname = \"http://individual.utoronto.ca/sck/CHM210/O3.txt\")"
   ]
  },
  {
   "cell_type": "markdown",
   "metadata": {},
   "source": [
    "Now convert from $molecules/cm^3$ to ppb"
   ]
  },
  {
   "cell_type": "code",
   "execution_count": 25,
   "metadata": {},
   "outputs": [],
   "source": [
    "O3ppbv = [O3[z]/Na[z]*10**9 for z in range(0,len(Pressure))]"
   ]
  },
  {
   "cell_type": "markdown",
   "metadata": {},
   "source": [
    "# Answer to Q4a:\n",
    "***"
   ]
  },
  {
   "cell_type": "code",
   "execution_count": 26,
   "metadata": {},
   "outputs": [
    {
     "data": {
      "text/plain": [
       "(1000, 1)"
      ]
     },
     "execution_count": 26,
     "metadata": {},
     "output_type": "execute_result"
    },
    {
     "data": {
      "image/png": "[encoded data removed]",
      "text/plain": [
       "<Figure size 432x576 with 1 Axes>"
      ]
     },
     "metadata": {
      "needs_background": "light"
     },
     "output_type": "display_data"
    }
   ],
   "source": [
    "fig5 = plt.figure(figsize=(6, 8))\n",
    "O3p = fig5.add_subplot(111)\n",
    "\n",
    "# this will plot both curves on the same graph\n",
    "# our calculate O3 will be in green and the observations in red\n",
    "O3p.plot(O3ppbv, Pressure, 'go--', label='Modelled Ozone')\n",
    "O3p.plot(O3obs, Pressure, 'r+-', label='Observed Ozone')\n",
    "O3p.legend(loc='upper right')\n",
    "O3p.set_ylabel('Pressure (hPa)')\n",
    "O3p.set_xlabel('[$O_3$] (ppbv)')\n",
    "O3p.set_yscale('log')\n",
    "O3p.set_ylim((1000, 1))"
   ]
  },
  {
   "cell_type": "markdown",
   "metadata": {},
   "source": [
    "***\n",
    "# Q4b. Determine the overhead ozone column depth in Dobson units for both our calculated $O_3$ and the observed $O_3$ (DU) <i>(4 marks)</i>"
   ]
  },
  {
   "cell_type": "markdown",
   "metadata": {},
   "source": [
    "To calculate the ozone column depth, we need to integrate the total ozone vs altitude. This might be easier to think about if we flip out axis, ie. "
   ]
  },
  {
   "cell_type": "code",
   "execution_count": 27,
   "metadata": {},
   "outputs": [
    {
     "data": {
      "text/plain": [
       "Text(0, 0.5, '[$O_3$] (molecules/$cm^3$)')"
      ]
     },
     "execution_count": 27,
     "metadata": {},
     "output_type": "execute_result"
    },
    {
     "data": {
      "image/png": "[encoded data removed]",
      "text/plain": [
       "<Figure size 432x576 with 1 Axes>"
      ]
     },
     "metadata": {
      "needs_background": "light"
     },
     "output_type": "display_data"
    }
   ],
   "source": [
    "fig6 = plt.figure(figsize=(6, 8))\n",
    "O3p = fig6.add_subplot(111)\n",
    "O3p.plot(Altitude, O3, 'r+-', label='Modelled Ozone')\n",
    "O3p.set_xlabel('Altitude (km)')\n",
    "O3p.set_ylabel('[$O_3$] (molecules/$cm^3$)')"
   ]
  },
  {
   "cell_type": "markdown",
   "metadata": {},
   "source": [
    "We want to find the area under the curve above. We can do that with the <a href=\"https://docs.scipy.org/doc/numpy/reference/generated/numpy.trapz.html\">numpy.trapz</a> function, which uses the trapezoidal rule for numerical integration. We'll need to make sure units are appropriate (ie. altitude should be in $cm$ if concentration is in molecules/$cm^3$)."
   ]
  },
  {
   "cell_type": "code",
   "execution_count": 28,
   "metadata": {},
   "outputs": [
    {
     "data": {
      "text/plain": [
       "5.257236157557989e+19"
      ]
     },
     "execution_count": 28,
     "metadata": {},
     "output_type": "execute_result"
    }
   ],
   "source": [
    "# This gives us the column-depth of modelled ozone in molecules/cm^2\n",
    "Altitudecm = [Altitude[z]*1e5 for z in range(0,len(Pressure))]\n",
    "np.trapz(O3, x=Altitudecm)"
   ]
  },
  {
   "cell_type": "code",
   "execution_count": 29,
   "metadata": {},
   "outputs": [
    {
     "data": {
      "text/plain": [
       "7.987748588634206e+18"
      ]
     },
     "execution_count": 29,
     "metadata": {},
     "output_type": "execute_result"
    }
   ],
   "source": [
    "# We need to convert the observed ozone into molecules/cm^3\n",
    "O3obs_molecpercc = [O3obs[z]*Na[z]/10**9 for z in range(0,len(Pressure))]\n",
    "\n",
    "# This gives us the column-depth of observed ozone in molecules/cm^2\n",
    "Altitudecm = [Altitude[z]*1e5 for z in range(0,len(Pressure))]\n",
    "np.trapz(O3obs_molecpercc, x=Altitudecm)"
   ]
  },
  {
   "cell_type": "markdown",
   "metadata": {},
   "source": [
    "Now we need to convert $molecules/cm^2$ column depths into Dobson units"
   ]
  },
  {
   "cell_type": "markdown",
   "metadata": {},
   "source": [
    "# Answer to Q4b.\n",
    "\n",
    "***"
   ]
  },
  {
   "cell_type": "markdown",
   "metadata": {},
   "source": [
    "If all of the ozone in the ozone layer was brought to the ground, at standard atmospheric pressure (1013.25 hPa or 1 atm) and at 273.15K, the thickness of this layer (in 0.01 mm) is a measure of the total overhead ozone and given in Dobson Units (DU). \n",
    "\n",
    "We have a column depth in $molecules/cm^2$ (molecules/area), but to get that into a Dobson unit we need to use the ideal gas law:\n",
    "\\begin{align}\n",
    "PV= nRT\n",
    "\\end{align}\n",
    "\n",
    "We can re-write this as,\n",
    "\\begin{align}\n",
    "P\\times(area\\times height)= n\\times R\\times T\n",
    "\\end{align}\n",
    "\n",
    "We want the \"height\" (the height of the layer described above), so we can rearrange for it.\n",
    "\n",
    "\\begin{align}\n",
    "height &= \\frac{n\\times R\\times T}{P\\times area} \\\\\n",
    "height &= \\frac{n}{area}\\times \\frac{RT}{P}\n",
    "\\end{align}\n",
    "Now we know the P = 1 atm and T = 273.15 K by definition, so we can see what we need to plug in:"
   ]
  },
  {
   "cell_type": "code",
   "execution_count": 30,
   "metadata": {},
   "outputs": [
    {
     "name": "stdout",
     "output_type": "stream",
     "text": [
      "3.721062178316453e-20\n"
     ]
    }
   ],
   "source": [
    "R = 82.05 # cm^3 atm K^-1 mol^ -1\n",
    "T = 273.15 # K\n",
    "P = 1 # atm\n",
    "RToverP = (R*T/P)/Av\n",
    "print (RToverP)"
   ]
  },
  {
   "cell_type": "code",
   "execution_count": 31,
   "metadata": {},
   "outputs": [
    {
     "data": {
      "text/plain": [
       "1956.2502628366751"
      ]
     },
     "execution_count": 31,
     "metadata": {},
     "output_type": "execute_result"
    }
   ],
   "source": [
    "# modelled ozone column is in molecules/cm^2 and RToverP is in cm^3/molecule. Remember that 1 DU is 0.01mm, so we need to convert from cm to 0.01 mm\n",
    "np.trapz(O3, x=Altitudecm)*(RToverP)*1000"
   ]
  },
  {
   "cell_type": "code",
   "execution_count": 32,
   "metadata": {},
   "outputs": [
    {
     "data": {
      "text/plain": [
       "297.22909163067374"
      ]
     },
     "execution_count": 32,
     "metadata": {},
     "output_type": "execute_result"
    }
   ],
   "source": [
    "# similarly,\n",
    "np.trapz(O3obs_molecpercc, x=Altitudecm)*(RToverP)*1000"
   ]
  },
  {
   "cell_type": "markdown",
   "metadata": {},
   "source": [
    "So the overhead ozone column depth for ozone in our <b>model was 1957 DU</b> while it was only <b>297 DU in the observations</b>."
   ]
  },
  {
   "cell_type": "markdown",
   "metadata": {},
   "source": [
    "***\n",
    "# Q4c. Why might modelled ozone be so much greater than the observed ozone concentrations? <i>(4 marks)</i>"
   ]
  },
  {
   "cell_type": "markdown",
   "metadata": {},
   "source": [
    "# Answer to Q4c.\n",
    "\n",
    "***"
   ]
  },
  {
   "cell_type": "markdown",
   "metadata": {},
   "source": [
    "There are several reasons why our Chapman-only model would over-predict stratospheric ozone. The first one being that the Chapman mechanism doesn't contain all of the relevant reactions that occur in the stratosphere. The natural <b>catalytic destruction of ozone by hydrogen oxide radicals ($HO_x$) and nitrogen oxides ($NO_x$) have been neglected</b>. We have also not included <b>catalytic destruction due to chlorine and bromine radicals</b>. Further, while our assumption of $O_x$ steady-state conditions are appropriate in the upper stratosphere where the $O_x$ lifetime is very short compared to other processes, the <b>steady-state assumption is not necessarily appropriate in the lower stratosphere</b> where transport (which our model entirely neglects) is significant for determining ozone concentration."
   ]
  },
  {
   "cell_type": "markdown",
   "metadata": {},
   "source": [
    " "
   ]
  },
  {
   "cell_type": "markdown",
   "metadata": {},
   "source": [
    "***\n",
    "When you have finished your assignment, you need to save it as a PDF and submit that PDF on Quercus. In your Jupyter Notebook, goto File --> Download ad --> PDF via LaTeX (.pdf)\n",
    "<img src=\"http://individual.utoronto.ca/sck/CHM210/save2pdf.jpg\">\n",
    "\n",
    "If you have technical questions related to Python or Jupyter, contact Sarah Kavassalis (sarah.kavassalis@mail.utoronto.ca).\n"
   ]
  }
 ],
 "metadata": {
  "kernelspec": {
   "display_name": "Python 3",
   "language": "python",
   "name": "python3"
  },
  "language_info": {
   "codemirror_mode": {
    "name": "ipython",
    "version": 3
   },
   "file_extension": ".py",
   "mimetype": "text/x-python",
   "name": "python",
   "nbconvert_exporter": "python",
   "pygments_lexer": "ipython3",
   "version": "3.7.3"
  }
 },
 "nbformat": 4,
 "nbformat_minor": 2
}
