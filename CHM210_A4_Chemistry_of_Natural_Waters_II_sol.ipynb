{
 "cells": [
  {
   "cell_type": "markdown",
   "metadata": {},
   "source": [
    "# CHM210 Assignment 4: Chemistry of Natural Waters, II\n",
    "\n",
    "Welcome to the fourth assignment for CHM210. We are going to use a <a href=\"https://jupyter4edu.github.io/jupyter-edu-book/\">Jupyter notebook</a> with Python to investigate some properties of acid-base solubility in natural waters. All of your answers will be completed within this document (changes you make are saved into your personal https://utoronto.syzygy.ca account, so don't worry about editing this file). There are a lot of free, online resources out there to help you with Jupyter and Python. I recommend Christian Hill's <a href=\"https://scipython.com/book/\">\"Learning Scientific Programming with Python\"</a>. The chemistry content of this assignment should follow your textbook and lecture notes (Chapter 10 in Baird and Cann, 5th edition). If you need to review acid-base equilibria fundamentals, the <a href=\"https://openstax.org/books/chemistry-2e/pages/14-introduction\">openstax Chemistry 2e book</a> is a good, freely accessible online resource that you may want to refer to. \n",
    "\n",
    "After completing this assignment, you should be able to write down acid-base equilibrium constants, calculate pH, solubility, alkalinity, and aqueous concentrations for a given set of reactions at equilibrium with known equilibrium constants, apply Le Chatelier's Principle, and write and test functions in Python. \n",
    "\n",
    "First things first, we need to import the Python modules we will be using for this assignment. Press the \"Run\" button (or ctrl-enter) on the box below to import the packages we need. If done successfully, the \"You have imported the above modules!\" text will display below. "
   ]
  },
  {
   "cell_type": "code",
   "execution_count": 1,
   "metadata": {},
   "outputs": [
    {
     "name": "stdout",
     "output_type": "stream",
     "text": [
      "You have imported the above modules!\n"
     ]
    }
   ],
   "source": [
    "# lines that start with a \"#\" character are comments\n",
    "# Python doesn't read comments as code, but they are helpful for us, the readers and writers, so we can remember why we have written code a particular way\n",
    "# the import statements are how we add the specific packages we want to use\n",
    "# when we write \"import YYYYYY as Y\", we are creating a shortform \"Y\" that we can use to reference the package \"YYYYYY\"  \n",
    "import matplotlib.pyplot as plt\n",
    "import math as m\n",
    "import numpy as np\n",
    "import os\n",
    "\n",
    "# to make the interactive plots\n",
    "%matplotlib inline\n",
    "from ipywidgets import interact, interactive\n",
    "from IPython.display import clear_output, display, HTML\n",
    "# below is a simple print statement that will appear as text when we run this box of code\n",
    "# you can easily change what text prints here by editing the words between the \"\"\n",
    "print(\"You have imported the above modules!\")"
   ]
  },
  {
   "cell_type": "markdown",
   "metadata": {},
   "source": [
    "\n",
    "## The carbonate system\n",
    "\n",
    "Within chapter 10 of your textbook, pages 430-441 (5th edition) walk you through the carbonate system so you should make sure you've done the reading from this section.\n",
    "\n",
    "The carbonate system (sometimes called the $CO_2$-bicarbonate-carbonate system) refers to the equilibria between aqueous $H_2CO_3$, $HCO_3^-$, and $CO_3^{2-}$:\n",
    "<img src=\"http://individual.utoronto.ca/sck/CHM210/A4/eq1.png\" alt = \"carbonate equilibria\">\n",
    "Carbonic acid ($H_2CO_3$) in natural waters arises from the dissolution of carbon dioxide gas (which you thought about in the previous assignment).\n",
    "\n",
    "# Q1. What are the two primary sources of $CO_2$ to natural waters? <i>(2 marks)</i>\n",
    "# Answer to Q1.\n",
    "***"
   ]
  },
  {
   "cell_type": "markdown",
   "metadata": {},
   "source": [
    "Dissolved $CO_2$ primarily comes from atmospheric $CO_2$ or the decomposition of organic matter within the water."
   ]
  },
  {
   "cell_type": "markdown",
   "metadata": {},
   "source": [
    "***\n"
   ]
  },
  {
   "cell_type": "markdown",
   "metadata": {},
   "source": [
    "# The pH of water"
   ]
  },
  {
   "cell_type": "markdown",
   "metadata": {},
   "source": [
    "# Q2a. How much carbonic acid would you expect to find in pure water at equilibrium with the atmosphere, assuming an atmospheric mixing ratio of 415 ppm of $CO_2$? Assume we are at Standard Ambient Temperature and Pressure (ie. 1 atm, 298 K) <i>(2 marks)</i>\n",
    "<img src=\"http://individual.utoronto.ca/sck/CHM210/A4/eq2.png\" alt = \"\">\n",
    "\n",
    "# Answer to Q2a.\n",
    "***"
   ]
  },
  {
   "cell_type": "code",
   "execution_count": 2,
   "metadata": {},
   "outputs": [
    {
     "name": "stdout",
     "output_type": "stream",
     "text": [
      "The concentration of aqueous carbon dioxide is  1.4e-05 mole/L\n"
     ]
    }
   ],
   "source": [
    "K_CO2 = 3.38*10**(-2) # mole/L (Henry's Law Constant at 25C)\n",
    "P_CO2 = 415/(1E6) # Partial Pressure of CO2 in atmospheres\n",
    "\n",
    "T = 298\n",
    "K_CO2 = 0.035*m.exp(2400*((1/T)-1/(298.15)))/1.01325\n",
    "\n",
    "# Remember Henry's Law\n",
    "C_H2CO3 = K_CO2*P_CO2\n",
    "print(\"The concentration of aqueous carbon dioxide is \", round(C_H2CO3,6), \"mole/L\")"
   ]
  },
  {
   "cell_type": "markdown",
   "metadata": {},
   "source": [
    "***\n",
    "# Q2b. Write the expression for the acid dissociation constant for the first dissociation reaction of carbonic acid. <i>(1 mark)</i>\n",
    "<img src=\"http://individual.utoronto.ca/sck/CHM210/A4/eq3.png\" alt = \"\">\n",
    "\n",
    "# Answer to Q2b.\n",
    "***"
   ]
  },
  {
   "cell_type": "markdown",
   "metadata": {},
   "source": [
    "$K_1=\\frac{[H^+][HCO_{3}^{-}]}{[H_2CO_3]}$"
   ]
  },
  {
   "cell_type": "markdown",
   "metadata": {},
   "source": [
    "***\n",
    "# Q2c. If the effective number of protons in water is controlled by the first acid dissociation constant for carbonic acid, what is the pH of that water? <i>(1 mark)</i>\n",
    "\n",
    "# Answer to Q2c.\n",
    "***"
   ]
  },
  {
   "cell_type": "code",
   "execution_count": 3,
   "metadata": {},
   "outputs": [
    {
     "name": "stdout",
     "output_type": "stream",
     "text": [
      "The pH of this water is  5.59\n"
     ]
    }
   ],
   "source": [
    "K_A1 = 4.5*10**(-7) # Acid dissociation constant at 25C\n",
    "C_H = m.sqrt(K_A1*C_H2CO3) # formula for effective concentration of protons\n",
    "\n",
    "pH = -m.log10(C_H)\n",
    "print(\"The pH of this water is \", round(pH,2))"
   ]
  },
  {
   "cell_type": "markdown",
   "metadata": {},
   "source": [
    "# Q2d. Where in the environment would you expect to find water like this (ie. water with pH controlled by the first dissociation of carbonic acid)? Why? <i>(2 marks)</i>\n",
    "\n",
    "\n",
    "# Answer to Q2d.\n",
    "***"
   ]
  },
  {
   "cell_type": "markdown",
   "metadata": {},
   "source": [
    "Rain water in remote environments is a good example of water whose pH is controlled by the first acid dissociation reaction of carbonic acid since it a pool of water at equilibrium with atmospheric $CO_2$ but not with solid $CaCO_3$. Other examples meeting this criteria are acceptable too. "
   ]
  },
  {
   "cell_type": "markdown",
   "metadata": {},
   "source": [
    "***\n",
    "# Q2f. Why were we able to neglect the second acid dissociation constant in Q2c? <i>(1 mark)</i>\n",
    "<img src=\"http://individual.utoronto.ca/sck/CHM210/A4/eq4.png\" alt = \"\">\n",
    "\n",
    "# Answer to Q2f.\n",
    "***"
   ]
  },
  {
   "cell_type": "markdown",
   "metadata": {},
   "source": [
    "Because $K_1$ >> $K_2$"
   ]
  },
  {
   "cell_type": "markdown",
   "metadata": {},
   "source": [
    "***\n"
   ]
  },
  {
   "cell_type": "markdown",
   "metadata": {},
   "source": [
    "# Run the widget below to generate a carbon species plot like the one found on page 431 of your text book to answer the following questions.\n",
    "\n",
    "The temp_C control allows you to change the temperature of the system in degrees Celsius."
   ]
  },
  {
   "cell_type": "code",
   "execution_count": 4,
   "metadata": {},
   "outputs": [
    {
     "data": {
      "application/vnd.jupyter.widget-view+json": {
       "model_id": "60bfcb888c474cf2af3f509c06c7f4e7",
       "version_major": 2,
       "version_minor": 0
      },
      "text/plain": [
       "interactive(children=(IntSlider(value=25, description='temp_C', max=50, min=-50), Output()), _dom_classes=('wi…"
      ]
     },
     "metadata": {},
     "output_type": "display_data"
    }
   ],
   "source": [
    "from chm210_4 import CarbonDiagram1\n",
    "w = interactive(CarbonDiagram1, temp_C=(-50, 50))\n",
    "display(w)"
   ]
  },
  {
   "cell_type": "markdown",
   "metadata": {},
   "source": [
    "# Q3a. Why does the plot change with temperature? ie. Think about what controls the fraction of each species present at equilibrium at a specific pH and what would cause that to be temperature dependent. <i>(2 marks)</i>\n",
    "\n",
    "# Answer to Q3a.\n",
    "***"
   ]
  },
  {
   "cell_type": "markdown",
   "metadata": {},
   "source": [
    "The ratio of reactants:products is predicted by the equilibrium constants and equilibrium constants are dependent on temperature. For endothermic reactions (which the dissociation of weak acids typically are), adding temperature to the system moves the position of the equilibrium towards to products. \n",
    "\n",
    "The typical way to think about this is by applying Le Chatelier's principle where heat is treated as a reactant for endothermic processes (since they remove heat from the system. For exothermic reactions, so heat is considered a product). ie.\n",
    "\n",
    "\n",
    "<img src=\"http://individual.utoronto.ca/sck/CHM210/A4/A4_sol_1.png\" alt = \"\">\n",
    "\n",
    "Raising the temperature (ie. adding more heat) moves our reaction to the right and lowering the temperature moves our reaction to the left. \n",
    "\n",
    "The <a href=\"https://openstax.org/books/chemistry-2e/pages/13-3-shifting-equilibria-le-chateliers-principle\">openstax</a> chemistry text book reviews Le Chatelier's Principle for those who want it. "
   ]
  },
  {
   "cell_type": "markdown",
   "metadata": {},
   "source": [
    "***\n",
    "\n",
    "# Q3b. If you wanted to conduct an experiment to <b>measure</b> the second acid dissociation constant for carbonic acid, what conditions (pH and temperature) would you run your experiment at and why? <i>(4 marks)</i>"
   ]
  },
  {
   "cell_type": "markdown",
   "metadata": {},
   "source": [
    "If you want to measure the second acid dissociation constant for carbonic acid, you want a system where [$H^+$] is controlled by the second dissociation reaction and not the first.\n",
    "\n",
    "The <a href=\"https://openstax.org/books/chemistry-2e/pages/14-6-buffers\">Henderson-Hasselbalch equation</a> gives us a simple way to think about how pH, pKa, and the ratio of protonated/deprotonated forms of weak acids relate to each other. \n",
    "\n",
    "For,\n",
    "<img src=\"http://individual.utoronto.ca/sck/CHM210/A4/A4_sol_2.png\" alt = \"\">\n",
    "\n",
    "$pH = pK_a + \\log{\\frac{[A^-]}{[HA]}}$\n",
    "\n",
    "When the $pH$ we are working at equals to the $pK_a$ of our weak acid, we have equal amounts of the protonated and deprotonated form. We can visually look at the graph and see that at T = 25C, the $pK_{a1}$ for the R1 is around 6 and the $pK_{a2}$ for R2 is a little over 10. We want to work exclusively at pHs such that, for R1, $[HCO_3^-]$>>$[H_2CO_3]$. If we choose a 1000:1 ratio, that puts us $3pH$ unites away from the $pK_{a1}$, or at $pH ≥ 9$ for 25C. "
   ]
  },
  {
   "cell_type": "markdown",
   "metadata": {},
   "source": [
    "# The $CO_2$-Bicarbonate-Carbonate System"
   ]
  },
  {
   "cell_type": "markdown",
   "metadata": {},
   "source": [
    "# Q4a. What is the primary source of carbonate ions ($CO_3^{2-}$) to natural waters? <i> (1 mark) </i>\n",
    "\n",
    "# Answer to Q4a.\n",
    "***"
   ]
  },
  {
   "cell_type": "markdown",
   "metadata": {},
   "source": [
    "The primary source of carbonate ions to water waters is the weathering of limestone rocks ($CaCO_3$)."
   ]
  },
  {
   "cell_type": "markdown",
   "metadata": {},
   "source": [
    "***\n",
    "# Considering the following reactions in the $CO_2$-Bicarbonate-Carbonate system:\n",
    "<img src=\"http://individual.utoronto.ca/sck/CHM210/A4/eq5.png\" alt = \"\">\n",
    "\n",
    "# Q4b. Write the net reaction <i>(1 mark)</i>\n",
    "\n",
    "# Answer to Q4b.\n",
    "***"
   ]
  },
  {
   "cell_type": "markdown",
   "metadata": {},
   "source": [
    "<img src=\"http://individual.utoronto.ca/sck/CHM210/A4/A4_sol_3.png\" alt = \"\">"
   ]
  },
  {
   "cell_type": "markdown",
   "metadata": {},
   "source": [
    "#### ***\n",
    "\n",
    "# Q4c. Write the equilibrium constant for your net reaction <i>(1 mark)</i>\n",
    "\n",
    "# Answer Q4c.\n",
    "***"
   ]
  },
  {
   "cell_type": "markdown",
   "metadata": {},
   "source": [
    "$K_8 = K_{sp}K_bK_HK_1K_w^{-1}$"
   ]
  },
  {
   "cell_type": "markdown",
   "metadata": {},
   "source": [
    "***\n",
    "\n",
    "# Q4d. Explain why small crystals of $CaCO_3$ form in natural waters that have abundant activity of photosynthetic organisms. <i>(2 marks)</i>\n",
    "\n",
    "# Answer to Q4d.\n",
    "***"
   ]
  },
  {
   "cell_type": "markdown",
   "metadata": {},
   "source": [
    "Photosynthetic organisms take $CO_2$ from the water. As we can see from the above, the less $CO_2$ available, the less soluble $CaCO_3$ will be. Previously dissolved $CaCO_3$ can precipitate out if dissolved $CO_2$ levels suddenly decrease due to biological activity."
   ]
  },
  {
   "cell_type": "markdown",
   "metadata": {},
   "source": [
    "***\n",
    "\n",
    "# Q4e. Write a Python function that will calculate the temperature dependent equilibrium constant from Q4c (you will need to fill in the specified equation below) <i>(2 marks)</i>\n",
    "\n",
    "# Answer Q4e.\n",
    "***"
   ]
  },
  {
   "cell_type": "code",
   "execution_count": 5,
   "metadata": {},
   "outputs": [
    {
     "name": "stdout",
     "output_type": "stream",
     "text": [
      "1.55e-06\n"
     ]
    }
   ],
   "source": [
    "def netK(T_C):\n",
    "    T = T_C + 273.15\n",
    "    K1 = 10**(-(3404.71/T + 0.032786*T - 14.8435)) #(Harned and Davis, 1943) \n",
    "    KH = 10**(-(-2622.38/T - 0.0178471*T + 15.5873))# (Harned and Davis, 1943) \n",
    "    Ksp = 10**(-171.945 - 0.077993*T + 2903.293/T + 71.595*m.log10(T)) # (Mucci, 1983)\n",
    "    Kb = 2.1*10**(-4)\n",
    "    Kw = m.exp(148.9802 - 13847.26/T - 23.6521*m.log(T)) #(Dickson and Riley, 1979)\n",
    "\n",
    "    K8 = K1*KH*Kb*Ksp/Kw\n",
    "    return K8\n",
    "\n",
    "#test the function at 25 deg C and make sure it compares well to the one on page 440 of your textbook!\n",
    "print(round(netK(25),8))"
   ]
  },
  {
   "cell_type": "markdown",
   "metadata": {},
   "source": [
    "***\n",
    "# Q4f. Write a function to calculate the solublity of $CaCO_3$ as a function of temperature and partial pressure of $CO_2$ <i>(2 marks)</i>\n",
    "# Answer Q4f.\n",
    "***"
   ]
  },
  {
   "cell_type": "code",
   "execution_count": 6,
   "metadata": {},
   "outputs": [
    {
     "name": "stdout",
     "output_type": "stream",
     "text": [
      "0.00053\n"
     ]
    }
   ],
   "source": [
    "def dissolvedCa(T_C, PCO2_ppm):\n",
    "    K8 = netK(T_C)\n",
    "    PCO2 = PCO2_ppm/(1E6) # Partial Pressure of CO2 in atmospheres\n",
    "    \n",
    "    return (K8*PCO2/4)**(1/3)\n",
    "\n",
    "#test the function at 25 deg C and 390 ppm to make sure it compares well to the one on page 440 of your textbook!\n",
    "print(round(dissolvedCa(25, 390),5))"
   ]
  },
  {
   "cell_type": "markdown",
   "metadata": {},
   "source": [
    "***\n",
    "# If temperature is 14 deg. C and the partial pressure of $CO_2$ is 285 ppm, then the solubility of  $CaCO_3$ should now be easy to find by trying out your function.\n",
    "***"
   ]
  },
  {
   "cell_type": "code",
   "execution_count": 7,
   "metadata": {},
   "outputs": [
    {
     "name": "stdout",
     "output_type": "stream",
     "text": [
      "If T =  14 C and PCO2 =  285 ppm, then solubility of CaCO3 =  0.00071 mol/L\n"
     ]
    }
   ],
   "source": [
    "T_C = 14\n",
    "PCO2_ppm = 285\n",
    "print(\"If T = \", T_C, \"C and PCO2 = \", PCO2_ppm, \"ppm, then solubility of CaCO3 = \", round(dissolvedCa(T_C, PCO2_ppm),5), \"mol/L\") "
   ]
  },
  {
   "cell_type": "markdown",
   "metadata": {},
   "source": [
    "***\n",
    "# Q4g. Calculate the solubility of  $CaCO_3$ if temperature is 14 deg. C and the partial pressure of $CO_2$ is 415 ppm. <i>(1 mark)</i>\n",
    "\n",
    "# Answer to Q4g.\n",
    "***"
   ]
  },
  {
   "cell_type": "code",
   "execution_count": 8,
   "metadata": {},
   "outputs": [
    {
     "name": "stdout",
     "output_type": "stream",
     "text": [
      "If T =  14 C and PCO2 =  415 ppm, then solubility of CaCO3 =  0.00081 mol/L\n"
     ]
    }
   ],
   "source": [
    "T_C = 14\n",
    "PCO2_ppm = 415\n",
    "print(\"If T = \", T_C, \"C and PCO2 = \", PCO2_ppm, \"ppm, then solubility of CaCO3 = \", round(dissolvedCa(T_C, PCO2_ppm),5), \"mol/L\") "
   ]
  },
  {
   "cell_type": "markdown",
   "metadata": {},
   "source": [
    "***\n",
    "# Q4h. Some projections for Earth's future climate suggest that in 2100, the global mean mixing ratio of $CO_2$ will be 900 ppm. Calculate the solubility of  $CaCO_3$ in this case. <i>(1 mark)</i>\n",
    "\n",
    "# Answer to Q4h.\n",
    "***"
   ]
  },
  {
   "cell_type": "code",
   "execution_count": 9,
   "metadata": {},
   "outputs": [
    {
     "name": "stdout",
     "output_type": "stream",
     "text": [
      "If T =  14 C and PCO2 =  900 ppm, then solubility of CaCO3 =  0.00104 mol/L\n"
     ]
    }
   ],
   "source": [
    "T_C = 14\n",
    "PCO2_ppm =  900\n",
    "print(\"If T = \", T_C, \"C and PCO2 = \", PCO2_ppm, \"ppm, then solubility of CaCO3 = \", round(dissolvedCa(T_C, PCO2_ppm),5), \"mol/L\") "
   ]
  },
  {
   "cell_type": "markdown",
   "metadata": {},
   "source": [
    "***\n",
    "# Q4i. What consequences would this change in solubility have for marine organisms? <i>(1 mark)</i>\n",
    "\n",
    "# Answer to Q4i.\n",
    "***"
   ]
  },
  {
   "cell_type": "markdown",
   "metadata": {},
   "source": [
    "Increasing atmospheric $CO_2$ increases the solubility of $CaCO_3$. Marine organisms that have shells/exoskeletons made of $CaCO_3$ will be less protected, as they're shells/exoskeletons will be thinner (because they dissolve)."
   ]
  },
  {
   "cell_type": "markdown",
   "metadata": {},
   "source": [
    "***\n",
    "# Q4j. Write a function to calculate the pH of natural water at equilibrium with atmospheric $CO_2$ and limestone as a function of temperature and partial pressure of $CO_2$ <i>(4 marks)</i>\n",
    "# Answer Q4j.\n",
    "***"
   ]
  },
  {
   "cell_type": "code",
   "execution_count": 10,
   "metadata": {},
   "outputs": [],
   "source": [
    "def pH(T_C, PCO2_ppm):\n",
    "    T = T_C + 273.15\n",
    "    Ksp = 10**(-171.945 - 0.077993*T + 2903.293/T + 71.595*m.log10(T)) # (Mucci, 1983)\n",
    "    Kb = 2.1*10**(-4)\n",
    "    Kw = m.exp(148.9802 - 13847.26/T - 23.6521*m.log(T)) #(Dickson and Riley, 1979)\n",
    "    \n",
    "    S = dissolvedCa(T_C, PCO2_ppm)\n",
    "    HCO3 = 2*S\n",
    "    CO3 = Ksp/S\n",
    "    OH=Kb*CO3/HCO3\n",
    "    H=Kw/OH\n",
    "    return -m.log10(H)"
   ]
  },
  {
   "cell_type": "markdown",
   "metadata": {},
   "source": [
    "***\n",
    "# If temperature is 14 deg. C and the partial pressure of $CO_2$ is 285 ppm, then the pH should now be easy to find by trying our your function.\n",
    "***"
   ]
  },
  {
   "cell_type": "code",
   "execution_count": 11,
   "metadata": {},
   "outputs": [
    {
     "name": "stdout",
     "output_type": "stream",
     "text": [
      "If T =  14 C and PCO2 =  285 ppm, then pH =  8.46\n"
     ]
    }
   ],
   "source": [
    "T_C = 14\n",
    "PCO2_ppm = 285\n",
    "print(\"If T = \", T_C, \"C and PCO2 = \", PCO2_ppm, \"ppm, then pH = \", round(pH(T_C, PCO2_ppm),2))"
   ]
  },
  {
   "cell_type": "markdown",
   "metadata": {},
   "source": [
    "***\n",
    "# Q4k. Calculate the pH if temperature is 14 deg. C and the partial pressure of $CO_2$ is 415 ppm. <i>(1 mark)</i>\n",
    "\n",
    "# Answer to Q4k.\n",
    "***"
   ]
  },
  {
   "cell_type": "code",
   "execution_count": 12,
   "metadata": {},
   "outputs": [
    {
     "name": "stdout",
     "output_type": "stream",
     "text": [
      "If T =  14 C and PCO2 =  415 ppm, then pH =  8.35\n"
     ]
    }
   ],
   "source": [
    "T_C = 14\n",
    "PCO2_ppm = 415\n",
    "print(\"If T = \", T_C, \"C and PCO2 = \", PCO2_ppm, \"ppm, then pH = \", round(pH(T_C, PCO2_ppm),2))"
   ]
  },
  {
   "cell_type": "markdown",
   "metadata": {},
   "source": [
    "# Now we will look at what happens to natural waters over the course of the day. Run the below code to import some atmospheric $CO_2$ mixing ratios and water temperature data. Your pH function needs to work for the plot to be generated."
   ]
  },
  {
   "cell_type": "code",
   "execution_count": 13,
   "metadata": {},
   "outputs": [
    {
     "data": {
      "image/png": "[encoded data removed]",
      "text/plain": [
       "<Figure size 432x288 with 3 Axes>"
      ]
     },
     "metadata": {
      "needs_background": "light"
     },
     "output_type": "display_data"
    }
   ],
   "source": [
    "# download .txt file containing CO2 mixing ratios in ppm\n",
    "CO2 = np.loadtxt(fname = \"http://individual.utoronto.ca/sck/CHM210/A4/DV_CO2.txt\")\n",
    "# download .txt file containing temperature in degrees C\n",
    "Temp_C = np.loadtxt(fname = \"http://individual.utoronto.ca/sck/CHM210/A4/Temp.txt\")\n",
    "# download .txt file that contains hours of the day to help plot the data\n",
    "HOD = np.loadtxt(fname = \"http://individual.utoronto.ca/sck/CHM210/A4/HOD.txt\")\n",
    "\n",
    "#if your function works as intended, this is create an array with pH values\n",
    "pH_f = [pH(Temp_C[i], CO2[i]) for i in range(0,len(CO2))]\n",
    "\n",
    "# this will allow you to create a plot will all three curves on one graph\n",
    "# plot inputs are hour of day, temperature, atmospheric CO2 mixing ratios, and water pH\n",
    "from chm210_4 import Plot_A4\n",
    "Plot_A4(HOD, Temp_C, CO2, pH_f)\n",
    "\n",
    "##################################################\n",
    "# if your pH function does not work, you can plot temperature and CO2 on their own to answer Q5 with the below code \n",
    "# you will need to remove the comments from the below two lines for it to run if you need them\n",
    "#from chm210_4 import Plot_A4_2\n",
    "#Plot_A4_2(HOD, Temp_C, CO2)"
   ]
  },
  {
   "cell_type": "markdown",
   "metadata": {},
   "source": [
    "# Q5. What time of day would you expect to find the largest amount of solid  $CaCO_3$ and why? <i>(3 marks)</i>"
   ]
  },
  {
   "cell_type": "markdown",
   "metadata": {},
   "source": [
    "You would expect to find the largest amount of solid $CaCO_3$ when <b>solubility</b> is lowest which occurs when <b>$CO_2$ is at its minimum</b>, which occurs in this example around 15:00 (3pm). This is consistent with our net reaction,\n",
    "<img src=\"http://individual.utoronto.ca/sck/CHM210/A4/A4_sol_3.png\" alt = \"\">\n",
    "Solubility of $CaCO_3$ is being driven by $CO_2$.\n",
    "\n",
    "If you look at the below figure, you can see that solubility is govered by $CO_2$ mixing ratio and that temperature dependence is a minor factor."
   ]
  },
  {
   "cell_type": "code",
   "execution_count": 32,
   "metadata": {},
   "outputs": [
    {
     "data": {
      "text/plain": [
       "<matplotlib.legend.Legend at 0x52d56d8>"
      ]
     },
     "execution_count": 32,
     "metadata": {},
     "output_type": "execute_result"
    },
    {
     "data": {
      "image/png": "[encoded data removed]",
      "text/plain": [
       "<Figure size 576x288 with 1 Axes>"
      ]
     },
     "metadata": {
      "needs_background": "light"
     },
     "output_type": "display_data"
    }
   ],
   "source": [
    "solubility = [dissolvedCa(Temp_C[i], CO2[i]) for i in range(0,len(CO2))]\n",
    "sol_constanttemp = [dissolvedCa(5, CO2[i]) for i in range(0,len(CO2))]\n",
    "sol_constantCO2 = [dissolvedCa(Temp_C[i], 415) for i in range(0,len(CO2))]\n",
    "fig, sol = plt.subplots(1, 1, figsize=(8, 4))\n",
    "sol.plot(HOD, solubility, 'r-', label='$CaCO_3$ Solubility')\n",
    "sol.plot(HOD, sol_constanttemp, 'b-', label='$CaCO_3$ Solubility, fixed T = 5C')\n",
    "sol.plot(HOD, sol_constantCO2, 'g-', label='$CaCO_3$ Solubility, fixed $CO_2$ = 415ppm')\n",
    "sol.set_xlabel(\"Hour of Day\")\n",
    "sol.set_ylabel(\"Solublity (M)\")\n",
    "sol.legend(bbox_to_anchor=(1.05, 1), loc=2, borderaxespad=0.)"
   ]
  },
  {
   "cell_type": "markdown",
   "metadata": {},
   "source": [
    "***\n",
    "# Q6a. Calculate the total alkalinity of the system described in Q4k. <i>(4 marks)</i>\n",
    "\n",
    "# Answer to Q6a.\n",
    "***"
   ]
  },
  {
   "cell_type": "code",
   "execution_count": 15,
   "metadata": {},
   "outputs": [
    {
     "name": "stdout",
     "output_type": "stream",
     "text": [
      "1628.054 μM\n"
     ]
    }
   ],
   "source": [
    "def alkalinity_uM(T_C, PCO2_ppm):\n",
    "    T = T_C + 273.15\n",
    "    Ksp = 10**(-171.945 - 0.077993*T + 2903.293/T + 71.595*m.log10(T)) # (Mucci, 1983)\n",
    "    Kb = 2.1*10**(-4)\n",
    "    Kw = m.exp(148.9802 - 13847.26/T - 23.6521*m.log(T)) #(Dickson and Riley, 1979)\n",
    "    \n",
    "    S = dissolvedCa(T_C, PCO2_ppm)\n",
    "    HCO3 = 2*S\n",
    "    CO3 = Ksp/S\n",
    "    OH=Kb*CO3/HCO3\n",
    "    H=Kw/OH\n",
    "    return (2*CO3 + HCO3 + OH - H)*10**(6)\n",
    "print(round(alkalinity_uM(14, 415),3),\"μM\")"
   ]
  },
  {
   "cell_type": "markdown",
   "metadata": {},
   "source": [
    "***\n",
    "# Q6b. What does the alkalinity you calculated above tell us about the sensitivity of that body of water to acid rain? Why?<i>(2 marks)</i>\n",
    "\n",
    "# Answer to Q6b.\n",
    "***"
   ]
  },
  {
   "cell_type": "markdown",
   "metadata": {},
   "source": [
    "This is a high alkalinity value which means that this body of water has low sensitivity to acid rain (page 446 of your text book discusses the low/high sensitivity language). This means that this body of water has a large capacity to neutralize acids."
   ]
  }
 ],
 "metadata": {
  "kernelspec": {
   "display_name": "Python 3",
   "language": "python",
   "name": "python3"
  },
  "language_info": {
   "codemirror_mode": {
    "name": "ipython",
    "version": 3
   },
   "file_extension": ".py",
   "mimetype": "text/x-python",
   "name": "python",
   "nbconvert_exporter": "python",
   "pygments_lexer": "ipython3",
   "version": "3.7.3"
  }
 },
 "nbformat": 4,
 "nbformat_minor": 2
}
