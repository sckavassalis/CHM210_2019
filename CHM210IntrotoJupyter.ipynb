{
 "cells": [
  {
   "cell_type": "markdown",
   "metadata": {},
   "source": [
    "# CHM210 Chemistry of Environmental Change\n",
    "\n",
    "\n",
    "This is our introductory Jupyter notebook! Notebooks should start with a written introduction of the context and content that will be covered in the assignment. We can include inspiring images here like this GEOS-Chem simulation of global ozone from <a href=\"http://fizz.phys.dal.ca/~atmos/martin/?page_id=100\">Randall Martin's group</a>:"
   ]
  },
  {
   "cell_type": "markdown",
   "metadata": {},
   "source": [
    "<img src=\"http://fizz.phys.dal.ca/~atmos/animation/o3_movie.gif\">"
   ]
  },
  {
   "cell_type": "markdown",
   "metadata": {},
   "source": [
    "\n",
    "References can be <a href=\"http://www.chem.utoronto.ca/\">linked</a> <a href=\"http://www.chem.utoronto.ca/grad/\">here</a> to <a href=\"http://www.chem.utoronto.ca/undergrad/\">resources</a> that will help students with the assignment. \n",
    "\n",
    "To run code, press play/run or hold Ctrl-Enter on the simple example below:"
   ]
  },
  {
   "cell_type": "code",
   "execution_count": null,
   "metadata": {},
   "outputs": [],
   "source": [
    " print(\"this is an example of a simple print statement\")"
   ]
  },
  {
   "cell_type": "markdown",
   "metadata": {},
   "source": [
    "It's straightforward to do simple arithmetic,  "
   ]
  },
  {
   "cell_type": "code",
   "execution_count": null,
   "metadata": {},
   "outputs": [],
   "source": [
    "5+10"
   ]
  },
  {
   "cell_type": "markdown",
   "metadata": {},
   "source": [
    "And symbolic mathematics is easy to represent through LaTeX, ie. $e^{i\\pi} + 1 = 0$. \n",
    "\n",
    "Chemical reactions are straightforward to write in the same way: $2X_{(g)} \\rightarrow 3Y_{(g)} + 4Z_{(g)}$\n",
    "\n",
    "Simple markdown structures like tables are also easy to build:\n",
    "\n",
    "| Reaction | 2X   | 3y   | 4z   |\n",
    "|------|------|------|------|\n",
    "|   Initial amounts  | table| table| table|\n",
    "|   Change in amount  | table| table| table|\n",
    "|   Equilibrium amount  | table| table| table|"
   ]
  },
  {
   "cell_type": "markdown",
   "metadata": {},
   "source": [
    "We can do more advanced things where we call Python to help us."
   ]
  },
  {
   "cell_type": "code",
   "execution_count": 97,
   "metadata": {},
   "outputs": [],
   "source": [
    "import sys\n",
    "!{sys.executable} -m pip install scipy\n",
    "%matplotlib inline\n",
    "from ipywidgets import interactive, fixed"
   ]
  },
  {
   "cell_type": "markdown",
   "metadata": {},
   "source": [
    "Here are the Lorenz Equations\n",
    "\\begin{align}\n",
    "\\dot{x} & = \\sigma(y-x) \\\\\n",
    "\\dot{y} & = \\rho x - y - xz \\\\\n",
    "\\dot{z} & = -\\beta z + xy\n",
    "\\end{align}\n",
    "\n",
    "We can call in demos that we've built and saved outside the notebook like so, (run the below code by pressing the play/run button or by pressing Ctrl-Enter while in the box):"
   ]
  },
  {
   "cell_type": "code",
   "execution_count": null,
   "metadata": {},
   "outputs": [],
   "source": [
    "from lorenz import solve_lorenz\n",
    "w=interactive(solve_lorenz,sigma=(0.0,50.0),rho=(0.0,50.0))\n",
    "w"
   ]
  },
  {
   "cell_type": "markdown",
   "metadata": {},
   "source": [
    "We can easily do simple calculations. The below code will calculate the average positions in  𝑥, 𝑦, and 𝑧 directions for the above figure. If you change any of the input settings, you'll have to re-run the below code to see the results change."
   ]
  },
  {
   "cell_type": "code",
   "execution_count": null,
   "metadata": {},
   "outputs": [],
   "source": [
    "t, x_t = w.result\n",
    "xyz_avg = x_t.mean(axis=1)\n",
    "print(xyz_avg)"
   ]
  },
  {
   "cell_type": "markdown",
   "metadata": {},
   "source": [
    "We can make all manner of standard plots, like histograms (below is a histogram of average positions in the x-direction)"
   ]
  },
  {
   "cell_type": "code",
   "execution_count": null,
   "metadata": {},
   "outputs": [],
   "source": [
    "from matplotlib import pyplot as plt\n",
    "plt.hist(xyz_avg[:,0])\n",
    "plt.title('Average $x(t)$');"
   ]
  },
  {
   "cell_type": "markdown",
   "metadata": {},
   "source": [
    "It's also straightforward to load in outside data"
   ]
  },
  {
   "cell_type": "code",
   "execution_count": 96,
   "metadata": {},
   "outputs": [],
   "source": [
    "import pandas as pd\n",
    "import numpy as np\n",
    "from pandas import Series, DataFrame, Panel\n",
    "pd.set_option('display.max_rows',15) # this limit maximum numbers of rows"
   ]
  },
  {
   "cell_type": "markdown",
   "metadata": {},
   "source": [
    "Let's load some data from NOAA on the Arctic Oscillation (AO) and North Atlantic Oscillation (NAO) data sets (this data was provided here: https://nbviewer.jupyter.org/github/koldunovn/earthpy.org/blob/master/content/earthpy_pandas_basics.ipynb)."
   ]
  },
  {
   "cell_type": "code",
   "execution_count": null,
   "metadata": {},
   "outputs": [],
   "source": [
    "#!curl http://www.cpc.ncep.noaa.gov/products/precip/CWlink/daily_ao_index/monthly.ao.index.b50.current.ascii >> 'monthly.ao.index.b50.current.ascii'\n",
    "!wget http://www.cpc.ncep.noaa.gov/products/precip/CWlink/daily_ao_index/monthly.ao.index.b50.current.ascii\n",
    "ao = np.loadtxt('monthly.ao.index.b50.current.ascii')"
   ]
  },
  {
   "cell_type": "markdown",
   "metadata": {},
   "source": [
    "Let's look at some time series plots now (code will be heavily commented for student use, this is just a quick demo of capabities)"
   ]
  },
  {
   "cell_type": "code",
   "execution_count": null,
   "metadata": {},
   "outputs": [],
   "source": [
    "dates = pd.date_range('1950-01', periods=ao.shape[0], freq='M')\n",
    "AO = Series(ao[:,2], index=dates)\n",
    "AO.plot()"
   ]
  },
  {
   "cell_type": "markdown",
   "metadata": {},
   "source": [
    "We can look at subplots easily"
   ]
  },
  {
   "cell_type": "code",
   "execution_count": null,
   "metadata": {},
   "outputs": [],
   "source": [
    "AO['1980-05':'1981-03'].plot()"
   ]
  },
  {
   "cell_type": "markdown",
   "metadata": {},
   "source": [
    "And we can compare different time series (we'll load up some more data first)"
   ]
  },
  {
   "cell_type": "code",
   "execution_count": null,
   "metadata": {},
   "outputs": [],
   "source": [
    "#!curl http://www.cpc.ncep.noaa.gov/products/precip/CWlink/pna/norm.nao.monthly.b5001.current.ascii >> 'norm.nao.monthly.b5001.current.ascii'\n",
    "!wget http://www.cpc.ncep.noaa.gov/products/precip/CWlink/pna/norm.nao.monthly.b5001.current.ascii\n",
    "nao = np.loadtxt('norm.nao.monthly.b5001.current.ascii')\n",
    "dates_nao = pd.date_range('1950-01', periods=nao.shape[0], freq='M')\n",
    "NAO = Series(nao[:,2], index=dates_nao)\n",
    "aonao = DataFrame({'AO' : AO, 'NAO' : NAO})"
   ]
  },
  {
   "cell_type": "markdown",
   "metadata": {},
   "source": [
    "And now plot them both side by side"
   ]
  },
  {
   "cell_type": "code",
   "execution_count": null,
   "metadata": {},
   "outputs": [],
   "source": [
    "aonao.plot(subplots=True)"
   ]
  },
  {
   "cell_type": "markdown",
   "metadata": {},
   "source": [
    "We can look at more complex data visualizations too (example from http://earthpy.org/05_Graphs_and_maps_Matplotlib_and_Basemap.html)"
   ]
  },
  {
   "cell_type": "code",
   "execution_count": null,
   "metadata": {},
   "outputs": [],
   "source": [
    "from scipy.io import netcdf\n",
    "!wget http://schubert.atmos.colostate.edu/~cslocum/code/air.sig995.2012.nc\n",
    "f =netcdf.netcdf_file('air.sig995.2012.nc')"
   ]
  },
  {
   "cell_type": "markdown",
   "metadata": {},
   "source": [
    "Now we can plot global air temperature from the NMC reanalysis"
   ]
  },
  {
   "cell_type": "code",
   "execution_count": null,
   "metadata": {},
   "outputs": [],
   "source": [
    "air = f.variables['air']\n",
    "lat = f.variables['lat'][:]\n",
    "lon = f.variables['lon'][:]\n",
    "air_c = ((air[:] * air.scale_factor) + air.add_offset) - 273.15\n",
    "imshow(air_c[0,:,:])\n",
    "colorbar()"
   ]
  },
  {
   "cell_type": "markdown",
   "metadata": {},
   "source": [
    "We can also include complex code to look at fun things like gas-phase kinetics. Below is the code created by Elijah G. Schnitzler for CHM210 in 2018 as part of the CTFP program. (I'll need to add a \"codefolding\" command in here so the entire piece of code doesn't display at once)."
   ]
  },
  {
   "cell_type": "code",
   "execution_count": null,
   "metadata": {},
   "outputs": [],
   "source": [
    "# Step 1: Select model condition:\n",
    "#   1. NO2 photolysis\n",
    "#   2. NOx cycle + O3 cycle\n",
    "#   3. NOx cycle + O3 cycle + VOC reactions\n",
    "\n",
    "Condition = 3 #select 1-3\n",
    "\n",
    "# Step 2: Adjust initial mixing ratios (in ppb).\n",
    "\n",
    "NO2 = 1\n",
    "NO = 10\n",
    "VOC = 20\n",
    "\n",
    "# Note that the VOC mixing ratio is divided equally between alkanes and aldehydes.\n",
    "# Please do not adjust parameters below this line.\n",
    "\n",
    "import numpy as np\n",
    "import matplotlib.pyplot as plt\n",
    "from scipy.integrate import odeint\n",
    "from math import exp\n",
    "\n",
    "cNO2i = NO2*0.001\n",
    "cNOi = NO*0.001\n",
    "cRHi = VOC/2*0.001\n",
    "cRCHOi = VOC/2*0.001\n",
    "\n",
    "T = 298\n",
    "\n",
    "if Condition < 3:\n",
    "  Time = 60\n",
    "  Step = 0.1\n",
    "else:\n",
    "  Time = 600\n",
    "  Step = 1\n",
    "\n",
    "if Condition == 1:\n",
    "  def Rxn(Z,t):\n",
    "      # All rate constants and rates are expressed in units of min and ppm.\n",
    "      k_1 = 0.5 # no2 + hv\n",
    "      J_1 = k_1 * Z[0] # no2\n",
    "      dNO2dt = - J_1\n",
    "      return[dNO2dt]\n",
    "  \n",
    "  t = np.arange(0,Time,Step)\n",
    "  \n",
    "  Z0 = [cNO2i]\n",
    "  Conc = odeint(Rxn,Z0,t)\n",
    "  \n",
    "  cNO2 = Conc[:,0]*1000\n",
    "  \n",
    "  if cNO2[599] > 1:\n",
    "    cNO2f = float(\"{0:.1f}\".format(cNO2[599]))\n",
    "  else:\n",
    "    cNO2f = float(\"{0:.1f}\".format(0))\n",
    "\n",
    "  plt.plot(t,cNO2)\n",
    "\n",
    "  plt.title('Mixing ratios of constituents of photochemical smog')\n",
    "  plt.xlabel('Reaction time / min')\n",
    "  plt.ylabel('Mixing ratio / ppb')\n",
    "  plt.legend(('NO2',))\n",
    "  plt.annotate(cNO2f,(55,cNO2[599]),color='C0',weight='bold')\n",
    "  plt.show()\n",
    "\n",
    "if Condition == 2:\n",
    "  def Rxn(Z,t):\n",
    "      # All rate constants and rates are expressed in units of min and ppm.\n",
    "      k_1 = 0.5 # no2 + hv\n",
    "      k_2 = 60*2.46E13*2.46E13*6.0E-34*(T/300)**(-2.3) # o + o2 (+ m)\n",
    "      k_3 = 60*2.46E13*2.2E-12*exp(-1430/T) # no + o3\n",
    "      J_1 = k_1 * Z[0] # no2\n",
    "      J_2 = k_2 * Z[1] * Z[2] # o * o2\n",
    "      J_3 = k_3 * Z[3] * Z[4] # no * o3\n",
    "      dNO2dt = - J_1 + J_3\n",
    "      dOdt = J_1 - J_2\n",
    "      dO2dt = - J_2 + J_3\n",
    "      dNOdt = J_1 - J_3\n",
    "      dO3dt = J_2 - J_3\n",
    "      return[dNO2dt,dOdt,dO2dt,dNOdt,dO3dt]\n",
    "  \n",
    "  t = np.arange(0,Time,Step)\n",
    "  \n",
    "  Z0 = [cNO2i,0,0.21E6,cNOi,0]\n",
    "  Conc = odeint(Rxn,Z0,t)\n",
    "  \n",
    "  cNO2 = Conc[:,0]*1000\n",
    "  cO = Conc[:,1]*1000\n",
    "  cO2 = Conc[:,2]*1000\n",
    "  cNO = Conc[:,3]*1000\n",
    "  cO3 = Conc[:,4]*1000\n",
    "  \n",
    "  cNO2f = float(\"{0:.1f}\".format(cNO2[599]))\n",
    "  cNOf = float(\"{0:.1f}\".format(cNO[599]))\n",
    "  cO3f = float(\"{0:.1f}\".format(cO3[599]))\n",
    "  \n",
    "  plt.plot(t,cNO2)\n",
    "  #plt.plot(t,cO)\n",
    "  #plt.plot(t,cO2)\n",
    "  plt.plot(t,cNO)\n",
    "  plt.plot(t,cO3)\n",
    "  \n",
    "  plt.title('Mixing ratios of constituents of photochemical smog')\n",
    "  plt.xlabel('Reaction time / min')\n",
    "  plt.ylabel('Mixing ratio / ppb')\n",
    "  plt.legend(('NO2','NO','O3'))\n",
    "  plt.annotate(cNO2f,(55,cNO2[599]),color='C0',weight='bold')\n",
    "  plt.annotate(cNOf,(55,cNO[599]),color='C1',weight='bold')\n",
    "  plt.annotate(cO3f,(55,cO3[599]),color='C2',weight='bold')\n",
    "  plt.show()\n",
    "\n",
    "if Condition == 3:\n",
    "  def Rxn(Z,t):\n",
    "      # All rate constants and rates are expressed in units of min and ppm.\n",
    "      k_1 = 0.5 # no2 + hv\n",
    "      k_2 = 60*2.46E13*2.46E13*6.0E-34*(T/300)**(-2.3) # o + o2 (+ m)\n",
    "      k_3 = 60*2.46E13*2.2E-12*exp(-1430/T) # no + o3\n",
    "      k_4 = 60*2.46E13*1.68E-11*exp(-559/T) # rh + oh\n",
    "      k_5a = 60*2.46E13*6.9E-12*exp(250/T) # rcho + oh\n",
    "      k_5b = 1.91E-4 # rcho + hv\n",
    "      k_6 = 60*2.46E13*3.7E-12*exp(240/T) # ho2 + no\n",
    "      k_7 = 60*2.46E13*4.2E-12*exp(180/T) # ro2 + no\n",
    "      k_8 = 60*2.46E13*4.2E-12*exp(180/T) # rc(o)o2 + no\n",
    "      k_9 = 60*2.46E13*1.1E-11 # oh + no2\n",
    "      k_10 = 60*2.46E13*4.7E-12 # rc(o)o2 + no2\n",
    "      k_11 = 60*1.95E16*exp(-13543/T) # rc(o)o2no2 decomposition\n",
    "      J_1 = k_1 * Z[0] # no2\n",
    "      J_2 = k_2 * Z[1] * Z[2] # o * o2\n",
    "      J_3 = k_3 * Z[3] * Z[4] # no * o3\n",
    "      J_4 = k_4 * Z[5] * Z[6] # rh * oh\n",
    "      J_5a = k_5a * Z[7] * Z[6] # rcho * oh\n",
    "      J_5b = k_5b * Z[7] # rcho\n",
    "      J_6 = k_6 * Z[8] * Z[3] # ho2 * no\n",
    "      J_7 = k_7 * Z[9] * Z[3] # ro2 * no\n",
    "      J_8 = k_8 * Z[10] * Z[3] # rc(o)o2 * no\n",
    "      J_9 = k_9 * Z[6] * Z[0] # oh * no2\n",
    "      J_10 = k_10 * Z[10] * Z[0] # rc(o)o2 * no2\n",
    "      J_11 = k_11 * Z[11] # rc(o)o2no2\n",
    "      dNO2dt = - J_1 + J_3 + J_6 + J_7 + J_8 - J_9 - J_10 + J_11\n",
    "      dOdt = J_1 - J_2\n",
    "      dO2dt = - J_2 + J_3\n",
    "      dNOdt = J_1 - J_3 - J_6 - J_7 - J_8\n",
    "      dO3dt = J_2 - J_3\n",
    "      dRHdt = - J_4\n",
    "      dOHdt = - J_4 - J_5a + J_6 - J_9\n",
    "      dRCHOdt = - J_5a - J_5b + J_7\n",
    "      dHO2dt = J_5b - J_6 + J_7\n",
    "      dRO2dt = J_4 + J_5b - J_7 + J_8\n",
    "      dRCOO2dt = J_5a - J_8 - J_10 + J_11\n",
    "      dRCOO2NO2dt = J_10 - J_11\n",
    "      dHNO3dt = J_9\n",
    "      return[dNO2dt,dOdt,dO2dt,dNOdt,dO3dt,dRHdt,dOHdt,dRCHOdt,dHO2dt,dRO2dt,dRCOO2dt,dRCOO2NO2dt,dHNO3dt]\n",
    "  \n",
    "  t = np.arange(0,Time,Step)\n",
    "  \n",
    "  Z0 = [cNO2i,0,0.21E6,cNOi,0,cRHi,0,cRCHOi,0,0,0,0,0]\n",
    "  Conc = odeint(Rxn,Z0,t)\n",
    "  \n",
    "  cNO2 = Conc[:,0]*1000\n",
    "  cO = Conc[:,1]*1000\n",
    "  cO2 = Conc[:,2]*1000\n",
    "  cNO = Conc[:,3]*1000\n",
    "  cO3 = Conc[:,4]*1000\n",
    "  cRH = Conc[:,5]*1000\n",
    "  cOH = Conc[:,6]*1000\n",
    "  cRCHO = Conc[:,7]*1000\n",
    "  cHO2 = Conc[:,8]*1000\n",
    "  cRO2 = Conc[:,9]*1000\n",
    "  cRCOO2 = Conc[:,10]*1000\n",
    "  cRCOO2NO2 = Conc[:,11]*1000\n",
    "  cHNO3 = Conc[:,12]*1000\n",
    "  \n",
    "  cNO2f = float(\"{0:.1f}\".format(cNO2[599]))\n",
    "  cNOf = float(\"{0:.1f}\".format(cNO[599]))\n",
    "  cO3f = float(\"{0:.1f}\".format(cO3[599]))\n",
    "  cRHf = float(\"{0:.1f}\".format(cRH[599]))\n",
    "  cRCHOf = float(\"{0:.1f}\".format(cRCHO[599]))\n",
    "  \n",
    "  plt.plot(t,cNO2)\n",
    "  #plt.plot(t,cO)\n",
    "  #plt.plot(t,cO2)\n",
    "  plt.plot(t,cNO)\n",
    "  plt.plot(t,cO3)\n",
    "  plt.plot(t,cRH)\n",
    "  plt.plot(t,cRCHO)\n",
    "  #plt.plot(t,cOH)\n",
    "  #plt.plot(t,cHO2)\n",
    "  #plt.plot(t,cRCOO2)\n",
    "  #plt.plot(t,cRCOO2NO2)\n",
    "  #plt.plot(t,cHNO3)\n",
    "  \n",
    "  plt.title('Mixing ratios of constituents of photochemical smog')\n",
    "  plt.xlabel('Reaction time / min')\n",
    "  plt.ylabel('Mixing ratio / ppb')\n",
    "  plt.legend(('NO2','NO','O3','RH','RCHO'))\n",
    "  plt.annotate(cNO2f,(550,cNO2[599]),color='C0',weight='bold')\n",
    "  plt.annotate(cNOf,(550,cNO[599]),color='C1',weight='bold')\n",
    "  plt.annotate(cO3f,(550,cO3[599]),color='C2',weight='bold')\n",
    "  plt.annotate(cRHf,(550,cRH[599]),color='C3',weight='bold')\n",
    "  plt.annotate(cRCHOf,(550,cRCHO[599]),color='C4',weight='bold')\n",
    "  plt.show()\n"
   ]
  }
 ],
 "metadata": {
  "kernelspec": {
   "display_name": "Python 3",
   "language": "python",
   "name": "python3"
  },
  "language_info": {
   "codemirror_mode": {
    "name": "ipython",
    "version": 3
   },
   "file_extension": ".py",
   "mimetype": "text/x-python",
   "name": "python",
   "nbconvert_exporter": "python",
   "pygments_lexer": "ipython3",
   "version": "3.6.8"
  }
 },
 "nbformat": 4,
 "nbformat_minor": 2
}
