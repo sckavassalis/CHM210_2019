{
 "cells": [
  {
   "cell_type": "markdown",
   "metadata": {},
   "source": [
    "# CHM210 Assignment 2: Tropospheric Chemistry\n",
    "\n",
    "Welcome to the second assignment for CHM210. We are going to use a <a href=\"https://jupyter4edu.github.io/jupyter-edu-book/\">Jupyter notebook</a> with Python to investigate some properties of tropospheric chemistry and photochemical smog. All of your answers will be completed within this document (changes you make are saved into your personal https://utoronto.syzygy.ca account, so don't worry about editing this file). There are a lot of free, online resources out there to help you with Jupyter and Python. I recommend Christian Hill's <a href=\"https://scipython.com/book/\">\"Learning Scientific Programming with Python\"</a>. The chemistry content of this assignment should follow your textbook and lecture notes, but for those wanting additional materials, Daniel Jacob's <a href=\"http://acmg.seas.harvard.edu/people/faculty/djj/book/\">\"Introduction to Atmospheric Chemistry\"</a> is freely available online and has a couple relevant chapters for this assignment (Ch11. <a href=\"http://acmg.seas.harvard.edu/people/faculty/djj/book/bookchap11.html#pgfId=998914\">\"Oxidizing Power of the Troposphere</a> and Ch12. <a href=\"http://acmg.seas.harvard.edu/people/faculty/djj/book/bookchap12.html#pgfId=147850\">\"Ozone Air Pollution\"</a>).\n",
    "\n",
    "After completing this assignment, you should be able to explain and understand the major processes responsible for producing photochemical smog (ozone pollution) and describe the challenges involved in ozone control. \n",
    "\n",
    "First things first, we need to import the Python modules we will be using for this assignment. Press the \"Run\" button (or ctrl-enter) on the box below to import the packages we need. If done successfully, the \"You have imported the above packages!\" text will display below. \n",
    "\n",
    "## Importing Python modules"
   ]
  },
  {
   "cell_type": "code",
   "execution_count": 1,
   "metadata": {},
   "outputs": [
    {
     "name": "stdout",
     "output_type": "stream",
     "text": [
      "You have imported the above modules!\n"
     ]
    }
   ],
   "source": [
    "%matplotlib inline\n",
    "from ipywidgets import interact, interactive\n",
    "from IPython.display import clear_output, display, HTML\n",
    "\n",
    "import numpy as np\n",
    "import math as m\n",
    "from scipy import integrate\n",
    "\n",
    "from matplotlib import pyplot as plt\n",
    "from mpl_toolkits.mplot3d import Axes3D\n",
    "from matplotlib.colors import cnames\n",
    "from matplotlib import animation\n",
    "print(\"You have imported the above modules!\")"
   ]
  },
  {
   "cell_type": "markdown",
   "metadata": {},
   "source": [
    "# Q1. What molecule initiates the oxidation of most pollutants in the atmosphere? (1 mark)\n",
    "\n",
    "# Answer to Q1:\n",
    "***"
   ]
  },
  {
   "cell_type": "markdown",
   "metadata": {},
   "source": [
    "[double click and type your answer to Q1 here]"
   ]
  },
  {
   "cell_type": "markdown",
   "metadata": {},
   "source": [
    "***\n",
    "# Looking at the gas-phase oxidation scheme for methane: \n",
    "\\begin{align}\n",
    "CH_4 + OH & \\rightarrow CH_3 + H_2O & (R1)\\\\\n",
    "CH_3 + O_2 + M & \\rightarrow CH_3O_2 + M & (R2)\\\\\n",
    "CH_3O_2 + NO & \\rightarrow CH_3O + NO_2 & (R3)\\\\\n",
    "CH_3O + O_2 & \\rightarrow H_2CO + HO_2 & (R4)\\\\\n",
    "H_2CO + OH & \\rightarrow CHO + H_2O & (R5)\\\\\n",
    "H_2CO + h\\nu & \\rightarrow  CHO + H & (R6)\\\\\n",
    "CHO + O_2 & \\rightarrow  CO + HO_2 & (R7)\\\\\n",
    "H + O_2 + M & \\rightarrow HO_2 + M & (R8)\\\\\n",
    "HO_2 + NO & \\rightarrow OH + NO_2 & (R9)\\\\\n",
    "NO_2 + h\\nu & \\rightarrow  NO +O & (R10)\\\\\n",
    “NO_2 + OH + M & \\rightarrow HNO_3 + M (R11)\\\\\n”,
    "O + O_2 + M & \\rightarrow O_3 + M & (R12)\\\\\n",
    "NO + O_3 & \\rightarrow NO_2 + O_2& (R13) \\\\\n",
    "O_3 + h\\nu & \\rightarrow O_2 + O(^1D)& (R14) \\\\\n",
    "O(^1D) + M & \\rightarrow O + M& (R15) \\\\\n",
    "O(^1D) + H_2O &\\rightarrow 2OH & (R16)\n",
    "\\end{align}\n",
    "# Q2a. Provide an example of a radical initiation reaction (1 mark)\n",
    "\n",
    "# Answer to Q2a :\n",
    "***"
   ]
  },
  {
   "cell_type": "markdown",
   "metadata": {},
   "source": [
    "[double click and type your answer to Q2a here]"
   ]
  },
  {
   "cell_type": "markdown",
   "metadata": {},
   "source": [
    "***\n",
    "# Q2b. Provide an example of a radical propagation reaction (1 mark)\n",
    "# Answer to Q2b:\n",
    "***"
   ]
  },
  {
   "cell_type": "markdown",
   "metadata": {},
   "source": [
    "[double click and type your answer to Q2b here]"
   ]
  },
  {
   "cell_type": "markdown",
   "metadata": {},
   "source": [
    "***\n",
    "# Q2c. Provide an example of a radical termination reaction (1 mark)\n",
    "# Answer to Q2c:\n",
    "***"
   ]
  },
  {
   "cell_type": "markdown",
   "metadata": {},
   "source": [
    "[double click and type your answer to Q2c here]"
   ]
  },
  {
   "cell_type": "markdown",
   "metadata": {},
   "source": [
    "***\n",
    "# Q2d. What are the primary sources of $HO_x$ in the troposphere? (2 marks)\n",
    "# Answer to Q2d:\n",
    "***"
   ]
  },
  {
   "cell_type": "markdown",
   "metadata": {},
   "source": [
    "[double click and type your answer to Q2d here]"
   ]
  },
  {
   "cell_type": "markdown",
   "metadata": {},
   "source": [
    "***\n",
    "# Q2e. What are the two different initial steps by which atmospheric formaldehyde, $H_2CO$, is decomposed in the troposphere? (2 marks)\n",
    "# Answer to Q2e.\n",
    "***"
   ]
  },
  {
   "cell_type": "markdown",
   "metadata": {},
   "source": [
    "[double click and type your answer to Q2e here]"
   ]
  },
  {
   "cell_type": "markdown",
   "metadata": {},
   "source": [
    "***\n",
    "\n",
    "Now let's talk about photochemical smog.\n",
    "\n",
    "# Q3a. For one molecule of methane, how many molecules of ozone would be produced?  Explain your reasoning. (2 marks)\n",
    "# Answer to Q3a:\n",
    "***"
   ]
  },
  {
   "cell_type": "markdown",
   "metadata": {},
   "source": [
    "[double click and type your answer to Q3a here]"
   ]
  },
  {
   "cell_type": "markdown",
   "metadata": {},
   "source": [
    "***\n",
    "# Q3b. What is meant by the terms \"VOC-limited\" and \"NOx-limited\" when applied to geographic regions? (2 marks)\n",
    "# Answer to Q3b:\n",
    "***"
   ]
  },
  {
   "cell_type": "markdown",
   "metadata": {},
   "source": [
    "[double click and type your answer to Q3b here]"
   ]
  },
  {
   "cell_type": "markdown",
   "metadata": {},
   "source": [
    "***\n",
    "Run the below code to bring up an interactive ozone-isopleth graph. The contours are plotted showing the ozone production rate (in ppb/hr), the y-axis is VOC reactivity, which is a measure that takes into account both the concentration of volatile organic compound as well as their reaction rates (for the initiation step: $OH + VOC + O_2 \\rightarrow H_2O + RO_2$), the x-axis is the $NO_2$ mixing ratio on a log scale (so a value of -1 means we have $10^{-1} = 0.1$ ppb of $NO_2$ and similarly a value of +1 means we have $10^{1} = 10$ ppb of $NO_2$). \n",
    "\n",
    "The variables that can be changed are ambient temperature (<b>temp_K</b>) in units of Kelvin, relative humidty (<b>RH_percent</b>) as a percentage, ozone (<b>ozone_ppb</b>) in ppbv, formaldehyde (<b>H2CO_ppb</b>) in ppbv, and hour of day (<b>hour_of_day</b>) in 24 hour time."
   ]
  },
  {
   "cell_type": "code",
   "execution_count": 2,
   "metadata": {},
   "outputs": [
    {
     "data": {
      "application/vnd.jupyter.widget-view+json": {
       "model_id": "3fce583fe3e44648974311787d3b5994",
       "version_major": 2,
       "version_minor": 0
      },
      "text/plain": [
       "interactive(children=(IntSlider(value=273, description='temp_K', max=323, min=243), IntSlider(value=70, descri…"
      ]
     },
     "metadata": {},
     "output_type": "display_data"
    }
   ],
   "source": [
    "from chm210_2 import ozone_prod_contours\n",
    "w = interactive(ozone_prod_contours, temp_K=(243, 323), RH_percent=(5,100), ozone_ppb=(10,150), H2CO_ppb=(.1,10), hour_of_day=(0,23))\n",
    "display(w)"
   ]
  },
  {
   "cell_type": "markdown",
   "metadata": {},
   "source": [
    "# Q3c. With default settings (temp_K = 273, RH_percent = 70, ozone_ppb = 60, H2CO_ppb = 4, hour_of_day = 12), does the ozone production rate increase, decrease, or remain constant as we move from 50 ppb of $NO_2$ to 5 ppb $NO_2$ while keeping the VOC reactivity fixed (1 mark)\n",
    "\n",
    "# Answer to Q3c:\n",
    "***"
   ]
  },
  {
   "cell_type": "markdown",
   "metadata": {},
   "source": [
    "[double click and type your answer to Q3c here]"
   ]
  },
  {
   "cell_type": "markdown",
   "metadata": {},
   "source": [
    "***\n",
    "# Q3d. With default settings (temp_K = 273, RH_percent = 70, ozone_ppb = 60, H2CO_ppb = 4, hour_of_day = 12), does the ozone production rate increase, decrease, or remain constant as we move from 1 ppb of $NO_2$ to 0.1 ppb $NO_2$ while keeping the VOC reactivity fixed (1 mark)\n",
    "\n",
    "# Answer to Q3d:\n",
    "***"
   ]
  },
  {
   "cell_type": "markdown",
   "metadata": {},
   "source": [
    "[double click and type your answer to Q3d here]"
   ]
  },
  {
   "cell_type": "markdown",
   "metadata": {},
   "source": [
    "***\n",
    "Now try changing some of the variables to see what happens to ozone production. Pay close attention to the upper bound on the ozone production colour scale as that will change as you change settings. "
   ]
  },
  {
   "cell_type": "markdown",
   "metadata": {},
   "source": [
    "# Q3e. Decribe what happens to ozone production when temperature is changed from -20C to 30C. By referencing what you know about the relevant chemistry, explain why ambient temperature would affect ozone production (3 marks)\n",
    "# Answer to Q3e:\n",
    "***"
   ]
  },
  {
   "cell_type": "markdown",
   "metadata": {},
   "source": [
    "[double click and type your answer to Q3e here]"
   ]
  },
  {
   "cell_type": "markdown",
   "metadata": {},
   "source": [
    "***\n",
    "# Q3f. Decribe what happens to ozone production when relative humidity is changed from 10% to 90%. By referencing what you know about the relevant chemistry, explain why relative humidity would affect ozone production.  (3 marks)\n",
    "# Answer to Q3f:\n",
    "***"
   ]
  },
  {
   "cell_type": "markdown",
   "metadata": {},
   "source": [
    "[double click and type your answer to Q3f here]"
   ]
  },
  {
   "cell_type": "markdown",
   "metadata": {},
   "source": [
    "***\n",
    "# Q3g. Decribe what happens to ozone production when the ozone mixing ratio is changed from 30ppb to 100ppb. By referencing what you know about the relevant chemistry, explain why the ambient ozone concentration would affect ozone production.  (3 marks)\n",
    "# Answer to Q3g:\n",
    "***"
   ]
  },
  {
   "cell_type": "markdown",
   "metadata": {},
   "source": [
    "[double click and type your answer to Q3g here]"
   ]
  },
  {
   "cell_type": "markdown",
   "metadata": {},
   "source": [
    "***\n",
    "# Q3h. Decribe what happens to ozone production when the formaldehyde mixing ratio is changed from 0.5ppb to 10ppb By referencing what you know about the relevant chemistry, explain why the ambient formaldehyde concentration would affect ozone production.  (3 marks)\n",
    "# Answer to Q3h:\n",
    "***"
   ]
  },
  {
   "cell_type": "markdown",
   "metadata": {},
   "source": [
    "[double click and type your answer to Q3h here]"
   ]
  },
  {
   "cell_type": "markdown",
   "metadata": {},
   "source": [
    "***\n",
    "# Q3i. Decribe what happens to ozone production when the hour of day is changed from 06:00 to 12:00. By referencing what you know about the relevant chemistry, explain why hour of the day would affect ozone production.  (3 marks)\n",
    "# Answer to Q3i:\n",
    "***"
   ]
  },
  {
   "cell_type": "markdown",
   "metadata": {},
   "source": [
    "[double click and type your answer to Q3i here]"
   ]
  },
  {
   "cell_type": "markdown",
   "metadata": {},
   "source": [
    "***\n",
    "# Q3j. Give two examples of strategies by which urban ozone reductions are attempted and explain the challenges in achieving those reductions (which reference to the chemistry)  (4 marks)\n",
    "# Answer to Q3j:\n",
    "***"
   ]
  },
  {
   "cell_type": "markdown",
   "metadata": {},
   "source": [
    "[double click and type your answer to Q3j here]"
   ]
  },
  {
   "cell_type": "markdown",
   "metadata": {},
   "source": [
    "***\n",
    "When you have finished your assignment, you need to save it as a PDF and submit that PDF on Quercus. In your Jupyter Notebook, goto File --> Download ad --> PDF via LaTeX (.pdf)\n",
    "<img src=\"http://individual.utoronto.ca/sck/CHM210/save2pdf.jpg\">\n",
    "\n",
    "If you have technical questions related to Python or Jupyter, contact Sarah Kavassalis (sarah.kavassalis@mail.utoronto.ca).\n"
   ]
  }
 ],
 "metadata": {
  "kernelspec": {
   "display_name": "Python 3",
   "language": "python",
   "name": "python3"
  },
  "language_info": {
   "codemirror_mode": {
    "name": "ipython",
    "version": 3
   },
   "file_extension": ".py",
   "mimetype": "text/x-python",
   "name": "python",
   "nbconvert_exporter": "python",
   "pygments_lexer": "ipython3",
   "version": "3.7.3"
  }
 },
 "nbformat": 4,
 "nbformat_minor": 2
}
